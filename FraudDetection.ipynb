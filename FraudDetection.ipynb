{
 "cells": [
  {
   "cell_type": "code",
   "id": "initial_id",
   "metadata": {
    "collapsed": true,
    "ExecuteTime": {
     "end_time": "2024-05-12T12:42:40.996593Z",
     "start_time": "2024-05-12T12:42:40.991829Z"
    }
   },
   "source": [
    "import matplotlib.pyplot as plt\n",
    "import numpy as np\n",
    "import pandas as pd\n",
    "import seaborn as sns"
   ],
   "outputs": [],
   "execution_count": 50
  },
  {
   "metadata": {
    "ExecuteTime": {
     "end_time": "2024-05-12T09:12:03.486523Z",
     "start_time": "2024-05-12T09:12:00.277620Z"
    }
   },
   "cell_type": "code",
   "source": "df = pd.read_csv('fraudTrain.csv')",
   "id": "2ed4dc16a46a70d6",
   "outputs": [],
   "execution_count": 3
  },
  {
   "metadata": {
    "ExecuteTime": {
     "end_time": "2024-05-12T09:12:04.185868Z",
     "start_time": "2024-05-12T09:12:04.141952Z"
    }
   },
   "cell_type": "code",
   "source": "df.head()",
   "id": "5a810b011097e902",
   "outputs": [
    {
     "data": {
      "text/plain": [
       "   ID           Time   Card Number                            merchant  \\\n",
       "0   0  1/1/2019 0:00  2.700000e+15          fraud_Rippin, Kub and Mann   \n",
       "1   1  1/1/2019 0:00  6.300000e+11     fraud_Heller, Gutmann and Zieme   \n",
       "2   2  1/1/2019 0:00  3.890000e+13                fraud_Lind-Buckridge   \n",
       "3   3  1/1/2019 0:01  3.530000e+15  fraud_Kutch, Hermiston and Farrell   \n",
       "4   4  1/1/2019 0:03  3.760000e+14                 fraud_Keeling-Crist   \n",
       "\n",
       "        category  Amount  firstName lastName  \\\n",
       "0       misc_net    4.97   Jennifer    Banks   \n",
       "1    grocery_pos  107.23  Stephanie     Gill   \n",
       "2  entertainment  220.11     Edward  Sanchez   \n",
       "3  gas_transport   45.00     Jeremy    White   \n",
       "4       misc_pos   41.96      Tyler   Garcia   \n",
       "\n",
       "                          trans_num  is_fraud  \n",
       "0  0b242abb623afc578575680df30655b9       0.0  \n",
       "1  1f76529f8574734946361c461b024d99       0.0  \n",
       "2  a1a22d70485983eac12b5b88dad1cf95       0.0  \n",
       "3  6b849c168bdad6f867558c3793159a81       0.0  \n",
       "4  a41d7549acf90789359a9aa5346dcb46       0.0  "
      ],
      "text/html": [
       "<div>\n",
       "<style scoped>\n",
       "    .dataframe tbody tr th:only-of-type {\n",
       "        vertical-align: middle;\n",
       "    }\n",
       "\n",
       "    .dataframe tbody tr th {\n",
       "        vertical-align: top;\n",
       "    }\n",
       "\n",
       "    .dataframe thead th {\n",
       "        text-align: right;\n",
       "    }\n",
       "</style>\n",
       "<table border=\"1\" class=\"dataframe\">\n",
       "  <thead>\n",
       "    <tr style=\"text-align: right;\">\n",
       "      <th></th>\n",
       "      <th>ID</th>\n",
       "      <th>Time</th>\n",
       "      <th>Card Number</th>\n",
       "      <th>merchant</th>\n",
       "      <th>category</th>\n",
       "      <th>Amount</th>\n",
       "      <th>firstName</th>\n",
       "      <th>lastName</th>\n",
       "      <th>trans_num</th>\n",
       "      <th>is_fraud</th>\n",
       "    </tr>\n",
       "  </thead>\n",
       "  <tbody>\n",
       "    <tr>\n",
       "      <th>0</th>\n",
       "      <td>0</td>\n",
       "      <td>1/1/2019 0:00</td>\n",
       "      <td>2.700000e+15</td>\n",
       "      <td>fraud_Rippin, Kub and Mann</td>\n",
       "      <td>misc_net</td>\n",
       "      <td>4.97</td>\n",
       "      <td>Jennifer</td>\n",
       "      <td>Banks</td>\n",
       "      <td>0b242abb623afc578575680df30655b9</td>\n",
       "      <td>0.0</td>\n",
       "    </tr>\n",
       "    <tr>\n",
       "      <th>1</th>\n",
       "      <td>1</td>\n",
       "      <td>1/1/2019 0:00</td>\n",
       "      <td>6.300000e+11</td>\n",
       "      <td>fraud_Heller, Gutmann and Zieme</td>\n",
       "      <td>grocery_pos</td>\n",
       "      <td>107.23</td>\n",
       "      <td>Stephanie</td>\n",
       "      <td>Gill</td>\n",
       "      <td>1f76529f8574734946361c461b024d99</td>\n",
       "      <td>0.0</td>\n",
       "    </tr>\n",
       "    <tr>\n",
       "      <th>2</th>\n",
       "      <td>2</td>\n",
       "      <td>1/1/2019 0:00</td>\n",
       "      <td>3.890000e+13</td>\n",
       "      <td>fraud_Lind-Buckridge</td>\n",
       "      <td>entertainment</td>\n",
       "      <td>220.11</td>\n",
       "      <td>Edward</td>\n",
       "      <td>Sanchez</td>\n",
       "      <td>a1a22d70485983eac12b5b88dad1cf95</td>\n",
       "      <td>0.0</td>\n",
       "    </tr>\n",
       "    <tr>\n",
       "      <th>3</th>\n",
       "      <td>3</td>\n",
       "      <td>1/1/2019 0:01</td>\n",
       "      <td>3.530000e+15</td>\n",
       "      <td>fraud_Kutch, Hermiston and Farrell</td>\n",
       "      <td>gas_transport</td>\n",
       "      <td>45.00</td>\n",
       "      <td>Jeremy</td>\n",
       "      <td>White</td>\n",
       "      <td>6b849c168bdad6f867558c3793159a81</td>\n",
       "      <td>0.0</td>\n",
       "    </tr>\n",
       "    <tr>\n",
       "      <th>4</th>\n",
       "      <td>4</td>\n",
       "      <td>1/1/2019 0:03</td>\n",
       "      <td>3.760000e+14</td>\n",
       "      <td>fraud_Keeling-Crist</td>\n",
       "      <td>misc_pos</td>\n",
       "      <td>41.96</td>\n",
       "      <td>Tyler</td>\n",
       "      <td>Garcia</td>\n",
       "      <td>a41d7549acf90789359a9aa5346dcb46</td>\n",
       "      <td>0.0</td>\n",
       "    </tr>\n",
       "  </tbody>\n",
       "</table>\n",
       "</div>"
      ]
     },
     "execution_count": 4,
     "metadata": {},
     "output_type": "execute_result"
    }
   ],
   "execution_count": 4
  },
  {
   "metadata": {},
   "cell_type": "markdown",
   "source": "# Exploratory Data Analysis",
   "id": "215777388e2f96b0"
  },
  {
   "metadata": {
    "ExecuteTime": {
     "end_time": "2024-05-12T09:12:06.264086Z",
     "start_time": "2024-05-12T09:12:05.686181Z"
    }
   },
   "cell_type": "code",
   "source": "df.isnull().sum()",
   "id": "a6f2c7e745217242",
   "outputs": [
    {
     "data": {
      "text/plain": [
       "ID             0\n",
       "Time           0\n",
       "Card Number    0\n",
       "merchant       0\n",
       "category       0\n",
       "Amount         1\n",
       "firstName      1\n",
       "lastName       1\n",
       "trans_num      1\n",
       "is_fraud       1\n",
       "dtype: int64"
      ]
     },
     "execution_count": 5,
     "metadata": {},
     "output_type": "execute_result"
    }
   ],
   "execution_count": 5
  },
  {
   "metadata": {
    "ExecuteTime": {
     "end_time": "2024-05-12T09:12:10.091465Z",
     "start_time": "2024-05-12T09:12:10.078671Z"
    }
   },
   "cell_type": "code",
   "source": "df.dtypes",
   "id": "c32a48040b310edb",
   "outputs": [
    {
     "data": {
      "text/plain": [
       "ID               int64\n",
       "Time            object\n",
       "Card Number    float64\n",
       "merchant        object\n",
       "category        object\n",
       "Amount         float64\n",
       "firstName       object\n",
       "lastName        object\n",
       "trans_num       object\n",
       "is_fraud       float64\n",
       "dtype: object"
      ]
     },
     "execution_count": 6,
     "metadata": {},
     "output_type": "execute_result"
    }
   ],
   "execution_count": 6
  },
  {
   "metadata": {
    "ExecuteTime": {
     "end_time": "2024-05-12T09:12:11.805723Z",
     "start_time": "2024-05-12T09:12:11.464873Z"
    }
   },
   "cell_type": "code",
   "source": "null_rows = df[df.isnull().any(axis=1)]",
   "id": "c5f349b009fe43d0",
   "outputs": [],
   "execution_count": 7
  },
  {
   "metadata": {
    "ExecuteTime": {
     "end_time": "2024-05-12T16:08:02.945339Z",
     "start_time": "2024-05-12T16:08:02.917976Z"
    }
   },
   "cell_type": "code",
   "source": "null_rows",
   "id": "c13471b1b68ff7f0",
   "outputs": [
    {
     "data": {
      "text/plain": [
       "              ID             Time   Card Number         merchant category  \\\n",
       "1002103  1002103  2/15/2020 16:43  2.270000e+15  fraud_Brown Inc    kids_   \n",
       "\n",
       "         Amount firstName lastName trans_num  is_fraud  \n",
       "1002103     NaN       NaN      NaN       NaN       NaN  "
      ],
      "text/html": [
       "<div>\n",
       "<style scoped>\n",
       "    .dataframe tbody tr th:only-of-type {\n",
       "        vertical-align: middle;\n",
       "    }\n",
       "\n",
       "    .dataframe tbody tr th {\n",
       "        vertical-align: top;\n",
       "    }\n",
       "\n",
       "    .dataframe thead th {\n",
       "        text-align: right;\n",
       "    }\n",
       "</style>\n",
       "<table border=\"1\" class=\"dataframe\">\n",
       "  <thead>\n",
       "    <tr style=\"text-align: right;\">\n",
       "      <th></th>\n",
       "      <th>ID</th>\n",
       "      <th>Time</th>\n",
       "      <th>Card Number</th>\n",
       "      <th>merchant</th>\n",
       "      <th>category</th>\n",
       "      <th>Amount</th>\n",
       "      <th>firstName</th>\n",
       "      <th>lastName</th>\n",
       "      <th>trans_num</th>\n",
       "      <th>is_fraud</th>\n",
       "    </tr>\n",
       "  </thead>\n",
       "  <tbody>\n",
       "    <tr>\n",
       "      <th>1002103</th>\n",
       "      <td>1002103</td>\n",
       "      <td>2/15/2020 16:43</td>\n",
       "      <td>2.270000e+15</td>\n",
       "      <td>fraud_Brown Inc</td>\n",
       "      <td>kids_</td>\n",
       "      <td>NaN</td>\n",
       "      <td>NaN</td>\n",
       "      <td>NaN</td>\n",
       "      <td>NaN</td>\n",
       "      <td>NaN</td>\n",
       "    </tr>\n",
       "  </tbody>\n",
       "</table>\n",
       "</div>"
      ]
     },
     "execution_count": 85,
     "metadata": {},
     "output_type": "execute_result"
    }
   ],
   "execution_count": 85
  },
  {
   "metadata": {
    "ExecuteTime": {
     "end_time": "2024-05-12T10:39:34.548998Z",
     "start_time": "2024-05-12T10:39:34.237499Z"
    }
   },
   "cell_type": "code",
   "source": "df.dropna(axis=0, how='any',inplace=True)",
   "id": "d5ae0c96c89218de",
   "outputs": [],
   "execution_count": 32
  },
  {
   "metadata": {
    "ExecuteTime": {
     "end_time": "2024-05-12T10:39:36.810362Z",
     "start_time": "2024-05-12T10:39:36.804827Z"
    }
   },
   "cell_type": "code",
   "source": "df.shape",
   "id": "4ff12089dc7b9141",
   "outputs": [
    {
     "data": {
      "text/plain": [
       "(1002103, 10)"
      ]
     },
     "execution_count": 33,
     "metadata": {},
     "output_type": "execute_result"
    }
   ],
   "execution_count": 33
  },
  {
   "metadata": {
    "ExecuteTime": {
     "end_time": "2024-05-12T10:39:39.259947Z",
     "start_time": "2024-05-12T10:39:39.240446Z"
    }
   },
   "cell_type": "code",
   "source": [
    "#Noticing that this is imbalanced data\n",
    "df.is_fraud.value_counts()/df.shape[0] *100"
   ],
   "id": "d9f588f3bef21c9c",
   "outputs": [
    {
     "data": {
      "text/plain": [
       "is_fraud\n",
       "0.0    99.429899\n",
       "1.0     0.570101\n",
       "Name: count, dtype: float64"
      ]
     },
     "execution_count": 34,
     "metadata": {},
     "output_type": "execute_result"
    }
   ],
   "execution_count": 34
  },
  {
   "metadata": {
    "ExecuteTime": {
     "end_time": "2024-05-12T10:40:13.984917Z",
     "start_time": "2024-05-12T10:40:13.917822Z"
    }
   },
   "cell_type": "code",
   "source": "df.category.value_counts()",
   "id": "fe74132db53bb3dc",
   "outputs": [
    {
     "data": {
      "text/plain": [
       "category\n",
       "gas_transport     101728\n",
       "grocery_pos        95341\n",
       "home               95175\n",
       "shopping_pos       90140\n",
       "kids_pets          87321\n",
       "shopping_net       75411\n",
       "entertainment      72707\n",
       "food_dining        70862\n",
       "personal_care      70309\n",
       "health_fitness     66267\n",
       "misc_pos           61658\n",
       "misc_net           48756\n",
       "grocery_net        35061\n",
       "travel             31367\n",
       "Name: count, dtype: int64"
      ]
     },
     "execution_count": 35,
     "metadata": {},
     "output_type": "execute_result"
    }
   ],
   "execution_count": 35
  },
  {
   "metadata": {},
   "cell_type": "markdown",
   "source": "# Data Preproccesing ",
   "id": "99b34968184322cb"
  },
  {
   "metadata": {},
   "cell_type": "markdown",
   "source": "#### Removing ID column",
   "id": "81902880621e6dde"
  },
  {
   "metadata": {
    "ExecuteTime": {
     "end_time": "2024-05-12T10:43:04.137756Z",
     "start_time": "2024-05-12T10:43:03.961148Z"
    }
   },
   "cell_type": "code",
   "source": "df.drop(columns='ID',inplace=True)",
   "id": "9bebe88aa5dce781",
   "outputs": [],
   "execution_count": 36
  },
  {
   "metadata": {
    "ExecuteTime": {
     "end_time": "2024-05-12T10:43:54.195920Z",
     "start_time": "2024-05-12T10:43:54.183077Z"
    }
   },
   "cell_type": "code",
   "source": "df.head()",
   "id": "fddbb7d3b4f9b36a",
   "outputs": [
    {
     "data": {
      "text/plain": [
       "            Time   Card Number                            merchant  \\\n",
       "0  1/1/2019 0:00  2.700000e+15          fraud_Rippin, Kub and Mann   \n",
       "1  1/1/2019 0:00  6.300000e+11     fraud_Heller, Gutmann and Zieme   \n",
       "2  1/1/2019 0:00  3.890000e+13                fraud_Lind-Buckridge   \n",
       "3  1/1/2019 0:01  3.530000e+15  fraud_Kutch, Hermiston and Farrell   \n",
       "4  1/1/2019 0:03  3.760000e+14                 fraud_Keeling-Crist   \n",
       "\n",
       "        category  Amount  firstName lastName  \\\n",
       "0       misc_net    4.97   Jennifer    Banks   \n",
       "1    grocery_pos  107.23  Stephanie     Gill   \n",
       "2  entertainment  220.11     Edward  Sanchez   \n",
       "3  gas_transport   45.00     Jeremy    White   \n",
       "4       misc_pos   41.96      Tyler   Garcia   \n",
       "\n",
       "                          trans_num  is_fraud  \n",
       "0  0b242abb623afc578575680df30655b9       0.0  \n",
       "1  1f76529f8574734946361c461b024d99       0.0  \n",
       "2  a1a22d70485983eac12b5b88dad1cf95       0.0  \n",
       "3  6b849c168bdad6f867558c3793159a81       0.0  \n",
       "4  a41d7549acf90789359a9aa5346dcb46       0.0  "
      ],
      "text/html": [
       "<div>\n",
       "<style scoped>\n",
       "    .dataframe tbody tr th:only-of-type {\n",
       "        vertical-align: middle;\n",
       "    }\n",
       "\n",
       "    .dataframe tbody tr th {\n",
       "        vertical-align: top;\n",
       "    }\n",
       "\n",
       "    .dataframe thead th {\n",
       "        text-align: right;\n",
       "    }\n",
       "</style>\n",
       "<table border=\"1\" class=\"dataframe\">\n",
       "  <thead>\n",
       "    <tr style=\"text-align: right;\">\n",
       "      <th></th>\n",
       "      <th>Time</th>\n",
       "      <th>Card Number</th>\n",
       "      <th>merchant</th>\n",
       "      <th>category</th>\n",
       "      <th>Amount</th>\n",
       "      <th>firstName</th>\n",
       "      <th>lastName</th>\n",
       "      <th>trans_num</th>\n",
       "      <th>is_fraud</th>\n",
       "    </tr>\n",
       "  </thead>\n",
       "  <tbody>\n",
       "    <tr>\n",
       "      <th>0</th>\n",
       "      <td>1/1/2019 0:00</td>\n",
       "      <td>2.700000e+15</td>\n",
       "      <td>fraud_Rippin, Kub and Mann</td>\n",
       "      <td>misc_net</td>\n",
       "      <td>4.97</td>\n",
       "      <td>Jennifer</td>\n",
       "      <td>Banks</td>\n",
       "      <td>0b242abb623afc578575680df30655b9</td>\n",
       "      <td>0.0</td>\n",
       "    </tr>\n",
       "    <tr>\n",
       "      <th>1</th>\n",
       "      <td>1/1/2019 0:00</td>\n",
       "      <td>6.300000e+11</td>\n",
       "      <td>fraud_Heller, Gutmann and Zieme</td>\n",
       "      <td>grocery_pos</td>\n",
       "      <td>107.23</td>\n",
       "      <td>Stephanie</td>\n",
       "      <td>Gill</td>\n",
       "      <td>1f76529f8574734946361c461b024d99</td>\n",
       "      <td>0.0</td>\n",
       "    </tr>\n",
       "    <tr>\n",
       "      <th>2</th>\n",
       "      <td>1/1/2019 0:00</td>\n",
       "      <td>3.890000e+13</td>\n",
       "      <td>fraud_Lind-Buckridge</td>\n",
       "      <td>entertainment</td>\n",
       "      <td>220.11</td>\n",
       "      <td>Edward</td>\n",
       "      <td>Sanchez</td>\n",
       "      <td>a1a22d70485983eac12b5b88dad1cf95</td>\n",
       "      <td>0.0</td>\n",
       "    </tr>\n",
       "    <tr>\n",
       "      <th>3</th>\n",
       "      <td>1/1/2019 0:01</td>\n",
       "      <td>3.530000e+15</td>\n",
       "      <td>fraud_Kutch, Hermiston and Farrell</td>\n",
       "      <td>gas_transport</td>\n",
       "      <td>45.00</td>\n",
       "      <td>Jeremy</td>\n",
       "      <td>White</td>\n",
       "      <td>6b849c168bdad6f867558c3793159a81</td>\n",
       "      <td>0.0</td>\n",
       "    </tr>\n",
       "    <tr>\n",
       "      <th>4</th>\n",
       "      <td>1/1/2019 0:03</td>\n",
       "      <td>3.760000e+14</td>\n",
       "      <td>fraud_Keeling-Crist</td>\n",
       "      <td>misc_pos</td>\n",
       "      <td>41.96</td>\n",
       "      <td>Tyler</td>\n",
       "      <td>Garcia</td>\n",
       "      <td>a41d7549acf90789359a9aa5346dcb46</td>\n",
       "      <td>0.0</td>\n",
       "    </tr>\n",
       "  </tbody>\n",
       "</table>\n",
       "</div>"
      ]
     },
     "execution_count": 38,
     "metadata": {},
     "output_type": "execute_result"
    }
   ],
   "execution_count": 38
  },
  {
   "metadata": {
    "ExecuteTime": {
     "end_time": "2024-05-12T12:40:46.553236Z",
     "start_time": "2024-05-12T12:40:44.576484Z"
    }
   },
   "cell_type": "code",
   "source": "df['Time_timestamp'] = pd.to_datetime(df['Time'])",
   "id": "d8bbe21f19b2d45",
   "outputs": [],
   "execution_count": 46
  },
  {
   "metadata": {
    "ExecuteTime": {
     "end_time": "2024-05-12T13:31:32.573176Z",
     "start_time": "2024-05-12T13:31:32.473312Z"
    }
   },
   "cell_type": "code",
   "source": "df['Amount'].sum()/df['Amount'].value_counts().sum()",
   "id": "70a9940c8b50d4b",
   "outputs": [
    {
     "data": {
      "text/plain": [
       "70.25615704174125"
      ]
     },
     "execution_count": 72,
     "metadata": {},
     "output_type": "execute_result"
    }
   ],
   "execution_count": 72
  },
  {
   "metadata": {
    "ExecuteTime": {
     "end_time": "2024-05-12T14:06:36.553756Z",
     "start_time": "2024-05-12T14:06:36.520140Z"
    }
   },
   "cell_type": "code",
   "source": "df.head(n=11)",
   "id": "856d2658d51e03ef",
   "outputs": [
    {
     "data": {
      "text/plain": [
       "             Time   Card Number                            merchant  \\\n",
       "0   1/1/2019 0:00  2.700000e+15          fraud_Rippin, Kub and Mann   \n",
       "1   1/1/2019 0:00  6.300000e+11     fraud_Heller, Gutmann and Zieme   \n",
       "2   1/1/2019 0:00  3.890000e+13                fraud_Lind-Buckridge   \n",
       "3   1/1/2019 0:01  3.530000e+15  fraud_Kutch, Hermiston and Farrell   \n",
       "4   1/1/2019 0:03  3.760000e+14                 fraud_Keeling-Crist   \n",
       "5   1/1/2019 0:04  4.770000e+15    fraud_Stroman, Hudson and Erdman   \n",
       "6   1/1/2019 0:04  3.010000e+13               fraud_Rowe-Vandervort   \n",
       "7   1/1/2019 0:05  6.010000e+15                fraud_Corwin-Collins   \n",
       "8   1/1/2019 0:05  4.920000e+15                    fraud_Herzog Ltd   \n",
       "9   1/1/2019 0:06  2.720000e+15   fraud_Schoen, Kuphal and Nitzsche   \n",
       "10  1/1/2019 0:06  4.640000e+12              fraud_Rutherford-Mertz   \n",
       "\n",
       "         category  Amount  firstName  lastName  \\\n",
       "0        misc_net    4.97   Jennifer     Banks   \n",
       "1     grocery_pos  107.23  Stephanie      Gill   \n",
       "2   entertainment  220.11     Edward   Sanchez   \n",
       "3   gas_transport   45.00     Jeremy     White   \n",
       "4        misc_pos   41.96      Tyler    Garcia   \n",
       "5   gas_transport   94.63   Jennifer    Conner   \n",
       "6     grocery_net   44.54     Kelsey  Richards   \n",
       "7   gas_transport   71.65     Steven  Williams   \n",
       "8        misc_pos    4.27    Heather     Chase   \n",
       "9     grocery_pos  198.39    Melissa   Aguilar   \n",
       "10    grocery_pos   24.74      Eddie    Mendez   \n",
       "\n",
       "                           trans_num  is_fraud      Time_timestamp  \n",
       "0   0b242abb623afc578575680df30655b9       0.0 2019-01-01 00:00:00  \n",
       "1   1f76529f8574734946361c461b024d99       0.0 2019-01-01 00:00:00  \n",
       "2   a1a22d70485983eac12b5b88dad1cf95       0.0 2019-01-01 00:00:00  \n",
       "3   6b849c168bdad6f867558c3793159a81       0.0 2019-01-01 00:01:00  \n",
       "4   a41d7549acf90789359a9aa5346dcb46       0.0 2019-01-01 00:03:00  \n",
       "5   189a841a0a8ba03058526bcfe566aab5       0.0 2019-01-01 00:04:00  \n",
       "6   83ec1cc84142af6e2acf10c44949e720       0.0 2019-01-01 00:04:00  \n",
       "7   6d294ed2cc447d2c71c7171a3d54967c       0.0 2019-01-01 00:05:00  \n",
       "8   fc28024ce480f8ef21a32d64c93a29f5       0.0 2019-01-01 00:05:00  \n",
       "9   3b9014ea8fb80bd65de0b1463b00b00e       0.0 2019-01-01 00:06:00  \n",
       "10  d71c95ab6b7356dd74389d41df429c87       0.0 2019-01-01 00:06:00  "
      ],
      "text/html": [
       "<div>\n",
       "<style scoped>\n",
       "    .dataframe tbody tr th:only-of-type {\n",
       "        vertical-align: middle;\n",
       "    }\n",
       "\n",
       "    .dataframe tbody tr th {\n",
       "        vertical-align: top;\n",
       "    }\n",
       "\n",
       "    .dataframe thead th {\n",
       "        text-align: right;\n",
       "    }\n",
       "</style>\n",
       "<table border=\"1\" class=\"dataframe\">\n",
       "  <thead>\n",
       "    <tr style=\"text-align: right;\">\n",
       "      <th></th>\n",
       "      <th>Time</th>\n",
       "      <th>Card Number</th>\n",
       "      <th>merchant</th>\n",
       "      <th>category</th>\n",
       "      <th>Amount</th>\n",
       "      <th>firstName</th>\n",
       "      <th>lastName</th>\n",
       "      <th>trans_num</th>\n",
       "      <th>is_fraud</th>\n",
       "      <th>Time_timestamp</th>\n",
       "    </tr>\n",
       "  </thead>\n",
       "  <tbody>\n",
       "    <tr>\n",
       "      <th>0</th>\n",
       "      <td>1/1/2019 0:00</td>\n",
       "      <td>2.700000e+15</td>\n",
       "      <td>fraud_Rippin, Kub and Mann</td>\n",
       "      <td>misc_net</td>\n",
       "      <td>4.97</td>\n",
       "      <td>Jennifer</td>\n",
       "      <td>Banks</td>\n",
       "      <td>0b242abb623afc578575680df30655b9</td>\n",
       "      <td>0.0</td>\n",
       "      <td>2019-01-01 00:00:00</td>\n",
       "    </tr>\n",
       "    <tr>\n",
       "      <th>1</th>\n",
       "      <td>1/1/2019 0:00</td>\n",
       "      <td>6.300000e+11</td>\n",
       "      <td>fraud_Heller, Gutmann and Zieme</td>\n",
       "      <td>grocery_pos</td>\n",
       "      <td>107.23</td>\n",
       "      <td>Stephanie</td>\n",
       "      <td>Gill</td>\n",
       "      <td>1f76529f8574734946361c461b024d99</td>\n",
       "      <td>0.0</td>\n",
       "      <td>2019-01-01 00:00:00</td>\n",
       "    </tr>\n",
       "    <tr>\n",
       "      <th>2</th>\n",
       "      <td>1/1/2019 0:00</td>\n",
       "      <td>3.890000e+13</td>\n",
       "      <td>fraud_Lind-Buckridge</td>\n",
       "      <td>entertainment</td>\n",
       "      <td>220.11</td>\n",
       "      <td>Edward</td>\n",
       "      <td>Sanchez</td>\n",
       "      <td>a1a22d70485983eac12b5b88dad1cf95</td>\n",
       "      <td>0.0</td>\n",
       "      <td>2019-01-01 00:00:00</td>\n",
       "    </tr>\n",
       "    <tr>\n",
       "      <th>3</th>\n",
       "      <td>1/1/2019 0:01</td>\n",
       "      <td>3.530000e+15</td>\n",
       "      <td>fraud_Kutch, Hermiston and Farrell</td>\n",
       "      <td>gas_transport</td>\n",
       "      <td>45.00</td>\n",
       "      <td>Jeremy</td>\n",
       "      <td>White</td>\n",
       "      <td>6b849c168bdad6f867558c3793159a81</td>\n",
       "      <td>0.0</td>\n",
       "      <td>2019-01-01 00:01:00</td>\n",
       "    </tr>\n",
       "    <tr>\n",
       "      <th>4</th>\n",
       "      <td>1/1/2019 0:03</td>\n",
       "      <td>3.760000e+14</td>\n",
       "      <td>fraud_Keeling-Crist</td>\n",
       "      <td>misc_pos</td>\n",
       "      <td>41.96</td>\n",
       "      <td>Tyler</td>\n",
       "      <td>Garcia</td>\n",
       "      <td>a41d7549acf90789359a9aa5346dcb46</td>\n",
       "      <td>0.0</td>\n",
       "      <td>2019-01-01 00:03:00</td>\n",
       "    </tr>\n",
       "    <tr>\n",
       "      <th>5</th>\n",
       "      <td>1/1/2019 0:04</td>\n",
       "      <td>4.770000e+15</td>\n",
       "      <td>fraud_Stroman, Hudson and Erdman</td>\n",
       "      <td>gas_transport</td>\n",
       "      <td>94.63</td>\n",
       "      <td>Jennifer</td>\n",
       "      <td>Conner</td>\n",
       "      <td>189a841a0a8ba03058526bcfe566aab5</td>\n",
       "      <td>0.0</td>\n",
       "      <td>2019-01-01 00:04:00</td>\n",
       "    </tr>\n",
       "    <tr>\n",
       "      <th>6</th>\n",
       "      <td>1/1/2019 0:04</td>\n",
       "      <td>3.010000e+13</td>\n",
       "      <td>fraud_Rowe-Vandervort</td>\n",
       "      <td>grocery_net</td>\n",
       "      <td>44.54</td>\n",
       "      <td>Kelsey</td>\n",
       "      <td>Richards</td>\n",
       "      <td>83ec1cc84142af6e2acf10c44949e720</td>\n",
       "      <td>0.0</td>\n",
       "      <td>2019-01-01 00:04:00</td>\n",
       "    </tr>\n",
       "    <tr>\n",
       "      <th>7</th>\n",
       "      <td>1/1/2019 0:05</td>\n",
       "      <td>6.010000e+15</td>\n",
       "      <td>fraud_Corwin-Collins</td>\n",
       "      <td>gas_transport</td>\n",
       "      <td>71.65</td>\n",
       "      <td>Steven</td>\n",
       "      <td>Williams</td>\n",
       "      <td>6d294ed2cc447d2c71c7171a3d54967c</td>\n",
       "      <td>0.0</td>\n",
       "      <td>2019-01-01 00:05:00</td>\n",
       "    </tr>\n",
       "    <tr>\n",
       "      <th>8</th>\n",
       "      <td>1/1/2019 0:05</td>\n",
       "      <td>4.920000e+15</td>\n",
       "      <td>fraud_Herzog Ltd</td>\n",
       "      <td>misc_pos</td>\n",
       "      <td>4.27</td>\n",
       "      <td>Heather</td>\n",
       "      <td>Chase</td>\n",
       "      <td>fc28024ce480f8ef21a32d64c93a29f5</td>\n",
       "      <td>0.0</td>\n",
       "      <td>2019-01-01 00:05:00</td>\n",
       "    </tr>\n",
       "    <tr>\n",
       "      <th>9</th>\n",
       "      <td>1/1/2019 0:06</td>\n",
       "      <td>2.720000e+15</td>\n",
       "      <td>fraud_Schoen, Kuphal and Nitzsche</td>\n",
       "      <td>grocery_pos</td>\n",
       "      <td>198.39</td>\n",
       "      <td>Melissa</td>\n",
       "      <td>Aguilar</td>\n",
       "      <td>3b9014ea8fb80bd65de0b1463b00b00e</td>\n",
       "      <td>0.0</td>\n",
       "      <td>2019-01-01 00:06:00</td>\n",
       "    </tr>\n",
       "    <tr>\n",
       "      <th>10</th>\n",
       "      <td>1/1/2019 0:06</td>\n",
       "      <td>4.640000e+12</td>\n",
       "      <td>fraud_Rutherford-Mertz</td>\n",
       "      <td>grocery_pos</td>\n",
       "      <td>24.74</td>\n",
       "      <td>Eddie</td>\n",
       "      <td>Mendez</td>\n",
       "      <td>d71c95ab6b7356dd74389d41df429c87</td>\n",
       "      <td>0.0</td>\n",
       "      <td>2019-01-01 00:06:00</td>\n",
       "    </tr>\n",
       "  </tbody>\n",
       "</table>\n",
       "</div>"
      ]
     },
     "execution_count": 76,
     "metadata": {},
     "output_type": "execute_result"
    }
   ],
   "execution_count": 76
  },
  {
   "metadata": {
    "ExecuteTime": {
     "end_time": "2024-05-12T16:03:05.429712Z",
     "start_time": "2024-05-12T16:03:04.227998Z"
    }
   },
   "cell_type": "code",
   "source": [
    "df['Time_timestamp:year'] = df['Time_timestamp'].dt.year\n",
    "df['Time_timestamp:month'] = df['Time_timestamp'].dt.month\n",
    "df['Time_timestamp:day'] = df['Time_timestamp'].dt.day\n",
    "df['Time_timestamp:dayofweek'] = df['Time_timestamp'].dt.dayofweek\n",
    "df['Time_timestamp:hour'] = df['Time_timestamp'].dt.hour\n",
    "df[['Time_timestamp','Time_timestamp:year','Time_timestamp:month','Time_timestamp:day','Time_timestamp:dayofweek','Time_timestamp:hour']].head()"
   ],
   "id": "de6e4336fc4bad4e",
   "outputs": [
    {
     "data": {
      "text/plain": [
       "       Time_timestamp  Time_timestamp:year  Time_timestamp:month  \\\n",
       "0 2019-01-01 00:00:00                 2019                     1   \n",
       "1 2019-01-01 00:00:00                 2019                     1   \n",
       "2 2019-01-01 00:00:00                 2019                     1   \n",
       "3 2019-01-01 00:01:00                 2019                     1   \n",
       "4 2019-01-01 00:03:00                 2019                     1   \n",
       "\n",
       "   Time_timestamp:day  Time_timestamp:dayofweek  Time_timestamp:hour  \n",
       "0                   1                         1                    0  \n",
       "1                   1                         1                    0  \n",
       "2                   1                         1                    0  \n",
       "3                   1                         1                    0  \n",
       "4                   1                         1                    0  "
      ],
      "text/html": [
       "<div>\n",
       "<style scoped>\n",
       "    .dataframe tbody tr th:only-of-type {\n",
       "        vertical-align: middle;\n",
       "    }\n",
       "\n",
       "    .dataframe tbody tr th {\n",
       "        vertical-align: top;\n",
       "    }\n",
       "\n",
       "    .dataframe thead th {\n",
       "        text-align: right;\n",
       "    }\n",
       "</style>\n",
       "<table border=\"1\" class=\"dataframe\">\n",
       "  <thead>\n",
       "    <tr style=\"text-align: right;\">\n",
       "      <th></th>\n",
       "      <th>Time_timestamp</th>\n",
       "      <th>Time_timestamp:year</th>\n",
       "      <th>Time_timestamp:month</th>\n",
       "      <th>Time_timestamp:day</th>\n",
       "      <th>Time_timestamp:dayofweek</th>\n",
       "      <th>Time_timestamp:hour</th>\n",
       "    </tr>\n",
       "  </thead>\n",
       "  <tbody>\n",
       "    <tr>\n",
       "      <th>0</th>\n",
       "      <td>2019-01-01 00:00:00</td>\n",
       "      <td>2019</td>\n",
       "      <td>1</td>\n",
       "      <td>1</td>\n",
       "      <td>1</td>\n",
       "      <td>0</td>\n",
       "    </tr>\n",
       "    <tr>\n",
       "      <th>1</th>\n",
       "      <td>2019-01-01 00:00:00</td>\n",
       "      <td>2019</td>\n",
       "      <td>1</td>\n",
       "      <td>1</td>\n",
       "      <td>1</td>\n",
       "      <td>0</td>\n",
       "    </tr>\n",
       "    <tr>\n",
       "      <th>2</th>\n",
       "      <td>2019-01-01 00:00:00</td>\n",
       "      <td>2019</td>\n",
       "      <td>1</td>\n",
       "      <td>1</td>\n",
       "      <td>1</td>\n",
       "      <td>0</td>\n",
       "    </tr>\n",
       "    <tr>\n",
       "      <th>3</th>\n",
       "      <td>2019-01-01 00:01:00</td>\n",
       "      <td>2019</td>\n",
       "      <td>1</td>\n",
       "      <td>1</td>\n",
       "      <td>1</td>\n",
       "      <td>0</td>\n",
       "    </tr>\n",
       "    <tr>\n",
       "      <th>4</th>\n",
       "      <td>2019-01-01 00:03:00</td>\n",
       "      <td>2019</td>\n",
       "      <td>1</td>\n",
       "      <td>1</td>\n",
       "      <td>1</td>\n",
       "      <td>0</td>\n",
       "    </tr>\n",
       "  </tbody>\n",
       "</table>\n",
       "</div>"
      ]
     },
     "execution_count": 81,
     "metadata": {},
     "output_type": "execute_result"
    }
   ],
   "execution_count": 81
  },
  {
   "metadata": {
    "ExecuteTime": {
     "end_time": "2024-05-12T16:03:56.445854Z",
     "start_time": "2024-05-12T16:03:56.422316Z"
    }
   },
   "cell_type": "code",
   "source": "df.dtypes",
   "id": "99d64c09e5e9a029",
   "outputs": [
    {
     "data": {
      "text/plain": [
       "Time                                object\n",
       "Card Number                        float64\n",
       "merchant                            object\n",
       "category                            object\n",
       "Amount                             float64\n",
       "firstName                           object\n",
       "lastName                            object\n",
       "trans_num                           object\n",
       "is_fraud                           float64\n",
       "Time_timestamp              datetime64[ns]\n",
       "Time_timestamp:year                  int32\n",
       "Time_timestamp:month                 int32\n",
       "Time_timestamp:day                   int32\n",
       "Time_timestamp:dayofweek             int32\n",
       "Time_timestamp:hour                  int32\n",
       "dtype: object"
      ]
     },
     "execution_count": 83,
     "metadata": {},
     "output_type": "execute_result"
    }
   ],
   "execution_count": 83
  },
  {
   "metadata": {},
   "cell_type": "code",
   "outputs": [],
   "execution_count": null,
   "source": "",
   "id": "a5274ee3107ef6af"
  }
 ],
 "metadata": {
  "kernelspec": {
   "display_name": "Python 3",
   "language": "python",
   "name": "python3"
  },
  "language_info": {
   "codemirror_mode": {
    "name": "ipython",
    "version": 2
   },
   "file_extension": ".py",
   "mimetype": "text/x-python",
   "name": "python",
   "nbconvert_exporter": "python",
   "pygments_lexer": "ipython2",
   "version": "2.7.6"
  }
 },
 "nbformat": 4,
 "nbformat_minor": 5
}
