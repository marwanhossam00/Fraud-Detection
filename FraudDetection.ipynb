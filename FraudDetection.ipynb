{
 "cells": [
  {
   "cell_type": "code",
   "id": "initial_id",
   "metadata": {
    "collapsed": true,
    "ExecuteTime": {
     "end_time": "2024-05-10T19:10:04.637246Z",
     "start_time": "2024-05-10T19:10:04.625460Z"
    }
   },
   "source": [
    "#import main packages\n",
    "import numpy as np\n",
    "import pandas as pd\n",
    "import matplotlib.pyplot as plt\n",
    "import seaborn as sns\n",
    "import math\n",
    "import warnings\n",
    "from sklearn import preprocessing\n",
    "warnings.filterwarnings('ignore')"
   ],
   "outputs": [],
   "execution_count": 2
  },
  {
   "metadata": {
    "ExecuteTime": {
     "end_time": "2024-05-10T19:10:09.061769Z",
     "start_time": "2024-05-10T19:10:05.264052Z"
    }
   },
   "cell_type": "code",
   "source": [
    "#import main csv files\n",
    "data = pd.read_csv('fraudTrain.csv')"
   ],
   "id": "2ed4dc16a46a70d6",
   "outputs": [],
   "execution_count": 3
  },
  {
   "metadata": {
    "ExecuteTime": {
     "end_time": "2024-05-10T19:10:09.093807Z",
     "start_time": "2024-05-10T19:10:09.061769Z"
    }
   },
   "cell_type": "code",
   "source": "data.head()",
   "id": "5a810b011097e902",
   "outputs": [
    {
     "data": {
      "text/plain": [
       "   ID           Time   Card Number                            merchant  \\\n",
       "0   0  1/1/2019 0:00  2.700000e+15          fraud_Rippin, Kub and Mann   \n",
       "1   1  1/1/2019 0:00  6.300000e+11     fraud_Heller, Gutmann and Zieme   \n",
       "2   2  1/1/2019 0:00  3.890000e+13                fraud_Lind-Buckridge   \n",
       "3   3  1/1/2019 0:01  3.530000e+15  fraud_Kutch, Hermiston and Farrell   \n",
       "4   4  1/1/2019 0:03  3.760000e+14                 fraud_Keeling-Crist   \n",
       "\n",
       "        category  Amount  firstName lastName  \\\n",
       "0       misc_net    4.97   Jennifer    Banks   \n",
       "1    grocery_pos  107.23  Stephanie     Gill   \n",
       "2  entertainment  220.11     Edward  Sanchez   \n",
       "3  gas_transport   45.00     Jeremy    White   \n",
       "4       misc_pos   41.96      Tyler   Garcia   \n",
       "\n",
       "                          trans_num  is_fraud  \n",
       "0  0b242abb623afc578575680df30655b9       0.0  \n",
       "1  1f76529f8574734946361c461b024d99       0.0  \n",
       "2  a1a22d70485983eac12b5b88dad1cf95       0.0  \n",
       "3  6b849c168bdad6f867558c3793159a81       0.0  \n",
       "4  a41d7549acf90789359a9aa5346dcb46       0.0  "
      ],
      "text/html": [
       "<div>\n",
       "<style scoped>\n",
       "    .dataframe tbody tr th:only-of-type {\n",
       "        vertical-align: middle;\n",
       "    }\n",
       "\n",
       "    .dataframe tbody tr th {\n",
       "        vertical-align: top;\n",
       "    }\n",
       "\n",
       "    .dataframe thead th {\n",
       "        text-align: right;\n",
       "    }\n",
       "</style>\n",
       "<table border=\"1\" class=\"dataframe\">\n",
       "  <thead>\n",
       "    <tr style=\"text-align: right;\">\n",
       "      <th></th>\n",
       "      <th>ID</th>\n",
       "      <th>Time</th>\n",
       "      <th>Card Number</th>\n",
       "      <th>merchant</th>\n",
       "      <th>category</th>\n",
       "      <th>Amount</th>\n",
       "      <th>firstName</th>\n",
       "      <th>lastName</th>\n",
       "      <th>trans_num</th>\n",
       "      <th>is_fraud</th>\n",
       "    </tr>\n",
       "  </thead>\n",
       "  <tbody>\n",
       "    <tr>\n",
       "      <th>0</th>\n",
       "      <td>0</td>\n",
       "      <td>1/1/2019 0:00</td>\n",
       "      <td>2.700000e+15</td>\n",
       "      <td>fraud_Rippin, Kub and Mann</td>\n",
       "      <td>misc_net</td>\n",
       "      <td>4.97</td>\n",
       "      <td>Jennifer</td>\n",
       "      <td>Banks</td>\n",
       "      <td>0b242abb623afc578575680df30655b9</td>\n",
       "      <td>0.0</td>\n",
       "    </tr>\n",
       "    <tr>\n",
       "      <th>1</th>\n",
       "      <td>1</td>\n",
       "      <td>1/1/2019 0:00</td>\n",
       "      <td>6.300000e+11</td>\n",
       "      <td>fraud_Heller, Gutmann and Zieme</td>\n",
       "      <td>grocery_pos</td>\n",
       "      <td>107.23</td>\n",
       "      <td>Stephanie</td>\n",
       "      <td>Gill</td>\n",
       "      <td>1f76529f8574734946361c461b024d99</td>\n",
       "      <td>0.0</td>\n",
       "    </tr>\n",
       "    <tr>\n",
       "      <th>2</th>\n",
       "      <td>2</td>\n",
       "      <td>1/1/2019 0:00</td>\n",
       "      <td>3.890000e+13</td>\n",
       "      <td>fraud_Lind-Buckridge</td>\n",
       "      <td>entertainment</td>\n",
       "      <td>220.11</td>\n",
       "      <td>Edward</td>\n",
       "      <td>Sanchez</td>\n",
       "      <td>a1a22d70485983eac12b5b88dad1cf95</td>\n",
       "      <td>0.0</td>\n",
       "    </tr>\n",
       "    <tr>\n",
       "      <th>3</th>\n",
       "      <td>3</td>\n",
       "      <td>1/1/2019 0:01</td>\n",
       "      <td>3.530000e+15</td>\n",
       "      <td>fraud_Kutch, Hermiston and Farrell</td>\n",
       "      <td>gas_transport</td>\n",
       "      <td>45.00</td>\n",
       "      <td>Jeremy</td>\n",
       "      <td>White</td>\n",
       "      <td>6b849c168bdad6f867558c3793159a81</td>\n",
       "      <td>0.0</td>\n",
       "    </tr>\n",
       "    <tr>\n",
       "      <th>4</th>\n",
       "      <td>4</td>\n",
       "      <td>1/1/2019 0:03</td>\n",
       "      <td>3.760000e+14</td>\n",
       "      <td>fraud_Keeling-Crist</td>\n",
       "      <td>misc_pos</td>\n",
       "      <td>41.96</td>\n",
       "      <td>Tyler</td>\n",
       "      <td>Garcia</td>\n",
       "      <td>a41d7549acf90789359a9aa5346dcb46</td>\n",
       "      <td>0.0</td>\n",
       "    </tr>\n",
       "  </tbody>\n",
       "</table>\n",
       "</div>"
      ]
     },
     "execution_count": 4,
     "metadata": {},
     "output_type": "execute_result"
    }
   ],
   "execution_count": 4
  },
  {
   "metadata": {
    "ExecuteTime": {
     "end_time": "2024-05-10T19:10:09.113646Z",
     "start_time": "2024-05-10T19:10:09.093807Z"
    }
   },
   "cell_type": "code",
   "source": "data.tail()",
   "id": "33e92b73db7d326c",
   "outputs": [
    {
     "data": {
      "text/plain": [
       "              ID             Time   Card Number               merchant  \\\n",
       "1002099  1002099  2/15/2020 16:40  3.020000e+13        fraud_Thiel Ltd   \n",
       "1002100  1002100  2/15/2020 16:40  3.460000e+14     fraud_Botsford Ltd   \n",
       "1002101  1002101  2/15/2020 16:42  3.810000e+13     fraud_Mayert Group   \n",
       "1002102  1002102  2/15/2020 16:42  3.450000e+14  fraud_Wuckert-Goldner   \n",
       "1002103  1002103  2/15/2020 16:43  2.270000e+15        fraud_Brown Inc   \n",
       "\n",
       "             category  Amount firstName lastName  \\\n",
       "1002099        travel    2.87   Kenneth    Doyle   \n",
       "1002100  shopping_pos    9.09     Donna   Moreno   \n",
       "1002101  shopping_pos   10.00   Marissa    Clark   \n",
       "1002102          home    6.66     Brian    Perez   \n",
       "1002103         kids_     NaN       NaN      NaN   \n",
       "\n",
       "                                trans_num  is_fraud  \n",
       "1002099  dcf7de10c9699f0c11cb8dfd7a8e8f65       0.0  \n",
       "1002100  fa5abf4fdda69146f9c66067e9e163a2       0.0  \n",
       "1002101  cf86f1a0a541182c0078b1dc81082136       0.0  \n",
       "1002102  bb7c2ae90d756beb2414637aa69cbeed       0.0  \n",
       "1002103                               NaN       NaN  "
      ],
      "text/html": [
       "<div>\n",
       "<style scoped>\n",
       "    .dataframe tbody tr th:only-of-type {\n",
       "        vertical-align: middle;\n",
       "    }\n",
       "\n",
       "    .dataframe tbody tr th {\n",
       "        vertical-align: top;\n",
       "    }\n",
       "\n",
       "    .dataframe thead th {\n",
       "        text-align: right;\n",
       "    }\n",
       "</style>\n",
       "<table border=\"1\" class=\"dataframe\">\n",
       "  <thead>\n",
       "    <tr style=\"text-align: right;\">\n",
       "      <th></th>\n",
       "      <th>ID</th>\n",
       "      <th>Time</th>\n",
       "      <th>Card Number</th>\n",
       "      <th>merchant</th>\n",
       "      <th>category</th>\n",
       "      <th>Amount</th>\n",
       "      <th>firstName</th>\n",
       "      <th>lastName</th>\n",
       "      <th>trans_num</th>\n",
       "      <th>is_fraud</th>\n",
       "    </tr>\n",
       "  </thead>\n",
       "  <tbody>\n",
       "    <tr>\n",
       "      <th>1002099</th>\n",
       "      <td>1002099</td>\n",
       "      <td>2/15/2020 16:40</td>\n",
       "      <td>3.020000e+13</td>\n",
       "      <td>fraud_Thiel Ltd</td>\n",
       "      <td>travel</td>\n",
       "      <td>2.87</td>\n",
       "      <td>Kenneth</td>\n",
       "      <td>Doyle</td>\n",
       "      <td>dcf7de10c9699f0c11cb8dfd7a8e8f65</td>\n",
       "      <td>0.0</td>\n",
       "    </tr>\n",
       "    <tr>\n",
       "      <th>1002100</th>\n",
       "      <td>1002100</td>\n",
       "      <td>2/15/2020 16:40</td>\n",
       "      <td>3.460000e+14</td>\n",
       "      <td>fraud_Botsford Ltd</td>\n",
       "      <td>shopping_pos</td>\n",
       "      <td>9.09</td>\n",
       "      <td>Donna</td>\n",
       "      <td>Moreno</td>\n",
       "      <td>fa5abf4fdda69146f9c66067e9e163a2</td>\n",
       "      <td>0.0</td>\n",
       "    </tr>\n",
       "    <tr>\n",
       "      <th>1002101</th>\n",
       "      <td>1002101</td>\n",
       "      <td>2/15/2020 16:42</td>\n",
       "      <td>3.810000e+13</td>\n",
       "      <td>fraud_Mayert Group</td>\n",
       "      <td>shopping_pos</td>\n",
       "      <td>10.00</td>\n",
       "      <td>Marissa</td>\n",
       "      <td>Clark</td>\n",
       "      <td>cf86f1a0a541182c0078b1dc81082136</td>\n",
       "      <td>0.0</td>\n",
       "    </tr>\n",
       "    <tr>\n",
       "      <th>1002102</th>\n",
       "      <td>1002102</td>\n",
       "      <td>2/15/2020 16:42</td>\n",
       "      <td>3.450000e+14</td>\n",
       "      <td>fraud_Wuckert-Goldner</td>\n",
       "      <td>home</td>\n",
       "      <td>6.66</td>\n",
       "      <td>Brian</td>\n",
       "      <td>Perez</td>\n",
       "      <td>bb7c2ae90d756beb2414637aa69cbeed</td>\n",
       "      <td>0.0</td>\n",
       "    </tr>\n",
       "    <tr>\n",
       "      <th>1002103</th>\n",
       "      <td>1002103</td>\n",
       "      <td>2/15/2020 16:43</td>\n",
       "      <td>2.270000e+15</td>\n",
       "      <td>fraud_Brown Inc</td>\n",
       "      <td>kids_</td>\n",
       "      <td>NaN</td>\n",
       "      <td>NaN</td>\n",
       "      <td>NaN</td>\n",
       "      <td>NaN</td>\n",
       "      <td>NaN</td>\n",
       "    </tr>\n",
       "  </tbody>\n",
       "</table>\n",
       "</div>"
      ]
     },
     "execution_count": 5,
     "metadata": {},
     "output_type": "execute_result"
    }
   ],
   "execution_count": 5
  },
  {
   "metadata": {
    "ExecuteTime": {
     "end_time": "2024-05-10T19:10:09.119796Z",
     "start_time": "2024-05-10T19:10:09.114667Z"
    }
   },
   "cell_type": "code",
   "source": "# feature engineering",
   "id": "8ff0660c8073c221",
   "outputs": [],
   "execution_count": 6
  },
  {
   "metadata": {
    "ExecuteTime": {
     "end_time": "2024-05-10T19:10:11.830367Z",
     "start_time": "2024-05-10T19:10:09.119796Z"
    }
   },
   "cell_type": "code",
   "source": [
    "# converting Time to dateTime class object\n",
    "data['Time'] = pd.to_datetime(data['Time'])"
   ],
   "id": "a6f2c7e745217242",
   "outputs": [],
   "execution_count": 7
  },
  {
   "metadata": {
    "ExecuteTime": {
     "end_time": "2024-05-10T19:10:11.838747Z",
     "start_time": "2024-05-10T19:10:11.830367Z"
    }
   },
   "cell_type": "code",
   "source": [
    "print(data['Time'].head())\n",
    "print(data['Time'].tail())"
   ],
   "id": "1703ca16e28520dd",
   "outputs": [
    {
     "name": "stdout",
     "output_type": "stream",
     "text": [
      "0   2019-01-01 00:00:00\n",
      "1   2019-01-01 00:00:00\n",
      "2   2019-01-01 00:00:00\n",
      "3   2019-01-01 00:01:00\n",
      "4   2019-01-01 00:03:00\n",
      "Name: Time, dtype: datetime64[ns]\n",
      "1002099   2020-02-15 16:40:00\n",
      "1002100   2020-02-15 16:40:00\n",
      "1002101   2020-02-15 16:42:00\n",
      "1002102   2020-02-15 16:42:00\n",
      "1002103   2020-02-15 16:43:00\n",
      "Name: Time, dtype: datetime64[ns]\n"
     ]
    }
   ],
   "execution_count": 8
  },
  {
   "metadata": {
    "ExecuteTime": {
     "end_time": "2024-05-10T19:10:11.890873Z",
     "start_time": "2024-05-10T19:10:11.840288Z"
    }
   },
   "cell_type": "code",
   "source": "print(data['Time'].describe())",
   "id": "500fbc14747d545d",
   "outputs": [
    {
     "name": "stdout",
     "output_type": "stream",
     "text": [
      "count                          1002104\n",
      "mean     2019-08-04 22:56:49.627184128\n",
      "min                2019-01-01 00:00:00\n",
      "25%                2019-05-05 11:43:00\n",
      "50%                2019-08-05 16:02:30\n",
      "75%                2019-11-17 17:16:00\n",
      "max                2020-02-15 16:43:00\n",
      "Name: Time, dtype: object\n"
     ]
    }
   ],
   "execution_count": 9
  },
  {
   "metadata": {
    "ExecuteTime": {
     "end_time": "2024-05-10T19:10:12.053794Z",
     "start_time": "2024-05-10T19:10:11.890873Z"
    }
   },
   "cell_type": "code",
   "source": [
    "# adding mont and day and year to the dataset\n",
    "\n",
    "data['Day'] = data['Time'].dt.day\n",
    "data['Month'] = data['Time'].dt.month\n",
    "data['Year'] = data['Time'].dt.year\n"
   ],
   "id": "442acdf7acefe387",
   "outputs": [],
   "execution_count": 10
  },
  {
   "metadata": {
    "ExecuteTime": {
     "end_time": "2024-05-10T19:10:12.067060Z",
     "start_time": "2024-05-10T19:10:12.053794Z"
    }
   },
   "cell_type": "code",
   "source": "data.head()",
   "id": "20f95312d776bb45",
   "outputs": [
    {
     "data": {
      "text/plain": [
       "   ID                Time   Card Number                            merchant  \\\n",
       "0   0 2019-01-01 00:00:00  2.700000e+15          fraud_Rippin, Kub and Mann   \n",
       "1   1 2019-01-01 00:00:00  6.300000e+11     fraud_Heller, Gutmann and Zieme   \n",
       "2   2 2019-01-01 00:00:00  3.890000e+13                fraud_Lind-Buckridge   \n",
       "3   3 2019-01-01 00:01:00  3.530000e+15  fraud_Kutch, Hermiston and Farrell   \n",
       "4   4 2019-01-01 00:03:00  3.760000e+14                 fraud_Keeling-Crist   \n",
       "\n",
       "        category  Amount  firstName lastName  \\\n",
       "0       misc_net    4.97   Jennifer    Banks   \n",
       "1    grocery_pos  107.23  Stephanie     Gill   \n",
       "2  entertainment  220.11     Edward  Sanchez   \n",
       "3  gas_transport   45.00     Jeremy    White   \n",
       "4       misc_pos   41.96      Tyler   Garcia   \n",
       "\n",
       "                          trans_num  is_fraud  Day  Month  Year  \n",
       "0  0b242abb623afc578575680df30655b9       0.0    1      1  2019  \n",
       "1  1f76529f8574734946361c461b024d99       0.0    1      1  2019  \n",
       "2  a1a22d70485983eac12b5b88dad1cf95       0.0    1      1  2019  \n",
       "3  6b849c168bdad6f867558c3793159a81       0.0    1      1  2019  \n",
       "4  a41d7549acf90789359a9aa5346dcb46       0.0    1      1  2019  "
      ],
      "text/html": [
       "<div>\n",
       "<style scoped>\n",
       "    .dataframe tbody tr th:only-of-type {\n",
       "        vertical-align: middle;\n",
       "    }\n",
       "\n",
       "    .dataframe tbody tr th {\n",
       "        vertical-align: top;\n",
       "    }\n",
       "\n",
       "    .dataframe thead th {\n",
       "        text-align: right;\n",
       "    }\n",
       "</style>\n",
       "<table border=\"1\" class=\"dataframe\">\n",
       "  <thead>\n",
       "    <tr style=\"text-align: right;\">\n",
       "      <th></th>\n",
       "      <th>ID</th>\n",
       "      <th>Time</th>\n",
       "      <th>Card Number</th>\n",
       "      <th>merchant</th>\n",
       "      <th>category</th>\n",
       "      <th>Amount</th>\n",
       "      <th>firstName</th>\n",
       "      <th>lastName</th>\n",
       "      <th>trans_num</th>\n",
       "      <th>is_fraud</th>\n",
       "      <th>Day</th>\n",
       "      <th>Month</th>\n",
       "      <th>Year</th>\n",
       "    </tr>\n",
       "  </thead>\n",
       "  <tbody>\n",
       "    <tr>\n",
       "      <th>0</th>\n",
       "      <td>0</td>\n",
       "      <td>2019-01-01 00:00:00</td>\n",
       "      <td>2.700000e+15</td>\n",
       "      <td>fraud_Rippin, Kub and Mann</td>\n",
       "      <td>misc_net</td>\n",
       "      <td>4.97</td>\n",
       "      <td>Jennifer</td>\n",
       "      <td>Banks</td>\n",
       "      <td>0b242abb623afc578575680df30655b9</td>\n",
       "      <td>0.0</td>\n",
       "      <td>1</td>\n",
       "      <td>1</td>\n",
       "      <td>2019</td>\n",
       "    </tr>\n",
       "    <tr>\n",
       "      <th>1</th>\n",
       "      <td>1</td>\n",
       "      <td>2019-01-01 00:00:00</td>\n",
       "      <td>6.300000e+11</td>\n",
       "      <td>fraud_Heller, Gutmann and Zieme</td>\n",
       "      <td>grocery_pos</td>\n",
       "      <td>107.23</td>\n",
       "      <td>Stephanie</td>\n",
       "      <td>Gill</td>\n",
       "      <td>1f76529f8574734946361c461b024d99</td>\n",
       "      <td>0.0</td>\n",
       "      <td>1</td>\n",
       "      <td>1</td>\n",
       "      <td>2019</td>\n",
       "    </tr>\n",
       "    <tr>\n",
       "      <th>2</th>\n",
       "      <td>2</td>\n",
       "      <td>2019-01-01 00:00:00</td>\n",
       "      <td>3.890000e+13</td>\n",
       "      <td>fraud_Lind-Buckridge</td>\n",
       "      <td>entertainment</td>\n",
       "      <td>220.11</td>\n",
       "      <td>Edward</td>\n",
       "      <td>Sanchez</td>\n",
       "      <td>a1a22d70485983eac12b5b88dad1cf95</td>\n",
       "      <td>0.0</td>\n",
       "      <td>1</td>\n",
       "      <td>1</td>\n",
       "      <td>2019</td>\n",
       "    </tr>\n",
       "    <tr>\n",
       "      <th>3</th>\n",
       "      <td>3</td>\n",
       "      <td>2019-01-01 00:01:00</td>\n",
       "      <td>3.530000e+15</td>\n",
       "      <td>fraud_Kutch, Hermiston and Farrell</td>\n",
       "      <td>gas_transport</td>\n",
       "      <td>45.00</td>\n",
       "      <td>Jeremy</td>\n",
       "      <td>White</td>\n",
       "      <td>6b849c168bdad6f867558c3793159a81</td>\n",
       "      <td>0.0</td>\n",
       "      <td>1</td>\n",
       "      <td>1</td>\n",
       "      <td>2019</td>\n",
       "    </tr>\n",
       "    <tr>\n",
       "      <th>4</th>\n",
       "      <td>4</td>\n",
       "      <td>2019-01-01 00:03:00</td>\n",
       "      <td>3.760000e+14</td>\n",
       "      <td>fraud_Keeling-Crist</td>\n",
       "      <td>misc_pos</td>\n",
       "      <td>41.96</td>\n",
       "      <td>Tyler</td>\n",
       "      <td>Garcia</td>\n",
       "      <td>a41d7549acf90789359a9aa5346dcb46</td>\n",
       "      <td>0.0</td>\n",
       "      <td>1</td>\n",
       "      <td>1</td>\n",
       "      <td>2019</td>\n",
       "    </tr>\n",
       "  </tbody>\n",
       "</table>\n",
       "</div>"
      ]
     },
     "execution_count": 11,
     "metadata": {},
     "output_type": "execute_result"
    }
   ],
   "execution_count": 11
  },
  {
   "metadata": {
    "ExecuteTime": {
     "end_time": "2024-05-10T19:10:12.089653Z",
     "start_time": "2024-05-10T19:10:12.069590Z"
    }
   },
   "cell_type": "code",
   "source": "data.tail()",
   "id": "11ae037b22f9fd7b",
   "outputs": [
    {
     "data": {
      "text/plain": [
       "              ID                Time   Card Number               merchant  \\\n",
       "1002099  1002099 2020-02-15 16:40:00  3.020000e+13        fraud_Thiel Ltd   \n",
       "1002100  1002100 2020-02-15 16:40:00  3.460000e+14     fraud_Botsford Ltd   \n",
       "1002101  1002101 2020-02-15 16:42:00  3.810000e+13     fraud_Mayert Group   \n",
       "1002102  1002102 2020-02-15 16:42:00  3.450000e+14  fraud_Wuckert-Goldner   \n",
       "1002103  1002103 2020-02-15 16:43:00  2.270000e+15        fraud_Brown Inc   \n",
       "\n",
       "             category  Amount firstName lastName  \\\n",
       "1002099        travel    2.87   Kenneth    Doyle   \n",
       "1002100  shopping_pos    9.09     Donna   Moreno   \n",
       "1002101  shopping_pos   10.00   Marissa    Clark   \n",
       "1002102          home    6.66     Brian    Perez   \n",
       "1002103         kids_     NaN       NaN      NaN   \n",
       "\n",
       "                                trans_num  is_fraud  Day  Month  Year  \n",
       "1002099  dcf7de10c9699f0c11cb8dfd7a8e8f65       0.0   15      2  2020  \n",
       "1002100  fa5abf4fdda69146f9c66067e9e163a2       0.0   15      2  2020  \n",
       "1002101  cf86f1a0a541182c0078b1dc81082136       0.0   15      2  2020  \n",
       "1002102  bb7c2ae90d756beb2414637aa69cbeed       0.0   15      2  2020  \n",
       "1002103                               NaN       NaN   15      2  2020  "
      ],
      "text/html": [
       "<div>\n",
       "<style scoped>\n",
       "    .dataframe tbody tr th:only-of-type {\n",
       "        vertical-align: middle;\n",
       "    }\n",
       "\n",
       "    .dataframe tbody tr th {\n",
       "        vertical-align: top;\n",
       "    }\n",
       "\n",
       "    .dataframe thead th {\n",
       "        text-align: right;\n",
       "    }\n",
       "</style>\n",
       "<table border=\"1\" class=\"dataframe\">\n",
       "  <thead>\n",
       "    <tr style=\"text-align: right;\">\n",
       "      <th></th>\n",
       "      <th>ID</th>\n",
       "      <th>Time</th>\n",
       "      <th>Card Number</th>\n",
       "      <th>merchant</th>\n",
       "      <th>category</th>\n",
       "      <th>Amount</th>\n",
       "      <th>firstName</th>\n",
       "      <th>lastName</th>\n",
       "      <th>trans_num</th>\n",
       "      <th>is_fraud</th>\n",
       "      <th>Day</th>\n",
       "      <th>Month</th>\n",
       "      <th>Year</th>\n",
       "    </tr>\n",
       "  </thead>\n",
       "  <tbody>\n",
       "    <tr>\n",
       "      <th>1002099</th>\n",
       "      <td>1002099</td>\n",
       "      <td>2020-02-15 16:40:00</td>\n",
       "      <td>3.020000e+13</td>\n",
       "      <td>fraud_Thiel Ltd</td>\n",
       "      <td>travel</td>\n",
       "      <td>2.87</td>\n",
       "      <td>Kenneth</td>\n",
       "      <td>Doyle</td>\n",
       "      <td>dcf7de10c9699f0c11cb8dfd7a8e8f65</td>\n",
       "      <td>0.0</td>\n",
       "      <td>15</td>\n",
       "      <td>2</td>\n",
       "      <td>2020</td>\n",
       "    </tr>\n",
       "    <tr>\n",
       "      <th>1002100</th>\n",
       "      <td>1002100</td>\n",
       "      <td>2020-02-15 16:40:00</td>\n",
       "      <td>3.460000e+14</td>\n",
       "      <td>fraud_Botsford Ltd</td>\n",
       "      <td>shopping_pos</td>\n",
       "      <td>9.09</td>\n",
       "      <td>Donna</td>\n",
       "      <td>Moreno</td>\n",
       "      <td>fa5abf4fdda69146f9c66067e9e163a2</td>\n",
       "      <td>0.0</td>\n",
       "      <td>15</td>\n",
       "      <td>2</td>\n",
       "      <td>2020</td>\n",
       "    </tr>\n",
       "    <tr>\n",
       "      <th>1002101</th>\n",
       "      <td>1002101</td>\n",
       "      <td>2020-02-15 16:42:00</td>\n",
       "      <td>3.810000e+13</td>\n",
       "      <td>fraud_Mayert Group</td>\n",
       "      <td>shopping_pos</td>\n",
       "      <td>10.00</td>\n",
       "      <td>Marissa</td>\n",
       "      <td>Clark</td>\n",
       "      <td>cf86f1a0a541182c0078b1dc81082136</td>\n",
       "      <td>0.0</td>\n",
       "      <td>15</td>\n",
       "      <td>2</td>\n",
       "      <td>2020</td>\n",
       "    </tr>\n",
       "    <tr>\n",
       "      <th>1002102</th>\n",
       "      <td>1002102</td>\n",
       "      <td>2020-02-15 16:42:00</td>\n",
       "      <td>3.450000e+14</td>\n",
       "      <td>fraud_Wuckert-Goldner</td>\n",
       "      <td>home</td>\n",
       "      <td>6.66</td>\n",
       "      <td>Brian</td>\n",
       "      <td>Perez</td>\n",
       "      <td>bb7c2ae90d756beb2414637aa69cbeed</td>\n",
       "      <td>0.0</td>\n",
       "      <td>15</td>\n",
       "      <td>2</td>\n",
       "      <td>2020</td>\n",
       "    </tr>\n",
       "    <tr>\n",
       "      <th>1002103</th>\n",
       "      <td>1002103</td>\n",
       "      <td>2020-02-15 16:43:00</td>\n",
       "      <td>2.270000e+15</td>\n",
       "      <td>fraud_Brown Inc</td>\n",
       "      <td>kids_</td>\n",
       "      <td>NaN</td>\n",
       "      <td>NaN</td>\n",
       "      <td>NaN</td>\n",
       "      <td>NaN</td>\n",
       "      <td>NaN</td>\n",
       "      <td>15</td>\n",
       "      <td>2</td>\n",
       "      <td>2020</td>\n",
       "    </tr>\n",
       "  </tbody>\n",
       "</table>\n",
       "</div>"
      ]
     },
     "execution_count": 12,
     "metadata": {},
     "output_type": "execute_result"
    }
   ],
   "execution_count": 12
  },
  {
   "metadata": {
    "ExecuteTime": {
     "end_time": "2024-05-10T19:10:12.180612Z",
     "start_time": "2024-05-10T19:10:12.090667Z"
    }
   },
   "cell_type": "code",
   "source": [
    "# adding hour and minute to the dataset\n",
    "data['Hour'] = data['Time'].dt.hour\n",
    "data['Minute'] = data['Time'].dt.minute"
   ],
   "id": "32a2591889ddad8",
   "outputs": [],
   "execution_count": 13
  },
  {
   "metadata": {
    "ExecuteTime": {
     "end_time": "2024-05-10T19:10:12.202768Z",
     "start_time": "2024-05-10T19:10:12.180612Z"
    }
   },
   "cell_type": "code",
   "source": "data.head()",
   "id": "d2c7c5c9268beb99",
   "outputs": [
    {
     "data": {
      "text/plain": [
       "   ID                Time   Card Number                            merchant  \\\n",
       "0   0 2019-01-01 00:00:00  2.700000e+15          fraud_Rippin, Kub and Mann   \n",
       "1   1 2019-01-01 00:00:00  6.300000e+11     fraud_Heller, Gutmann and Zieme   \n",
       "2   2 2019-01-01 00:00:00  3.890000e+13                fraud_Lind-Buckridge   \n",
       "3   3 2019-01-01 00:01:00  3.530000e+15  fraud_Kutch, Hermiston and Farrell   \n",
       "4   4 2019-01-01 00:03:00  3.760000e+14                 fraud_Keeling-Crist   \n",
       "\n",
       "        category  Amount  firstName lastName  \\\n",
       "0       misc_net    4.97   Jennifer    Banks   \n",
       "1    grocery_pos  107.23  Stephanie     Gill   \n",
       "2  entertainment  220.11     Edward  Sanchez   \n",
       "3  gas_transport   45.00     Jeremy    White   \n",
       "4       misc_pos   41.96      Tyler   Garcia   \n",
       "\n",
       "                          trans_num  is_fraud  Day  Month  Year  Hour  Minute  \n",
       "0  0b242abb623afc578575680df30655b9       0.0    1      1  2019     0       0  \n",
       "1  1f76529f8574734946361c461b024d99       0.0    1      1  2019     0       0  \n",
       "2  a1a22d70485983eac12b5b88dad1cf95       0.0    1      1  2019     0       0  \n",
       "3  6b849c168bdad6f867558c3793159a81       0.0    1      1  2019     0       1  \n",
       "4  a41d7549acf90789359a9aa5346dcb46       0.0    1      1  2019     0       3  "
      ],
      "text/html": [
       "<div>\n",
       "<style scoped>\n",
       "    .dataframe tbody tr th:only-of-type {\n",
       "        vertical-align: middle;\n",
       "    }\n",
       "\n",
       "    .dataframe tbody tr th {\n",
       "        vertical-align: top;\n",
       "    }\n",
       "\n",
       "    .dataframe thead th {\n",
       "        text-align: right;\n",
       "    }\n",
       "</style>\n",
       "<table border=\"1\" class=\"dataframe\">\n",
       "  <thead>\n",
       "    <tr style=\"text-align: right;\">\n",
       "      <th></th>\n",
       "      <th>ID</th>\n",
       "      <th>Time</th>\n",
       "      <th>Card Number</th>\n",
       "      <th>merchant</th>\n",
       "      <th>category</th>\n",
       "      <th>Amount</th>\n",
       "      <th>firstName</th>\n",
       "      <th>lastName</th>\n",
       "      <th>trans_num</th>\n",
       "      <th>is_fraud</th>\n",
       "      <th>Day</th>\n",
       "      <th>Month</th>\n",
       "      <th>Year</th>\n",
       "      <th>Hour</th>\n",
       "      <th>Minute</th>\n",
       "    </tr>\n",
       "  </thead>\n",
       "  <tbody>\n",
       "    <tr>\n",
       "      <th>0</th>\n",
       "      <td>0</td>\n",
       "      <td>2019-01-01 00:00:00</td>\n",
       "      <td>2.700000e+15</td>\n",
       "      <td>fraud_Rippin, Kub and Mann</td>\n",
       "      <td>misc_net</td>\n",
       "      <td>4.97</td>\n",
       "      <td>Jennifer</td>\n",
       "      <td>Banks</td>\n",
       "      <td>0b242abb623afc578575680df30655b9</td>\n",
       "      <td>0.0</td>\n",
       "      <td>1</td>\n",
       "      <td>1</td>\n",
       "      <td>2019</td>\n",
       "      <td>0</td>\n",
       "      <td>0</td>\n",
       "    </tr>\n",
       "    <tr>\n",
       "      <th>1</th>\n",
       "      <td>1</td>\n",
       "      <td>2019-01-01 00:00:00</td>\n",
       "      <td>6.300000e+11</td>\n",
       "      <td>fraud_Heller, Gutmann and Zieme</td>\n",
       "      <td>grocery_pos</td>\n",
       "      <td>107.23</td>\n",
       "      <td>Stephanie</td>\n",
       "      <td>Gill</td>\n",
       "      <td>1f76529f8574734946361c461b024d99</td>\n",
       "      <td>0.0</td>\n",
       "      <td>1</td>\n",
       "      <td>1</td>\n",
       "      <td>2019</td>\n",
       "      <td>0</td>\n",
       "      <td>0</td>\n",
       "    </tr>\n",
       "    <tr>\n",
       "      <th>2</th>\n",
       "      <td>2</td>\n",
       "      <td>2019-01-01 00:00:00</td>\n",
       "      <td>3.890000e+13</td>\n",
       "      <td>fraud_Lind-Buckridge</td>\n",
       "      <td>entertainment</td>\n",
       "      <td>220.11</td>\n",
       "      <td>Edward</td>\n",
       "      <td>Sanchez</td>\n",
       "      <td>a1a22d70485983eac12b5b88dad1cf95</td>\n",
       "      <td>0.0</td>\n",
       "      <td>1</td>\n",
       "      <td>1</td>\n",
       "      <td>2019</td>\n",
       "      <td>0</td>\n",
       "      <td>0</td>\n",
       "    </tr>\n",
       "    <tr>\n",
       "      <th>3</th>\n",
       "      <td>3</td>\n",
       "      <td>2019-01-01 00:01:00</td>\n",
       "      <td>3.530000e+15</td>\n",
       "      <td>fraud_Kutch, Hermiston and Farrell</td>\n",
       "      <td>gas_transport</td>\n",
       "      <td>45.00</td>\n",
       "      <td>Jeremy</td>\n",
       "      <td>White</td>\n",
       "      <td>6b849c168bdad6f867558c3793159a81</td>\n",
       "      <td>0.0</td>\n",
       "      <td>1</td>\n",
       "      <td>1</td>\n",
       "      <td>2019</td>\n",
       "      <td>0</td>\n",
       "      <td>1</td>\n",
       "    </tr>\n",
       "    <tr>\n",
       "      <th>4</th>\n",
       "      <td>4</td>\n",
       "      <td>2019-01-01 00:03:00</td>\n",
       "      <td>3.760000e+14</td>\n",
       "      <td>fraud_Keeling-Crist</td>\n",
       "      <td>misc_pos</td>\n",
       "      <td>41.96</td>\n",
       "      <td>Tyler</td>\n",
       "      <td>Garcia</td>\n",
       "      <td>a41d7549acf90789359a9aa5346dcb46</td>\n",
       "      <td>0.0</td>\n",
       "      <td>1</td>\n",
       "      <td>1</td>\n",
       "      <td>2019</td>\n",
       "      <td>0</td>\n",
       "      <td>3</td>\n",
       "    </tr>\n",
       "  </tbody>\n",
       "</table>\n",
       "</div>"
      ]
     },
     "execution_count": 14,
     "metadata": {},
     "output_type": "execute_result"
    }
   ],
   "execution_count": 14
  },
  {
   "metadata": {
    "ExecuteTime": {
     "end_time": "2024-05-10T19:10:12.229978Z",
     "start_time": "2024-05-10T19:10:12.208128Z"
    }
   },
   "cell_type": "code",
   "source": "data.tail()",
   "id": "338d47e4025151e3",
   "outputs": [
    {
     "data": {
      "text/plain": [
       "              ID                Time   Card Number               merchant  \\\n",
       "1002099  1002099 2020-02-15 16:40:00  3.020000e+13        fraud_Thiel Ltd   \n",
       "1002100  1002100 2020-02-15 16:40:00  3.460000e+14     fraud_Botsford Ltd   \n",
       "1002101  1002101 2020-02-15 16:42:00  3.810000e+13     fraud_Mayert Group   \n",
       "1002102  1002102 2020-02-15 16:42:00  3.450000e+14  fraud_Wuckert-Goldner   \n",
       "1002103  1002103 2020-02-15 16:43:00  2.270000e+15        fraud_Brown Inc   \n",
       "\n",
       "             category  Amount firstName lastName  \\\n",
       "1002099        travel    2.87   Kenneth    Doyle   \n",
       "1002100  shopping_pos    9.09     Donna   Moreno   \n",
       "1002101  shopping_pos   10.00   Marissa    Clark   \n",
       "1002102          home    6.66     Brian    Perez   \n",
       "1002103         kids_     NaN       NaN      NaN   \n",
       "\n",
       "                                trans_num  is_fraud  Day  Month  Year  Hour  \\\n",
       "1002099  dcf7de10c9699f0c11cb8dfd7a8e8f65       0.0   15      2  2020    16   \n",
       "1002100  fa5abf4fdda69146f9c66067e9e163a2       0.0   15      2  2020    16   \n",
       "1002101  cf86f1a0a541182c0078b1dc81082136       0.0   15      2  2020    16   \n",
       "1002102  bb7c2ae90d756beb2414637aa69cbeed       0.0   15      2  2020    16   \n",
       "1002103                               NaN       NaN   15      2  2020    16   \n",
       "\n",
       "         Minute  \n",
       "1002099      40  \n",
       "1002100      40  \n",
       "1002101      42  \n",
       "1002102      42  \n",
       "1002103      43  "
      ],
      "text/html": [
       "<div>\n",
       "<style scoped>\n",
       "    .dataframe tbody tr th:only-of-type {\n",
       "        vertical-align: middle;\n",
       "    }\n",
       "\n",
       "    .dataframe tbody tr th {\n",
       "        vertical-align: top;\n",
       "    }\n",
       "\n",
       "    .dataframe thead th {\n",
       "        text-align: right;\n",
       "    }\n",
       "</style>\n",
       "<table border=\"1\" class=\"dataframe\">\n",
       "  <thead>\n",
       "    <tr style=\"text-align: right;\">\n",
       "      <th></th>\n",
       "      <th>ID</th>\n",
       "      <th>Time</th>\n",
       "      <th>Card Number</th>\n",
       "      <th>merchant</th>\n",
       "      <th>category</th>\n",
       "      <th>Amount</th>\n",
       "      <th>firstName</th>\n",
       "      <th>lastName</th>\n",
       "      <th>trans_num</th>\n",
       "      <th>is_fraud</th>\n",
       "      <th>Day</th>\n",
       "      <th>Month</th>\n",
       "      <th>Year</th>\n",
       "      <th>Hour</th>\n",
       "      <th>Minute</th>\n",
       "    </tr>\n",
       "  </thead>\n",
       "  <tbody>\n",
       "    <tr>\n",
       "      <th>1002099</th>\n",
       "      <td>1002099</td>\n",
       "      <td>2020-02-15 16:40:00</td>\n",
       "      <td>3.020000e+13</td>\n",
       "      <td>fraud_Thiel Ltd</td>\n",
       "      <td>travel</td>\n",
       "      <td>2.87</td>\n",
       "      <td>Kenneth</td>\n",
       "      <td>Doyle</td>\n",
       "      <td>dcf7de10c9699f0c11cb8dfd7a8e8f65</td>\n",
       "      <td>0.0</td>\n",
       "      <td>15</td>\n",
       "      <td>2</td>\n",
       "      <td>2020</td>\n",
       "      <td>16</td>\n",
       "      <td>40</td>\n",
       "    </tr>\n",
       "    <tr>\n",
       "      <th>1002100</th>\n",
       "      <td>1002100</td>\n",
       "      <td>2020-02-15 16:40:00</td>\n",
       "      <td>3.460000e+14</td>\n",
       "      <td>fraud_Botsford Ltd</td>\n",
       "      <td>shopping_pos</td>\n",
       "      <td>9.09</td>\n",
       "      <td>Donna</td>\n",
       "      <td>Moreno</td>\n",
       "      <td>fa5abf4fdda69146f9c66067e9e163a2</td>\n",
       "      <td>0.0</td>\n",
       "      <td>15</td>\n",
       "      <td>2</td>\n",
       "      <td>2020</td>\n",
       "      <td>16</td>\n",
       "      <td>40</td>\n",
       "    </tr>\n",
       "    <tr>\n",
       "      <th>1002101</th>\n",
       "      <td>1002101</td>\n",
       "      <td>2020-02-15 16:42:00</td>\n",
       "      <td>3.810000e+13</td>\n",
       "      <td>fraud_Mayert Group</td>\n",
       "      <td>shopping_pos</td>\n",
       "      <td>10.00</td>\n",
       "      <td>Marissa</td>\n",
       "      <td>Clark</td>\n",
       "      <td>cf86f1a0a541182c0078b1dc81082136</td>\n",
       "      <td>0.0</td>\n",
       "      <td>15</td>\n",
       "      <td>2</td>\n",
       "      <td>2020</td>\n",
       "      <td>16</td>\n",
       "      <td>42</td>\n",
       "    </tr>\n",
       "    <tr>\n",
       "      <th>1002102</th>\n",
       "      <td>1002102</td>\n",
       "      <td>2020-02-15 16:42:00</td>\n",
       "      <td>3.450000e+14</td>\n",
       "      <td>fraud_Wuckert-Goldner</td>\n",
       "      <td>home</td>\n",
       "      <td>6.66</td>\n",
       "      <td>Brian</td>\n",
       "      <td>Perez</td>\n",
       "      <td>bb7c2ae90d756beb2414637aa69cbeed</td>\n",
       "      <td>0.0</td>\n",
       "      <td>15</td>\n",
       "      <td>2</td>\n",
       "      <td>2020</td>\n",
       "      <td>16</td>\n",
       "      <td>42</td>\n",
       "    </tr>\n",
       "    <tr>\n",
       "      <th>1002103</th>\n",
       "      <td>1002103</td>\n",
       "      <td>2020-02-15 16:43:00</td>\n",
       "      <td>2.270000e+15</td>\n",
       "      <td>fraud_Brown Inc</td>\n",
       "      <td>kids_</td>\n",
       "      <td>NaN</td>\n",
       "      <td>NaN</td>\n",
       "      <td>NaN</td>\n",
       "      <td>NaN</td>\n",
       "      <td>NaN</td>\n",
       "      <td>15</td>\n",
       "      <td>2</td>\n",
       "      <td>2020</td>\n",
       "      <td>16</td>\n",
       "      <td>43</td>\n",
       "    </tr>\n",
       "  </tbody>\n",
       "</table>\n",
       "</div>"
      ]
     },
     "execution_count": 15,
     "metadata": {},
     "output_type": "execute_result"
    }
   ],
   "execution_count": 15
  },
  {
   "metadata": {
    "ExecuteTime": {
     "end_time": "2024-05-10T19:10:12.314987Z",
     "start_time": "2024-05-10T19:10:12.229978Z"
    }
   },
   "cell_type": "code",
   "source": [
    "# no need for the time column, it has been substituted with day, month, year and time\n",
    "data = data.drop(['Time'], axis=1)"
   ],
   "id": "719e43ccff0f2bb5",
   "outputs": [],
   "execution_count": 16
  },
  {
   "metadata": {
    "ExecuteTime": {
     "end_time": "2024-05-10T19:10:12.327879Z",
     "start_time": "2024-05-10T19:10:12.314987Z"
    }
   },
   "cell_type": "code",
   "source": "data.head()",
   "id": "999b7847346fd7cd",
   "outputs": [
    {
     "data": {
      "text/plain": [
       "   ID   Card Number                            merchant       category  \\\n",
       "0   0  2.700000e+15          fraud_Rippin, Kub and Mann       misc_net   \n",
       "1   1  6.300000e+11     fraud_Heller, Gutmann and Zieme    grocery_pos   \n",
       "2   2  3.890000e+13                fraud_Lind-Buckridge  entertainment   \n",
       "3   3  3.530000e+15  fraud_Kutch, Hermiston and Farrell  gas_transport   \n",
       "4   4  3.760000e+14                 fraud_Keeling-Crist       misc_pos   \n",
       "\n",
       "   Amount  firstName lastName                         trans_num  is_fraud  \\\n",
       "0    4.97   Jennifer    Banks  0b242abb623afc578575680df30655b9       0.0   \n",
       "1  107.23  Stephanie     Gill  1f76529f8574734946361c461b024d99       0.0   \n",
       "2  220.11     Edward  Sanchez  a1a22d70485983eac12b5b88dad1cf95       0.0   \n",
       "3   45.00     Jeremy    White  6b849c168bdad6f867558c3793159a81       0.0   \n",
       "4   41.96      Tyler   Garcia  a41d7549acf90789359a9aa5346dcb46       0.0   \n",
       "\n",
       "   Day  Month  Year  Hour  Minute  \n",
       "0    1      1  2019     0       0  \n",
       "1    1      1  2019     0       0  \n",
       "2    1      1  2019     0       0  \n",
       "3    1      1  2019     0       1  \n",
       "4    1      1  2019     0       3  "
      ],
      "text/html": [
       "<div>\n",
       "<style scoped>\n",
       "    .dataframe tbody tr th:only-of-type {\n",
       "        vertical-align: middle;\n",
       "    }\n",
       "\n",
       "    .dataframe tbody tr th {\n",
       "        vertical-align: top;\n",
       "    }\n",
       "\n",
       "    .dataframe thead th {\n",
       "        text-align: right;\n",
       "    }\n",
       "</style>\n",
       "<table border=\"1\" class=\"dataframe\">\n",
       "  <thead>\n",
       "    <tr style=\"text-align: right;\">\n",
       "      <th></th>\n",
       "      <th>ID</th>\n",
       "      <th>Card Number</th>\n",
       "      <th>merchant</th>\n",
       "      <th>category</th>\n",
       "      <th>Amount</th>\n",
       "      <th>firstName</th>\n",
       "      <th>lastName</th>\n",
       "      <th>trans_num</th>\n",
       "      <th>is_fraud</th>\n",
       "      <th>Day</th>\n",
       "      <th>Month</th>\n",
       "      <th>Year</th>\n",
       "      <th>Hour</th>\n",
       "      <th>Minute</th>\n",
       "    </tr>\n",
       "  </thead>\n",
       "  <tbody>\n",
       "    <tr>\n",
       "      <th>0</th>\n",
       "      <td>0</td>\n",
       "      <td>2.700000e+15</td>\n",
       "      <td>fraud_Rippin, Kub and Mann</td>\n",
       "      <td>misc_net</td>\n",
       "      <td>4.97</td>\n",
       "      <td>Jennifer</td>\n",
       "      <td>Banks</td>\n",
       "      <td>0b242abb623afc578575680df30655b9</td>\n",
       "      <td>0.0</td>\n",
       "      <td>1</td>\n",
       "      <td>1</td>\n",
       "      <td>2019</td>\n",
       "      <td>0</td>\n",
       "      <td>0</td>\n",
       "    </tr>\n",
       "    <tr>\n",
       "      <th>1</th>\n",
       "      <td>1</td>\n",
       "      <td>6.300000e+11</td>\n",
       "      <td>fraud_Heller, Gutmann and Zieme</td>\n",
       "      <td>grocery_pos</td>\n",
       "      <td>107.23</td>\n",
       "      <td>Stephanie</td>\n",
       "      <td>Gill</td>\n",
       "      <td>1f76529f8574734946361c461b024d99</td>\n",
       "      <td>0.0</td>\n",
       "      <td>1</td>\n",
       "      <td>1</td>\n",
       "      <td>2019</td>\n",
       "      <td>0</td>\n",
       "      <td>0</td>\n",
       "    </tr>\n",
       "    <tr>\n",
       "      <th>2</th>\n",
       "      <td>2</td>\n",
       "      <td>3.890000e+13</td>\n",
       "      <td>fraud_Lind-Buckridge</td>\n",
       "      <td>entertainment</td>\n",
       "      <td>220.11</td>\n",
       "      <td>Edward</td>\n",
       "      <td>Sanchez</td>\n",
       "      <td>a1a22d70485983eac12b5b88dad1cf95</td>\n",
       "      <td>0.0</td>\n",
       "      <td>1</td>\n",
       "      <td>1</td>\n",
       "      <td>2019</td>\n",
       "      <td>0</td>\n",
       "      <td>0</td>\n",
       "    </tr>\n",
       "    <tr>\n",
       "      <th>3</th>\n",
       "      <td>3</td>\n",
       "      <td>3.530000e+15</td>\n",
       "      <td>fraud_Kutch, Hermiston and Farrell</td>\n",
       "      <td>gas_transport</td>\n",
       "      <td>45.00</td>\n",
       "      <td>Jeremy</td>\n",
       "      <td>White</td>\n",
       "      <td>6b849c168bdad6f867558c3793159a81</td>\n",
       "      <td>0.0</td>\n",
       "      <td>1</td>\n",
       "      <td>1</td>\n",
       "      <td>2019</td>\n",
       "      <td>0</td>\n",
       "      <td>1</td>\n",
       "    </tr>\n",
       "    <tr>\n",
       "      <th>4</th>\n",
       "      <td>4</td>\n",
       "      <td>3.760000e+14</td>\n",
       "      <td>fraud_Keeling-Crist</td>\n",
       "      <td>misc_pos</td>\n",
       "      <td>41.96</td>\n",
       "      <td>Tyler</td>\n",
       "      <td>Garcia</td>\n",
       "      <td>a41d7549acf90789359a9aa5346dcb46</td>\n",
       "      <td>0.0</td>\n",
       "      <td>1</td>\n",
       "      <td>1</td>\n",
       "      <td>2019</td>\n",
       "      <td>0</td>\n",
       "      <td>3</td>\n",
       "    </tr>\n",
       "  </tbody>\n",
       "</table>\n",
       "</div>"
      ]
     },
     "execution_count": 17,
     "metadata": {},
     "output_type": "execute_result"
    }
   ],
   "execution_count": 17
  },
  {
   "metadata": {
    "ExecuteTime": {
     "end_time": "2024-05-10T19:10:12.348609Z",
     "start_time": "2024-05-10T19:10:12.327879Z"
    }
   },
   "cell_type": "code",
   "source": [
    "#the number of unique value \n",
    "print(data['is_fraud'].nunique())\n",
    "\n",
    "print(data['is_fraud'].unique())"
   ],
   "id": "1e69ffcc7a4809bf",
   "outputs": [
    {
     "name": "stdout",
     "output_type": "stream",
     "text": [
      "2\n",
      "[ 0.  1. nan]\n"
     ]
    }
   ],
   "execution_count": 18
  },
  {
   "metadata": {
    "ExecuteTime": {
     "end_time": "2024-05-10T19:10:12.353010Z",
     "start_time": "2024-05-10T19:10:12.348609Z"
    }
   },
   "cell_type": "code",
   "source": "# data cleansing",
   "id": "b7126bc5ca5f216c",
   "outputs": [],
   "execution_count": 19
  },
  {
   "metadata": {
    "ExecuteTime": {
     "end_time": "2024-05-10T19:10:12.370498Z",
     "start_time": "2024-05-10T19:10:12.353010Z"
    }
   },
   "cell_type": "code",
   "source": "print(pd.value_counts(data['is_fraud']))",
   "id": "b3e1703101976d4d",
   "outputs": [
    {
     "name": "stdout",
     "output_type": "stream",
     "text": [
      "is_fraud\n",
      "0.0    996390\n",
      "1.0      5713\n",
      "Name: count, dtype: int64\n"
     ]
    }
   ],
   "execution_count": 20
  },
  {
   "metadata": {
    "ExecuteTime": {
     "end_time": "2024-05-10T19:10:12.376573Z",
     "start_time": "2024-05-10T19:10:12.370498Z"
    }
   },
   "cell_type": "code",
   "source": "data.shape",
   "id": "7cbe6d21a007d503",
   "outputs": [
    {
     "data": {
      "text/plain": [
       "(1002104, 14)"
      ]
     },
     "execution_count": 21,
     "metadata": {},
     "output_type": "execute_result"
    }
   ],
   "execution_count": 21
  },
  {
   "metadata": {
    "ExecuteTime": {
     "end_time": "2024-05-10T19:10:12.571204Z",
     "start_time": "2024-05-10T19:10:12.378780Z"
    }
   },
   "cell_type": "code",
   "source": [
    "#count the number of nulls\n",
    "print(data.isnull().sum())"
   ],
   "id": "66949595c5ccd73d",
   "outputs": [
    {
     "name": "stdout",
     "output_type": "stream",
     "text": [
      "ID             0\n",
      "Card Number    0\n",
      "merchant       0\n",
      "category       0\n",
      "Amount         1\n",
      "firstName      1\n",
      "lastName       1\n",
      "trans_num      1\n",
      "is_fraud       1\n",
      "Day            0\n",
      "Month          0\n",
      "Year           0\n",
      "Hour           0\n",
      "Minute         0\n",
      "dtype: int64\n"
     ]
    }
   ],
   "execution_count": 22
  },
  {
   "metadata": {
    "ExecuteTime": {
     "end_time": "2024-05-10T19:10:12.918697Z",
     "start_time": "2024-05-10T19:10:12.571204Z"
    }
   },
   "cell_type": "code",
   "source": [
    "# dropping nan raws\n",
    "data.dropna(inplace = True)"
   ],
   "id": "ae83d4c668b623c9",
   "outputs": [],
   "execution_count": 23
  },
  {
   "metadata": {
    "ExecuteTime": {
     "end_time": "2024-05-10T19:10:12.925924Z",
     "start_time": "2024-05-10T19:10:12.918697Z"
    }
   },
   "cell_type": "code",
   "source": "data.shape",
   "id": "52bc5f836b95e453",
   "outputs": [
    {
     "data": {
      "text/plain": [
       "(1002103, 14)"
      ]
     },
     "execution_count": 24,
     "metadata": {},
     "output_type": "execute_result"
    }
   ],
   "execution_count": 24
  },
  {
   "metadata": {
    "ExecuteTime": {
     "end_time": "2024-05-10T19:10:13.121340Z",
     "start_time": "2024-05-10T19:10:12.925924Z"
    }
   },
   "cell_type": "code",
   "source": [
    "#count the number of nulls\n",
    "print(data.isnull().sum())"
   ],
   "id": "a1adf36c7bce95e3",
   "outputs": [
    {
     "name": "stdout",
     "output_type": "stream",
     "text": [
      "ID             0\n",
      "Card Number    0\n",
      "merchant       0\n",
      "category       0\n",
      "Amount         0\n",
      "firstName      0\n",
      "lastName       0\n",
      "trans_num      0\n",
      "is_fraud       0\n",
      "Day            0\n",
      "Month          0\n",
      "Year           0\n",
      "Hour           0\n",
      "Minute         0\n",
      "dtype: int64\n"
     ]
    }
   ],
   "execution_count": 25
  },
  {
   "metadata": {
    "ExecuteTime": {
     "end_time": "2024-05-10T19:10:13.126419Z",
     "start_time": "2024-05-10T19:10:13.121340Z"
    }
   },
   "cell_type": "code",
   "source": "#Histogram of columns",
   "id": "2b5c3c856574fa2c",
   "outputs": [],
   "execution_count": 26
  },
  {
   "metadata": {
    "ExecuteTime": {
     "end_time": "2024-05-10T19:10:18.631982Z",
     "start_time": "2024-05-10T19:10:13.126419Z"
    }
   },
   "cell_type": "code",
   "source": [
    "sns.displot(x=data['Day'], bins=20,kde=True,edgecolor=\"black\",color='black',facecolor='#ffb03b')\n",
    "plt.title(\"day number\",size=20)\n",
    "plt.show()"
   ],
   "id": "c2b1ddc4433e4376",
   "outputs": [
    {
     "data": {
      "text/plain": [
       "<Figure size 500x500 with 1 Axes>"
      ],
      "image/png": "[encoded data removed]"
     },
     "metadata": {},
     "output_type": "display_data"
    }
   ],
   "execution_count": 27
  },
  {
   "metadata": {
    "ExecuteTime": {
     "end_time": "2024-05-10T19:10:20.237938Z",
     "start_time": "2024-05-10T19:10:18.631982Z"
    }
   },
   "cell_type": "code",
   "source": [
    "sns.displot(x=data['Amount'], bins=20,kde=True,edgecolor=\"black\",color='black',facecolor='#ffb03b')\n",
    "plt.title(\"money amount\",size=20)\n",
    "plt.show()"
   ],
   "id": "c6d3fe2ecaa69963",
   "outputs": [
    {
     "data": {
      "text/plain": [
       "<Figure size 500x500 with 1 Axes>"
      ],
      "image/png": "[encoded data removed]"
     },
     "metadata": {},
     "output_type": "display_data"
    }
   ],
   "execution_count": 28
  },
  {
   "metadata": {
    "jupyter": {
     "is_executing": true
    },
    "ExecuteTime": {
     "start_time": "2024-05-10T19:10:20.237938Z"
    }
   },
   "cell_type": "code",
   "source": [
    "sns.displot(x=data['merchant'], bins=20,kde=True,edgecolor=\"black\",color='black',facecolor='#ffb03b')\n",
    "plt.title(\"merchant\",size=20)\n",
    "plt.show()"
   ],
   "id": "cf4793f59adf22c2",
   "outputs": [
    {
     "ename": "KeyboardInterrupt",
     "evalue": "",
     "output_type": "error",
     "traceback": [
      "\u001B[1;31m---------------------------------------------------------------------------\u001B[0m",
      "\u001B[1;31mKeyboardInterrupt\u001B[0m                         Traceback (most recent call last)",
      "Cell \u001B[1;32mIn[29], line 1\u001B[0m\n\u001B[1;32m----> 1\u001B[0m \u001B[43msns\u001B[49m\u001B[38;5;241;43m.\u001B[39;49m\u001B[43mdisplot\u001B[49m\u001B[43m(\u001B[49m\u001B[43mx\u001B[49m\u001B[38;5;241;43m=\u001B[39;49m\u001B[43mdata\u001B[49m\u001B[43m[\u001B[49m\u001B[38;5;124;43m'\u001B[39;49m\u001B[38;5;124;43mmerchant\u001B[39;49m\u001B[38;5;124;43m'\u001B[39;49m\u001B[43m]\u001B[49m\u001B[43m,\u001B[49m\u001B[43m \u001B[49m\u001B[43mbins\u001B[49m\u001B[38;5;241;43m=\u001B[39;49m\u001B[38;5;241;43m20\u001B[39;49m\u001B[43m,\u001B[49m\u001B[43mkde\u001B[49m\u001B[38;5;241;43m=\u001B[39;49m\u001B[38;5;28;43;01mTrue\u001B[39;49;00m\u001B[43m,\u001B[49m\u001B[43medgecolor\u001B[49m\u001B[38;5;241;43m=\u001B[39;49m\u001B[38;5;124;43m\"\u001B[39;49m\u001B[38;5;124;43mblack\u001B[39;49m\u001B[38;5;124;43m\"\u001B[39;49m\u001B[43m,\u001B[49m\u001B[43mcolor\u001B[49m\u001B[38;5;241;43m=\u001B[39;49m\u001B[38;5;124;43m'\u001B[39;49m\u001B[38;5;124;43mblack\u001B[39;49m\u001B[38;5;124;43m'\u001B[39;49m\u001B[43m,\u001B[49m\u001B[43mfacecolor\u001B[49m\u001B[38;5;241;43m=\u001B[39;49m\u001B[38;5;124;43m'\u001B[39;49m\u001B[38;5;124;43m#ffb03b\u001B[39;49m\u001B[38;5;124;43m'\u001B[39;49m\u001B[43m)\u001B[49m\n\u001B[0;32m      2\u001B[0m plt\u001B[38;5;241m.\u001B[39mtitle(\u001B[38;5;124m\"\u001B[39m\u001B[38;5;124mmerchant\u001B[39m\u001B[38;5;124m\"\u001B[39m,size\u001B[38;5;241m=\u001B[39m\u001B[38;5;241m20\u001B[39m)\n\u001B[0;32m      3\u001B[0m plt\u001B[38;5;241m.\u001B[39mshow()\n",
      "File \u001B[1;32m~\\AppData\\Local\\Programs\\Python\\Python312\\Lib\\site-packages\\seaborn\\distributions.py:2266\u001B[0m, in \u001B[0;36mdisplot\u001B[1;34m(data, x, y, hue, row, col, weights, kind, rug, rug_kws, log_scale, legend, palette, hue_order, hue_norm, color, col_wrap, row_order, col_order, height, aspect, facet_kws, **kwargs)\u001B[0m\n\u001B[0;32m   2261\u001B[0m g\u001B[38;5;241m.\u001B[39mset_axis_labels(\n\u001B[0;32m   2262\u001B[0m     x_var\u001B[38;5;241m=\u001B[39mp\u001B[38;5;241m.\u001B[39mvariables\u001B[38;5;241m.\u001B[39mget(\u001B[38;5;124m\"\u001B[39m\u001B[38;5;124mx\u001B[39m\u001B[38;5;124m\"\u001B[39m, g\u001B[38;5;241m.\u001B[39maxes\u001B[38;5;241m.\u001B[39mflat[\u001B[38;5;241m0\u001B[39m]\u001B[38;5;241m.\u001B[39mget_xlabel()),\n\u001B[0;32m   2263\u001B[0m     y_var\u001B[38;5;241m=\u001B[39mp\u001B[38;5;241m.\u001B[39mvariables\u001B[38;5;241m.\u001B[39mget(\u001B[38;5;124m\"\u001B[39m\u001B[38;5;124my\u001B[39m\u001B[38;5;124m\"\u001B[39m, g\u001B[38;5;241m.\u001B[39maxes\u001B[38;5;241m.\u001B[39mflat[\u001B[38;5;241m0\u001B[39m]\u001B[38;5;241m.\u001B[39mget_ylabel()),\n\u001B[0;32m   2264\u001B[0m )\n\u001B[0;32m   2265\u001B[0m g\u001B[38;5;241m.\u001B[39mset_titles()\n\u001B[1;32m-> 2266\u001B[0m \u001B[43mg\u001B[49m\u001B[38;5;241;43m.\u001B[39;49m\u001B[43mtight_layout\u001B[49m\u001B[43m(\u001B[49m\u001B[43m)\u001B[49m\n\u001B[0;32m   2268\u001B[0m \u001B[38;5;28;01mif\u001B[39;00m data \u001B[38;5;129;01mis\u001B[39;00m \u001B[38;5;129;01mnot\u001B[39;00m \u001B[38;5;28;01mNone\u001B[39;00m \u001B[38;5;129;01mand\u001B[39;00m (x \u001B[38;5;129;01mis\u001B[39;00m \u001B[38;5;129;01mnot\u001B[39;00m \u001B[38;5;28;01mNone\u001B[39;00m \u001B[38;5;129;01mor\u001B[39;00m y \u001B[38;5;129;01mis\u001B[39;00m \u001B[38;5;129;01mnot\u001B[39;00m \u001B[38;5;28;01mNone\u001B[39;00m):\n\u001B[0;32m   2269\u001B[0m     \u001B[38;5;28;01mif\u001B[39;00m \u001B[38;5;129;01mnot\u001B[39;00m \u001B[38;5;28misinstance\u001B[39m(data, pd\u001B[38;5;241m.\u001B[39mDataFrame):\n",
      "File \u001B[1;32m~\\AppData\\Local\\Programs\\Python\\Python312\\Lib\\site-packages\\seaborn\\axisgrid.py:123\u001B[0m, in \u001B[0;36mGrid.tight_layout\u001B[1;34m(self, *args, **kwargs)\u001B[0m\n\u001B[0;32m    121\u001B[0m \u001B[38;5;28;01mif\u001B[39;00m \u001B[38;5;28mself\u001B[39m\u001B[38;5;241m.\u001B[39m_tight_layout_pad \u001B[38;5;129;01mis\u001B[39;00m \u001B[38;5;129;01mnot\u001B[39;00m \u001B[38;5;28;01mNone\u001B[39;00m:\n\u001B[0;32m    122\u001B[0m     kwargs\u001B[38;5;241m.\u001B[39msetdefault(\u001B[38;5;124m\"\u001B[39m\u001B[38;5;124mpad\u001B[39m\u001B[38;5;124m\"\u001B[39m, \u001B[38;5;28mself\u001B[39m\u001B[38;5;241m.\u001B[39m_tight_layout_pad)\n\u001B[1;32m--> 123\u001B[0m \u001B[38;5;28;43mself\u001B[39;49m\u001B[38;5;241;43m.\u001B[39;49m\u001B[43m_figure\u001B[49m\u001B[38;5;241;43m.\u001B[39;49m\u001B[43mtight_layout\u001B[49m\u001B[43m(\u001B[49m\u001B[38;5;241;43m*\u001B[39;49m\u001B[43margs\u001B[49m\u001B[43m,\u001B[49m\u001B[43m \u001B[49m\u001B[38;5;241;43m*\u001B[39;49m\u001B[38;5;241;43m*\u001B[39;49m\u001B[43mkwargs\u001B[49m\u001B[43m)\u001B[49m\n\u001B[0;32m    124\u001B[0m \u001B[38;5;28;01mreturn\u001B[39;00m \u001B[38;5;28mself\u001B[39m\n",
      "File \u001B[1;32m~\\AppData\\Local\\Programs\\Python\\Python312\\Lib\\site-packages\\matplotlib\\figure.py:3540\u001B[0m, in \u001B[0;36mFigure.tight_layout\u001B[1;34m(self, pad, h_pad, w_pad, rect)\u001B[0m\n\u001B[0;32m   3538\u001B[0m previous_engine \u001B[38;5;241m=\u001B[39m \u001B[38;5;28mself\u001B[39m\u001B[38;5;241m.\u001B[39mget_layout_engine()\n\u001B[0;32m   3539\u001B[0m \u001B[38;5;28mself\u001B[39m\u001B[38;5;241m.\u001B[39mset_layout_engine(engine)\n\u001B[1;32m-> 3540\u001B[0m \u001B[43mengine\u001B[49m\u001B[38;5;241;43m.\u001B[39;49m\u001B[43mexecute\u001B[49m\u001B[43m(\u001B[49m\u001B[38;5;28;43mself\u001B[39;49m\u001B[43m)\u001B[49m\n\u001B[0;32m   3541\u001B[0m \u001B[38;5;28;01mif\u001B[39;00m previous_engine \u001B[38;5;129;01mis\u001B[39;00m \u001B[38;5;129;01mnot\u001B[39;00m \u001B[38;5;28;01mNone\u001B[39;00m \u001B[38;5;129;01mand\u001B[39;00m \u001B[38;5;129;01mnot\u001B[39;00m \u001B[38;5;28misinstance\u001B[39m(\n\u001B[0;32m   3542\u001B[0m     previous_engine, (TightLayoutEngine, PlaceHolderLayoutEngine)\n\u001B[0;32m   3543\u001B[0m ):\n\u001B[0;32m   3544\u001B[0m     _api\u001B[38;5;241m.\u001B[39mwarn_external(\u001B[38;5;124m'\u001B[39m\u001B[38;5;124mThe figure layout has changed to tight\u001B[39m\u001B[38;5;124m'\u001B[39m)\n",
      "File \u001B[1;32m~\\AppData\\Local\\Programs\\Python\\Python312\\Lib\\site-packages\\matplotlib\\layout_engine.py:183\u001B[0m, in \u001B[0;36mTightLayoutEngine.execute\u001B[1;34m(self, fig)\u001B[0m\n\u001B[0;32m    181\u001B[0m renderer \u001B[38;5;241m=\u001B[39m fig\u001B[38;5;241m.\u001B[39m_get_renderer()\n\u001B[0;32m    182\u001B[0m \u001B[38;5;28;01mwith\u001B[39;00m \u001B[38;5;28mgetattr\u001B[39m(renderer, \u001B[38;5;124m\"\u001B[39m\u001B[38;5;124m_draw_disabled\u001B[39m\u001B[38;5;124m\"\u001B[39m, nullcontext)():\n\u001B[1;32m--> 183\u001B[0m     kwargs \u001B[38;5;241m=\u001B[39m \u001B[43mget_tight_layout_figure\u001B[49m\u001B[43m(\u001B[49m\n\u001B[0;32m    184\u001B[0m \u001B[43m        \u001B[49m\u001B[43mfig\u001B[49m\u001B[43m,\u001B[49m\u001B[43m \u001B[49m\u001B[43mfig\u001B[49m\u001B[38;5;241;43m.\u001B[39;49m\u001B[43maxes\u001B[49m\u001B[43m,\u001B[49m\u001B[43m \u001B[49m\u001B[43mget_subplotspec_list\u001B[49m\u001B[43m(\u001B[49m\u001B[43mfig\u001B[49m\u001B[38;5;241;43m.\u001B[39;49m\u001B[43maxes\u001B[49m\u001B[43m)\u001B[49m\u001B[43m,\u001B[49m\u001B[43m \u001B[49m\u001B[43mrenderer\u001B[49m\u001B[43m,\u001B[49m\n\u001B[0;32m    185\u001B[0m \u001B[43m        \u001B[49m\u001B[43mpad\u001B[49m\u001B[38;5;241;43m=\u001B[39;49m\u001B[43minfo\u001B[49m\u001B[43m[\u001B[49m\u001B[38;5;124;43m'\u001B[39;49m\u001B[38;5;124;43mpad\u001B[39;49m\u001B[38;5;124;43m'\u001B[39;49m\u001B[43m]\u001B[49m\u001B[43m,\u001B[49m\u001B[43m \u001B[49m\u001B[43mh_pad\u001B[49m\u001B[38;5;241;43m=\u001B[39;49m\u001B[43minfo\u001B[49m\u001B[43m[\u001B[49m\u001B[38;5;124;43m'\u001B[39;49m\u001B[38;5;124;43mh_pad\u001B[39;49m\u001B[38;5;124;43m'\u001B[39;49m\u001B[43m]\u001B[49m\u001B[43m,\u001B[49m\u001B[43m \u001B[49m\u001B[43mw_pad\u001B[49m\u001B[38;5;241;43m=\u001B[39;49m\u001B[43minfo\u001B[49m\u001B[43m[\u001B[49m\u001B[38;5;124;43m'\u001B[39;49m\u001B[38;5;124;43mw_pad\u001B[39;49m\u001B[38;5;124;43m'\u001B[39;49m\u001B[43m]\u001B[49m\u001B[43m,\u001B[49m\n\u001B[0;32m    186\u001B[0m \u001B[43m        \u001B[49m\u001B[43mrect\u001B[49m\u001B[38;5;241;43m=\u001B[39;49m\u001B[43minfo\u001B[49m\u001B[43m[\u001B[49m\u001B[38;5;124;43m'\u001B[39;49m\u001B[38;5;124;43mrect\u001B[39;49m\u001B[38;5;124;43m'\u001B[39;49m\u001B[43m]\u001B[49m\u001B[43m)\u001B[49m\n\u001B[0;32m    187\u001B[0m \u001B[38;5;28;01mif\u001B[39;00m kwargs:\n\u001B[0;32m    188\u001B[0m     fig\u001B[38;5;241m.\u001B[39msubplots_adjust(\u001B[38;5;241m*\u001B[39m\u001B[38;5;241m*\u001B[39mkwargs)\n",
      "File \u001B[1;32m~\\AppData\\Local\\Programs\\Python\\Python312\\Lib\\site-packages\\matplotlib\\_tight_layout.py:293\u001B[0m, in \u001B[0;36mget_tight_layout_figure\u001B[1;34m(fig, axes_list, subplotspec_list, renderer, pad, h_pad, w_pad, rect)\u001B[0m\n\u001B[0;32m    290\u001B[0m     \u001B[38;5;28;01mif\u001B[39;00m top \u001B[38;5;129;01mis\u001B[39;00m \u001B[38;5;129;01mnot\u001B[39;00m \u001B[38;5;28;01mNone\u001B[39;00m:\n\u001B[0;32m    291\u001B[0m         top \u001B[38;5;241m-\u001B[39m\u001B[38;5;241m=\u001B[39m (\u001B[38;5;241m1\u001B[39m \u001B[38;5;241m-\u001B[39m kwargs[\u001B[38;5;124m\"\u001B[39m\u001B[38;5;124mtop\u001B[39m\u001B[38;5;124m\"\u001B[39m])\n\u001B[1;32m--> 293\u001B[0m     kwargs \u001B[38;5;241m=\u001B[39m \u001B[43m_auto_adjust_subplotpars\u001B[49m\u001B[43m(\u001B[49m\u001B[43mfig\u001B[49m\u001B[43m,\u001B[49m\u001B[43m \u001B[49m\u001B[43mrenderer\u001B[49m\u001B[43m,\u001B[49m\n\u001B[0;32m    294\u001B[0m \u001B[43m                                      \u001B[49m\u001B[43mshape\u001B[49m\u001B[38;5;241;43m=\u001B[39;49m\u001B[43m(\u001B[49m\u001B[43mmax_nrows\u001B[49m\u001B[43m,\u001B[49m\u001B[43m \u001B[49m\u001B[43mmax_ncols\u001B[49m\u001B[43m)\u001B[49m\u001B[43m,\u001B[49m\n\u001B[0;32m    295\u001B[0m \u001B[43m                                      \u001B[49m\u001B[43mspan_pairs\u001B[49m\u001B[38;5;241;43m=\u001B[39;49m\u001B[43mspan_pairs\u001B[49m\u001B[43m,\u001B[49m\n\u001B[0;32m    296\u001B[0m \u001B[43m                                      \u001B[49m\u001B[43msubplot_list\u001B[49m\u001B[38;5;241;43m=\u001B[39;49m\u001B[43msubplot_list\u001B[49m\u001B[43m,\u001B[49m\n\u001B[0;32m    297\u001B[0m \u001B[43m                                      \u001B[49m\u001B[43max_bbox_list\u001B[49m\u001B[38;5;241;43m=\u001B[39;49m\u001B[43max_bbox_list\u001B[49m\u001B[43m,\u001B[49m\n\u001B[0;32m    298\u001B[0m \u001B[43m                                      \u001B[49m\u001B[43mpad\u001B[49m\u001B[38;5;241;43m=\u001B[39;49m\u001B[43mpad\u001B[49m\u001B[43m,\u001B[49m\u001B[43m \u001B[49m\u001B[43mh_pad\u001B[49m\u001B[38;5;241;43m=\u001B[39;49m\u001B[43mh_pad\u001B[49m\u001B[43m,\u001B[49m\u001B[43m \u001B[49m\u001B[43mw_pad\u001B[49m\u001B[38;5;241;43m=\u001B[39;49m\u001B[43mw_pad\u001B[49m\u001B[43m,\u001B[49m\n\u001B[0;32m    299\u001B[0m \u001B[43m                                      \u001B[49m\u001B[43mrect\u001B[49m\u001B[38;5;241;43m=\u001B[39;49m\u001B[43m(\u001B[49m\u001B[43mleft\u001B[49m\u001B[43m,\u001B[49m\u001B[43m \u001B[49m\u001B[43mbottom\u001B[49m\u001B[43m,\u001B[49m\u001B[43m \u001B[49m\u001B[43mright\u001B[49m\u001B[43m,\u001B[49m\u001B[43m \u001B[49m\u001B[43mtop\u001B[49m\u001B[43m)\u001B[49m\u001B[43m)\u001B[49m\n\u001B[0;32m    301\u001B[0m \u001B[38;5;28;01mreturn\u001B[39;00m kwargs\n",
      "File \u001B[1;32m~\\AppData\\Local\\Programs\\Python\\Python312\\Lib\\site-packages\\matplotlib\\_tight_layout.py:82\u001B[0m, in \u001B[0;36m_auto_adjust_subplotpars\u001B[1;34m(fig, renderer, shape, span_pairs, subplot_list, ax_bbox_list, pad, h_pad, w_pad, rect)\u001B[0m\n\u001B[0;32m     80\u001B[0m \u001B[38;5;28;01mfor\u001B[39;00m ax \u001B[38;5;129;01min\u001B[39;00m subplots:\n\u001B[0;32m     81\u001B[0m     \u001B[38;5;28;01mif\u001B[39;00m ax\u001B[38;5;241m.\u001B[39mget_visible():\n\u001B[1;32m---> 82\u001B[0m         bb \u001B[38;5;241m+\u001B[39m\u001B[38;5;241m=\u001B[39m [\u001B[43mmartist\u001B[49m\u001B[38;5;241;43m.\u001B[39;49m\u001B[43m_get_tightbbox_for_layout_only\u001B[49m\u001B[43m(\u001B[49m\u001B[43max\u001B[49m\u001B[43m,\u001B[49m\u001B[43m \u001B[49m\u001B[43mrenderer\u001B[49m\u001B[43m)\u001B[49m]\n\u001B[0;32m     84\u001B[0m tight_bbox_raw \u001B[38;5;241m=\u001B[39m Bbox\u001B[38;5;241m.\u001B[39munion(bb)\n\u001B[0;32m     85\u001B[0m tight_bbox \u001B[38;5;241m=\u001B[39m fig\u001B[38;5;241m.\u001B[39mtransFigure\u001B[38;5;241m.\u001B[39minverted()\u001B[38;5;241m.\u001B[39mtransform_bbox(tight_bbox_raw)\n",
      "File \u001B[1;32m~\\AppData\\Local\\Programs\\Python\\Python312\\Lib\\site-packages\\matplotlib\\artist.py:1411\u001B[0m, in \u001B[0;36m_get_tightbbox_for_layout_only\u001B[1;34m(obj, *args, **kwargs)\u001B[0m\n\u001B[0;32m   1405\u001B[0m \u001B[38;5;250m\u001B[39m\u001B[38;5;124;03m\"\"\"\u001B[39;00m\n\u001B[0;32m   1406\u001B[0m \u001B[38;5;124;03mMatplotlib's `.Axes.get_tightbbox` and `.Axis.get_tightbbox` support a\u001B[39;00m\n\u001B[0;32m   1407\u001B[0m \u001B[38;5;124;03m*for_layout_only* kwarg; this helper tries to use the kwarg but skips it\u001B[39;00m\n\u001B[0;32m   1408\u001B[0m \u001B[38;5;124;03mwhen encountering third-party subclasses that do not support it.\u001B[39;00m\n\u001B[0;32m   1409\u001B[0m \u001B[38;5;124;03m\"\"\"\u001B[39;00m\n\u001B[0;32m   1410\u001B[0m \u001B[38;5;28;01mtry\u001B[39;00m:\n\u001B[1;32m-> 1411\u001B[0m     \u001B[38;5;28;01mreturn\u001B[39;00m \u001B[43mobj\u001B[49m\u001B[38;5;241;43m.\u001B[39;49m\u001B[43mget_tightbbox\u001B[49m\u001B[43m(\u001B[49m\u001B[38;5;241;43m*\u001B[39;49m\u001B[43margs\u001B[49m\u001B[43m,\u001B[49m\u001B[43m \u001B[49m\u001B[38;5;241;43m*\u001B[39;49m\u001B[38;5;241;43m*\u001B[39;49m\u001B[43m{\u001B[49m\u001B[38;5;241;43m*\u001B[39;49m\u001B[38;5;241;43m*\u001B[39;49m\u001B[43mkwargs\u001B[49m\u001B[43m,\u001B[49m\u001B[43m \u001B[49m\u001B[38;5;124;43m\"\u001B[39;49m\u001B[38;5;124;43mfor_layout_only\u001B[39;49m\u001B[38;5;124;43m\"\u001B[39;49m\u001B[43m:\u001B[49m\u001B[43m \u001B[49m\u001B[38;5;28;43;01mTrue\u001B[39;49;00m\u001B[43m}\u001B[49m\u001B[43m)\u001B[49m\n\u001B[0;32m   1412\u001B[0m \u001B[38;5;28;01mexcept\u001B[39;00m \u001B[38;5;167;01mTypeError\u001B[39;00m:\n\u001B[0;32m   1413\u001B[0m     \u001B[38;5;28;01mreturn\u001B[39;00m obj\u001B[38;5;241m.\u001B[39mget_tightbbox(\u001B[38;5;241m*\u001B[39margs, \u001B[38;5;241m*\u001B[39m\u001B[38;5;241m*\u001B[39mkwargs)\n",
      "File \u001B[1;32m~\\AppData\\Local\\Programs\\Python\\Python312\\Lib\\site-packages\\matplotlib\\_api\\deprecation.py:454\u001B[0m, in \u001B[0;36mmake_keyword_only.<locals>.wrapper\u001B[1;34m(*args, **kwargs)\u001B[0m\n\u001B[0;32m    448\u001B[0m \u001B[38;5;28;01mif\u001B[39;00m \u001B[38;5;28mlen\u001B[39m(args) \u001B[38;5;241m>\u001B[39m name_idx:\n\u001B[0;32m    449\u001B[0m     warn_deprecated(\n\u001B[0;32m    450\u001B[0m         since, message\u001B[38;5;241m=\u001B[39m\u001B[38;5;124m\"\u001B[39m\u001B[38;5;124mPassing the \u001B[39m\u001B[38;5;132;01m%(name)s\u001B[39;00m\u001B[38;5;124m \u001B[39m\u001B[38;5;132;01m%(obj_type)s\u001B[39;00m\u001B[38;5;124m \u001B[39m\u001B[38;5;124m\"\u001B[39m\n\u001B[0;32m    451\u001B[0m         \u001B[38;5;124m\"\u001B[39m\u001B[38;5;124mpositionally is deprecated since Matplotlib \u001B[39m\u001B[38;5;132;01m%(since)s\u001B[39;00m\u001B[38;5;124m; the \u001B[39m\u001B[38;5;124m\"\u001B[39m\n\u001B[0;32m    452\u001B[0m         \u001B[38;5;124m\"\u001B[39m\u001B[38;5;124mparameter will become keyword-only \u001B[39m\u001B[38;5;132;01m%(removal)s\u001B[39;00m\u001B[38;5;124m.\u001B[39m\u001B[38;5;124m\"\u001B[39m,\n\u001B[0;32m    453\u001B[0m         name\u001B[38;5;241m=\u001B[39mname, obj_type\u001B[38;5;241m=\u001B[39m\u001B[38;5;124mf\u001B[39m\u001B[38;5;124m\"\u001B[39m\u001B[38;5;124mparameter of \u001B[39m\u001B[38;5;132;01m{\u001B[39;00mfunc\u001B[38;5;241m.\u001B[39m\u001B[38;5;18m__name__\u001B[39m\u001B[38;5;132;01m}\u001B[39;00m\u001B[38;5;124m()\u001B[39m\u001B[38;5;124m\"\u001B[39m)\n\u001B[1;32m--> 454\u001B[0m \u001B[38;5;28;01mreturn\u001B[39;00m \u001B[43mfunc\u001B[49m\u001B[43m(\u001B[49m\u001B[38;5;241;43m*\u001B[39;49m\u001B[43margs\u001B[49m\u001B[43m,\u001B[49m\u001B[43m \u001B[49m\u001B[38;5;241;43m*\u001B[39;49m\u001B[38;5;241;43m*\u001B[39;49m\u001B[43mkwargs\u001B[49m\u001B[43m)\u001B[49m\n",
      "File \u001B[1;32m~\\AppData\\Local\\Programs\\Python\\Python312\\Lib\\site-packages\\matplotlib\\axes\\_base.py:4395\u001B[0m, in \u001B[0;36m_AxesBase.get_tightbbox\u001B[1;34m(self, renderer, call_axes_locator, bbox_extra_artists, for_layout_only)\u001B[0m\n\u001B[0;32m   4393\u001B[0m \u001B[38;5;28;01mfor\u001B[39;00m axis \u001B[38;5;129;01min\u001B[39;00m \u001B[38;5;28mself\u001B[39m\u001B[38;5;241m.\u001B[39m_axis_map\u001B[38;5;241m.\u001B[39mvalues():\n\u001B[0;32m   4394\u001B[0m     \u001B[38;5;28;01mif\u001B[39;00m \u001B[38;5;28mself\u001B[39m\u001B[38;5;241m.\u001B[39maxison \u001B[38;5;129;01mand\u001B[39;00m axis\u001B[38;5;241m.\u001B[39mget_visible():\n\u001B[1;32m-> 4395\u001B[0m         ba \u001B[38;5;241m=\u001B[39m \u001B[43mmartist\u001B[49m\u001B[38;5;241;43m.\u001B[39;49m\u001B[43m_get_tightbbox_for_layout_only\u001B[49m\u001B[43m(\u001B[49m\u001B[43maxis\u001B[49m\u001B[43m,\u001B[49m\u001B[43m \u001B[49m\u001B[43mrenderer\u001B[49m\u001B[43m)\u001B[49m\n\u001B[0;32m   4396\u001B[0m         \u001B[38;5;28;01mif\u001B[39;00m ba:\n\u001B[0;32m   4397\u001B[0m             bb\u001B[38;5;241m.\u001B[39mappend(ba)\n",
      "File \u001B[1;32m~\\AppData\\Local\\Programs\\Python\\Python312\\Lib\\site-packages\\matplotlib\\artist.py:1411\u001B[0m, in \u001B[0;36m_get_tightbbox_for_layout_only\u001B[1;34m(obj, *args, **kwargs)\u001B[0m\n\u001B[0;32m   1405\u001B[0m \u001B[38;5;250m\u001B[39m\u001B[38;5;124;03m\"\"\"\u001B[39;00m\n\u001B[0;32m   1406\u001B[0m \u001B[38;5;124;03mMatplotlib's `.Axes.get_tightbbox` and `.Axis.get_tightbbox` support a\u001B[39;00m\n\u001B[0;32m   1407\u001B[0m \u001B[38;5;124;03m*for_layout_only* kwarg; this helper tries to use the kwarg but skips it\u001B[39;00m\n\u001B[0;32m   1408\u001B[0m \u001B[38;5;124;03mwhen encountering third-party subclasses that do not support it.\u001B[39;00m\n\u001B[0;32m   1409\u001B[0m \u001B[38;5;124;03m\"\"\"\u001B[39;00m\n\u001B[0;32m   1410\u001B[0m \u001B[38;5;28;01mtry\u001B[39;00m:\n\u001B[1;32m-> 1411\u001B[0m     \u001B[38;5;28;01mreturn\u001B[39;00m \u001B[43mobj\u001B[49m\u001B[38;5;241;43m.\u001B[39;49m\u001B[43mget_tightbbox\u001B[49m\u001B[43m(\u001B[49m\u001B[38;5;241;43m*\u001B[39;49m\u001B[43margs\u001B[49m\u001B[43m,\u001B[49m\u001B[43m \u001B[49m\u001B[38;5;241;43m*\u001B[39;49m\u001B[38;5;241;43m*\u001B[39;49m\u001B[43m{\u001B[49m\u001B[38;5;241;43m*\u001B[39;49m\u001B[38;5;241;43m*\u001B[39;49m\u001B[43mkwargs\u001B[49m\u001B[43m,\u001B[49m\u001B[43m \u001B[49m\u001B[38;5;124;43m\"\u001B[39;49m\u001B[38;5;124;43mfor_layout_only\u001B[39;49m\u001B[38;5;124;43m\"\u001B[39;49m\u001B[43m:\u001B[49m\u001B[43m \u001B[49m\u001B[38;5;28;43;01mTrue\u001B[39;49;00m\u001B[43m}\u001B[49m\u001B[43m)\u001B[49m\n\u001B[0;32m   1412\u001B[0m \u001B[38;5;28;01mexcept\u001B[39;00m \u001B[38;5;167;01mTypeError\u001B[39;00m:\n\u001B[0;32m   1413\u001B[0m     \u001B[38;5;28;01mreturn\u001B[39;00m obj\u001B[38;5;241m.\u001B[39mget_tightbbox(\u001B[38;5;241m*\u001B[39margs, \u001B[38;5;241m*\u001B[39m\u001B[38;5;241m*\u001B[39mkwargs)\n",
      "File \u001B[1;32m~\\AppData\\Local\\Programs\\Python\\Python312\\Lib\\site-packages\\matplotlib\\axis.py:1336\u001B[0m, in \u001B[0;36mAxis.get_tightbbox\u001B[1;34m(self, renderer, for_layout_only)\u001B[0m\n\u001B[0;32m   1333\u001B[0m     renderer \u001B[38;5;241m=\u001B[39m \u001B[38;5;28mself\u001B[39m\u001B[38;5;241m.\u001B[39mfigure\u001B[38;5;241m.\u001B[39m_get_renderer()\n\u001B[0;32m   1334\u001B[0m ticks_to_draw \u001B[38;5;241m=\u001B[39m \u001B[38;5;28mself\u001B[39m\u001B[38;5;241m.\u001B[39m_update_ticks()\n\u001B[1;32m-> 1336\u001B[0m \u001B[38;5;28;43mself\u001B[39;49m\u001B[38;5;241;43m.\u001B[39;49m\u001B[43m_update_label_position\u001B[49m\u001B[43m(\u001B[49m\u001B[43mrenderer\u001B[49m\u001B[43m)\u001B[49m\n\u001B[0;32m   1338\u001B[0m \u001B[38;5;66;03m# go back to just this axis's tick labels\u001B[39;00m\n\u001B[0;32m   1339\u001B[0m tlb1, tlb2 \u001B[38;5;241m=\u001B[39m \u001B[38;5;28mself\u001B[39m\u001B[38;5;241m.\u001B[39m_get_ticklabel_bboxes(ticks_to_draw, renderer)\n",
      "File \u001B[1;32m~\\AppData\\Local\\Programs\\Python\\Python312\\Lib\\site-packages\\matplotlib\\axis.py:2368\u001B[0m, in \u001B[0;36mXAxis._update_label_position\u001B[1;34m(self, renderer)\u001B[0m\n\u001B[0;32m   2364\u001B[0m     \u001B[38;5;28;01mreturn\u001B[39;00m\n\u001B[0;32m   2366\u001B[0m \u001B[38;5;66;03m# get bounding boxes for this axis and any siblings\u001B[39;00m\n\u001B[0;32m   2367\u001B[0m \u001B[38;5;66;03m# that have been set by `fig.align_xlabels()`\u001B[39;00m\n\u001B[1;32m-> 2368\u001B[0m bboxes, bboxes2 \u001B[38;5;241m=\u001B[39m \u001B[38;5;28;43mself\u001B[39;49m\u001B[38;5;241;43m.\u001B[39;49m\u001B[43m_get_tick_boxes_siblings\u001B[49m\u001B[43m(\u001B[49m\u001B[43mrenderer\u001B[49m\u001B[38;5;241;43m=\u001B[39;49m\u001B[43mrenderer\u001B[49m\u001B[43m)\u001B[49m\n\u001B[0;32m   2370\u001B[0m x, y \u001B[38;5;241m=\u001B[39m \u001B[38;5;28mself\u001B[39m\u001B[38;5;241m.\u001B[39mlabel\u001B[38;5;241m.\u001B[39mget_position()\n\u001B[0;32m   2371\u001B[0m \u001B[38;5;28;01mif\u001B[39;00m \u001B[38;5;28mself\u001B[39m\u001B[38;5;241m.\u001B[39mlabel_position \u001B[38;5;241m==\u001B[39m \u001B[38;5;124m'\u001B[39m\u001B[38;5;124mbottom\u001B[39m\u001B[38;5;124m'\u001B[39m:\n",
      "File \u001B[1;32m~\\AppData\\Local\\Programs\\Python\\Python312\\Lib\\site-packages\\matplotlib\\axis.py:2161\u001B[0m, in \u001B[0;36mAxis._get_tick_boxes_siblings\u001B[1;34m(self, renderer)\u001B[0m\n\u001B[0;32m   2159\u001B[0m axis \u001B[38;5;241m=\u001B[39m ax\u001B[38;5;241m.\u001B[39m_axis_map[name]\n\u001B[0;32m   2160\u001B[0m ticks_to_draw \u001B[38;5;241m=\u001B[39m axis\u001B[38;5;241m.\u001B[39m_update_ticks()\n\u001B[1;32m-> 2161\u001B[0m tlb, tlb2 \u001B[38;5;241m=\u001B[39m \u001B[43maxis\u001B[49m\u001B[38;5;241;43m.\u001B[39;49m\u001B[43m_get_ticklabel_bboxes\u001B[49m\u001B[43m(\u001B[49m\u001B[43mticks_to_draw\u001B[49m\u001B[43m,\u001B[49m\u001B[43m \u001B[49m\u001B[43mrenderer\u001B[49m\u001B[43m)\u001B[49m\n\u001B[0;32m   2162\u001B[0m bboxes\u001B[38;5;241m.\u001B[39mextend(tlb)\n\u001B[0;32m   2163\u001B[0m bboxes2\u001B[38;5;241m.\u001B[39mextend(tlb2)\n",
      "File \u001B[1;32m~\\AppData\\Local\\Programs\\Python\\Python312\\Lib\\site-packages\\matplotlib\\axis.py:1315\u001B[0m, in \u001B[0;36mAxis._get_ticklabel_bboxes\u001B[1;34m(self, ticks, renderer)\u001B[0m\n\u001B[0;32m   1313\u001B[0m \u001B[38;5;28;01mif\u001B[39;00m renderer \u001B[38;5;129;01mis\u001B[39;00m \u001B[38;5;28;01mNone\u001B[39;00m:\n\u001B[0;32m   1314\u001B[0m     renderer \u001B[38;5;241m=\u001B[39m \u001B[38;5;28mself\u001B[39m\u001B[38;5;241m.\u001B[39mfigure\u001B[38;5;241m.\u001B[39m_get_renderer()\n\u001B[1;32m-> 1315\u001B[0m \u001B[38;5;28;01mreturn\u001B[39;00m ([\u001B[43mtick\u001B[49m\u001B[38;5;241;43m.\u001B[39;49m\u001B[43mlabel1\u001B[49m\u001B[38;5;241;43m.\u001B[39;49m\u001B[43mget_window_extent\u001B[49m\u001B[43m(\u001B[49m\u001B[43mrenderer\u001B[49m\u001B[43m)\u001B[49m\n\u001B[0;32m   1316\u001B[0m          \u001B[38;5;28;01mfor\u001B[39;00m tick \u001B[38;5;129;01min\u001B[39;00m ticks \u001B[38;5;28;01mif\u001B[39;00m tick\u001B[38;5;241m.\u001B[39mlabel1\u001B[38;5;241m.\u001B[39mget_visible()],\n\u001B[0;32m   1317\u001B[0m         [tick\u001B[38;5;241m.\u001B[39mlabel2\u001B[38;5;241m.\u001B[39mget_window_extent(renderer)\n\u001B[0;32m   1318\u001B[0m          \u001B[38;5;28;01mfor\u001B[39;00m tick \u001B[38;5;129;01min\u001B[39;00m ticks \u001B[38;5;28;01mif\u001B[39;00m tick\u001B[38;5;241m.\u001B[39mlabel2\u001B[38;5;241m.\u001B[39mget_visible()])\n",
      "File \u001B[1;32m~\\AppData\\Local\\Programs\\Python\\Python312\\Lib\\site-packages\\matplotlib\\text.py:958\u001B[0m, in \u001B[0;36mText.get_window_extent\u001B[1;34m(self, renderer, dpi)\u001B[0m\n\u001B[0;32m    956\u001B[0m bbox, info, descent \u001B[38;5;241m=\u001B[39m \u001B[38;5;28mself\u001B[39m\u001B[38;5;241m.\u001B[39m_get_layout(\u001B[38;5;28mself\u001B[39m\u001B[38;5;241m.\u001B[39m_renderer)\n\u001B[0;32m    957\u001B[0m x, y \u001B[38;5;241m=\u001B[39m \u001B[38;5;28mself\u001B[39m\u001B[38;5;241m.\u001B[39mget_unitless_position()\n\u001B[1;32m--> 958\u001B[0m x, y \u001B[38;5;241m=\u001B[39m \u001B[38;5;28;43mself\u001B[39;49m\u001B[38;5;241;43m.\u001B[39;49m\u001B[43mget_transform\u001B[49m\u001B[43m(\u001B[49m\u001B[43m)\u001B[49m\u001B[38;5;241;43m.\u001B[39;49m\u001B[43mtransform\u001B[49m\u001B[43m(\u001B[49m\u001B[43m(\u001B[49m\u001B[43mx\u001B[49m\u001B[43m,\u001B[49m\u001B[43m \u001B[49m\u001B[43my\u001B[49m\u001B[43m)\u001B[49m\u001B[43m)\u001B[49m\n\u001B[0;32m    959\u001B[0m bbox \u001B[38;5;241m=\u001B[39m bbox\u001B[38;5;241m.\u001B[39mtranslated(x, y)\n\u001B[0;32m    960\u001B[0m \u001B[38;5;28;01mreturn\u001B[39;00m bbox\n",
      "File \u001B[1;32m~\\AppData\\Local\\Programs\\Python\\Python312\\Lib\\site-packages\\matplotlib\\transforms.py:1495\u001B[0m, in \u001B[0;36mTransform.transform\u001B[1;34m(self, values)\u001B[0m\n\u001B[0;32m   1492\u001B[0m values \u001B[38;5;241m=\u001B[39m values\u001B[38;5;241m.\u001B[39mreshape((\u001B[38;5;241m-\u001B[39m\u001B[38;5;241m1\u001B[39m, \u001B[38;5;28mself\u001B[39m\u001B[38;5;241m.\u001B[39minput_dims))\n\u001B[0;32m   1494\u001B[0m \u001B[38;5;66;03m# Transform the values\u001B[39;00m\n\u001B[1;32m-> 1495\u001B[0m res \u001B[38;5;241m=\u001B[39m \u001B[38;5;28;43mself\u001B[39;49m\u001B[38;5;241;43m.\u001B[39;49m\u001B[43mtransform_affine\u001B[49m\u001B[43m(\u001B[49m\u001B[38;5;28;43mself\u001B[39;49m\u001B[38;5;241;43m.\u001B[39;49m\u001B[43mtransform_non_affine\u001B[49m\u001B[43m(\u001B[49m\u001B[43mvalues\u001B[49m\u001B[43m)\u001B[49m\u001B[43m)\u001B[49m\n\u001B[0;32m   1497\u001B[0m \u001B[38;5;66;03m# Convert the result back to the shape of the input values.\u001B[39;00m\n\u001B[0;32m   1498\u001B[0m \u001B[38;5;28;01mif\u001B[39;00m ndim \u001B[38;5;241m==\u001B[39m \u001B[38;5;241m0\u001B[39m:\n",
      "File \u001B[1;32m~\\AppData\\Local\\Programs\\Python\\Python312\\Lib\\site-packages\\matplotlib\\_api\\deprecation.py:297\u001B[0m, in \u001B[0;36mrename_parameter.<locals>.wrapper\u001B[1;34m(*args, **kwargs)\u001B[0m\n\u001B[0;32m    292\u001B[0m     warn_deprecated(\n\u001B[0;32m    293\u001B[0m         since, message\u001B[38;5;241m=\u001B[39m\u001B[38;5;124mf\u001B[39m\u001B[38;5;124m\"\u001B[39m\u001B[38;5;124mThe \u001B[39m\u001B[38;5;132;01m{\u001B[39;00mold\u001B[38;5;132;01m!r}\u001B[39;00m\u001B[38;5;124m parameter of \u001B[39m\u001B[38;5;132;01m{\u001B[39;00mfunc\u001B[38;5;241m.\u001B[39m\u001B[38;5;18m__name__\u001B[39m\u001B[38;5;132;01m}\u001B[39;00m\u001B[38;5;124m() \u001B[39m\u001B[38;5;124m\"\u001B[39m\n\u001B[0;32m    294\u001B[0m         \u001B[38;5;124mf\u001B[39m\u001B[38;5;124m\"\u001B[39m\u001B[38;5;124mhas been renamed \u001B[39m\u001B[38;5;132;01m{\u001B[39;00mnew\u001B[38;5;132;01m!r}\u001B[39;00m\u001B[38;5;124m since Matplotlib \u001B[39m\u001B[38;5;132;01m{\u001B[39;00msince\u001B[38;5;132;01m}\u001B[39;00m\u001B[38;5;124m; support \u001B[39m\u001B[38;5;124m\"\u001B[39m\n\u001B[0;32m    295\u001B[0m         \u001B[38;5;124mf\u001B[39m\u001B[38;5;124m\"\u001B[39m\u001B[38;5;124mfor the old name will be dropped %(removal)s.\u001B[39m\u001B[38;5;124m\"\u001B[39m)\n\u001B[0;32m    296\u001B[0m     kwargs[new] \u001B[38;5;241m=\u001B[39m kwargs\u001B[38;5;241m.\u001B[39mpop(old)\n\u001B[1;32m--> 297\u001B[0m \u001B[38;5;28;01mreturn\u001B[39;00m \u001B[43mfunc\u001B[49m\u001B[43m(\u001B[49m\u001B[38;5;241;43m*\u001B[39;49m\u001B[43margs\u001B[49m\u001B[43m,\u001B[49m\u001B[43m \u001B[49m\u001B[38;5;241;43m*\u001B[39;49m\u001B[38;5;241;43m*\u001B[39;49m\u001B[43mkwargs\u001B[49m\u001B[43m)\u001B[49m\n",
      "File \u001B[1;32m~\\AppData\\Local\\Programs\\Python\\Python312\\Lib\\site-packages\\matplotlib\\transforms.py:2409\u001B[0m, in \u001B[0;36mCompositeGenericTransform.transform_affine\u001B[1;34m(self, values)\u001B[0m\n\u001B[0;32m   2406\u001B[0m \u001B[38;5;129m@_api\u001B[39m\u001B[38;5;241m.\u001B[39mrename_parameter(\u001B[38;5;124m\"\u001B[39m\u001B[38;5;124m3.8\u001B[39m\u001B[38;5;124m\"\u001B[39m, \u001B[38;5;124m\"\u001B[39m\u001B[38;5;124mpoints\u001B[39m\u001B[38;5;124m\"\u001B[39m, \u001B[38;5;124m\"\u001B[39m\u001B[38;5;124mvalues\u001B[39m\u001B[38;5;124m\"\u001B[39m)\n\u001B[0;32m   2407\u001B[0m \u001B[38;5;28;01mdef\u001B[39;00m \u001B[38;5;21mtransform_affine\u001B[39m(\u001B[38;5;28mself\u001B[39m, values):\n\u001B[0;32m   2408\u001B[0m     \u001B[38;5;66;03m# docstring inherited\u001B[39;00m\n\u001B[1;32m-> 2409\u001B[0m     \u001B[38;5;28;01mreturn\u001B[39;00m \u001B[38;5;28;43mself\u001B[39;49m\u001B[38;5;241;43m.\u001B[39;49m\u001B[43mget_affine\u001B[49m\u001B[43m(\u001B[49m\u001B[43m)\u001B[49m\u001B[38;5;241m.\u001B[39mtransform(values)\n",
      "File \u001B[1;32m~\\AppData\\Local\\Programs\\Python\\Python312\\Lib\\site-packages\\matplotlib\\transforms.py:2436\u001B[0m, in \u001B[0;36mCompositeGenericTransform.get_affine\u001B[1;34m(self)\u001B[0m\n\u001B[0;32m   2434\u001B[0m     \u001B[38;5;28;01mreturn\u001B[39;00m \u001B[38;5;28mself\u001B[39m\u001B[38;5;241m.\u001B[39m_b\u001B[38;5;241m.\u001B[39mget_affine()\n\u001B[0;32m   2435\u001B[0m \u001B[38;5;28;01melse\u001B[39;00m:\n\u001B[1;32m-> 2436\u001B[0m     \u001B[38;5;28;01mreturn\u001B[39;00m \u001B[43mAffine2D\u001B[49m\u001B[43m(\u001B[49m\u001B[43mnp\u001B[49m\u001B[38;5;241;43m.\u001B[39;49m\u001B[43mdot\u001B[49m\u001B[43m(\u001B[49m\u001B[38;5;28;43mself\u001B[39;49m\u001B[38;5;241;43m.\u001B[39;49m\u001B[43m_b\u001B[49m\u001B[38;5;241;43m.\u001B[39;49m\u001B[43mget_affine\u001B[49m\u001B[43m(\u001B[49m\u001B[43m)\u001B[49m\u001B[38;5;241;43m.\u001B[39;49m\u001B[43mget_matrix\u001B[49m\u001B[43m(\u001B[49m\u001B[43m)\u001B[49m\u001B[43m,\u001B[49m\n\u001B[0;32m   2437\u001B[0m \u001B[43m                           \u001B[49m\u001B[38;5;28;43mself\u001B[39;49m\u001B[38;5;241;43m.\u001B[39;49m\u001B[43m_a\u001B[49m\u001B[38;5;241;43m.\u001B[39;49m\u001B[43mget_affine\u001B[49m\u001B[43m(\u001B[49m\u001B[43m)\u001B[49m\u001B[38;5;241;43m.\u001B[39;49m\u001B[43mget_matrix\u001B[49m\u001B[43m(\u001B[49m\u001B[43m)\u001B[49m\u001B[43m)\u001B[49m\u001B[43m)\u001B[49m\n",
      "File \u001B[1;32m~\\AppData\\Local\\Programs\\Python\\Python312\\Lib\\site-packages\\matplotlib\\transforms.py:1903\u001B[0m, in \u001B[0;36mAffine2D.__init__\u001B[1;34m(self, matrix, **kwargs)\u001B[0m\n\u001B[0;32m   1900\u001B[0m \u001B[38;5;28;01mif\u001B[39;00m matrix \u001B[38;5;129;01mis\u001B[39;00m \u001B[38;5;28;01mNone\u001B[39;00m:\n\u001B[0;32m   1901\u001B[0m     \u001B[38;5;66;03m# A bit faster than np.identity(3).\u001B[39;00m\n\u001B[0;32m   1902\u001B[0m     matrix \u001B[38;5;241m=\u001B[39m IdentityTransform\u001B[38;5;241m.\u001B[39m_mtx\n\u001B[1;32m-> 1903\u001B[0m \u001B[38;5;28mself\u001B[39m\u001B[38;5;241m.\u001B[39m_mtx \u001B[38;5;241m=\u001B[39m \u001B[43mmatrix\u001B[49m\u001B[38;5;241;43m.\u001B[39;49m\u001B[43mcopy\u001B[49m\u001B[43m(\u001B[49m\u001B[43m)\u001B[49m\n\u001B[0;32m   1904\u001B[0m \u001B[38;5;28mself\u001B[39m\u001B[38;5;241m.\u001B[39m_invalid \u001B[38;5;241m=\u001B[39m \u001B[38;5;241m0\u001B[39m\n",
      "\u001B[1;31mKeyboardInterrupt\u001B[0m: "
     ]
    }
   ],
   "execution_count": null
  },
  {
   "metadata": {
    "jupyter": {
     "is_executing": true
    }
   },
   "cell_type": "code",
   "source": [
    "sns.relplot(x='merchant',y='Amount',data=data,kind='scatter',hue='is_fraud',height=5)\n",
    "plt.show()"
   ],
   "id": "886cfc2f538baa7e",
   "outputs": [],
   "execution_count": null
  },
  {
   "metadata": {
    "jupyter": {
     "is_executing": true
    }
   },
   "cell_type": "code",
   "source": [
    "sns.relplot(x='Day',y='Amount',data=data,kind='scatter',hue='is_fraud',height=5)\n",
    "plt.show()"
   ],
   "id": "5ecade73061305bf",
   "outputs": [],
   "execution_count": null
  },
  {
   "metadata": {
    "jupyter": {
     "is_executing": true
    }
   },
   "cell_type": "code",
   "source": [
    "sns.relplot(x='Hour',y='Amount',data=data,kind='scatter',hue='is_fraud',height=5)\n",
    "plt.show()"
   ],
   "id": "a4856b7f8df4fbae",
   "outputs": [],
   "execution_count": null
  },
  {
   "metadata": {
    "jupyter": {
     "is_executing": true
    }
   },
   "cell_type": "code",
   "source": [
    "#print all datatypes of objects\n",
    "data.select_dtypes(include=['object']).columns"
   ],
   "id": "adbf17a0b3fcdfaf",
   "outputs": [],
   "execution_count": null
  },
  {
   "metadata": {
    "jupyter": {
     "is_executing": true
    }
   },
   "cell_type": "code",
   "source": [
    "#Encoding object columns\n",
    "label_encoding=preprocessing.LabelEncoder()\n",
    "cols=['merchant', 'category', 'firstName', 'lastName', 'trans_num']\n",
    "for i in cols:\n",
    "    data[i]=label_encoding.fit_transform(data[i])"
   ],
   "id": "aed44162513d8e06",
   "outputs": [],
   "execution_count": null
  },
  {
   "metadata": {
    "jupyter": {
     "is_executing": true
    }
   },
   "cell_type": "code",
   "source": "data.info()",
   "id": "7c67bd6a238ae787",
   "outputs": [],
   "execution_count": null
  },
  {
   "metadata": {
    "jupyter": {
     "is_executing": true
    }
   },
   "cell_type": "code",
   "source": "data.head()",
   "id": "c256d3442e312463",
   "outputs": [],
   "execution_count": null
  },
  {
   "metadata": {
    "jupyter": {
     "is_executing": true
    }
   },
   "cell_type": "code",
   "source": [
    "# check if any data is duplicated\n",
    "data.duplicated().sum()"
   ],
   "id": "e8e21637aaf13502",
   "outputs": [],
   "execution_count": null
  },
  {
   "metadata": {
    "jupyter": {
     "is_executing": true
    }
   },
   "cell_type": "code",
   "source": [
    "#check outlires\n",
    "cols = data.columns\n",
    "for i in cols:\n",
    "    q1 = np.percentile(data[i], 25)\n",
    "    q3 = np.percentile(data[i], 75)\n",
    "    norm_range = (q3 - q1) * 1.5\n",
    "\n",
    "    lower_outliers = data[data[i] < (q1 - norm_range)] # lower ouliers\n",
    "    upper_outliers = data[data[i] > (q3 + norm_range)] # upper outliers\n",
    "\n",
    "    \n",
    "    outliers = len(lower_outliers) + len(upper_outliers) #total number of outliers\n",
    "\n",
    "    print(f\"number of outliers in column {i} is {outliers}\")\n",
    "\n",
    "    # Replace outliers \n",
    "    data[i] = np.where(data[i] < (q1 - norm_range), q1 - norm_range, data[i])\n",
    "    data[i] = np.where(data[i] > (q3 + norm_range), q3 + norm_range, data[i])"
   ],
   "id": "e6eaef07aa5591ec",
   "outputs": [],
   "execution_count": null
  },
  {
   "metadata": {
    "jupyter": {
     "is_executing": true
    }
   },
   "cell_type": "code",
   "source": [
    "# rechecking for outliers\n",
    "for i in cols:\n",
    "    q1 = np.percentile(data[i], 25)\n",
    "    q3 = np.percentile(data[i], 75)\n",
    "    norm_range = (q3 - q1) * 1.5\n",
    "\n",
    "    lower_outliers = data[data[i] < (q1 - norm_range)]\n",
    "\n",
    "    upper_outliers = data[data[i] > (q3 + norm_range)]\n",
    "\n",
    "    outliers = len(lower_outliers) + len(upper_outliers)\n",
    "\n",
    "    print(f\"The number of outliers in {i}: {outliers}\")"
   ],
   "id": "c74bc67eac56ca2b",
   "outputs": [],
   "execution_count": null
  },
  {
   "metadata": {
    "jupyter": {
     "is_executing": true
    }
   },
   "cell_type": "code",
   "source": [
    "fig = plt.subplots(figsize=(20, 10))\n",
    "sns.heatmap(data.corr(),annot = True)\n"
   ],
   "id": "263e012164a76ea9",
   "outputs": [],
   "execution_count": null
  },
  {
   "metadata": {
    "jupyter": {
     "is_executing": true
    }
   },
   "cell_type": "code",
   "source": "data.corr()",
   "id": "fe4f2a037c6597f8",
   "outputs": [],
   "execution_count": null
  },
  {
   "metadata": {
    "jupyter": {
     "is_executing": true
    }
   },
   "cell_type": "code",
   "source": [
    "from sklearn import model_selection\n",
    "from sklearn import preprocessing\n",
    "from sklearn.tree import DecisionTreeClassifier\n",
    "from sklearn.pipeline import make_pipeline\n",
    "from sklearn.svm import SVC\n",
    "from sklearn.ensemble import RandomForestClassifier\n",
    "from sklearn.neighbors import KNeighborsClassifier\n",
    "from sklearn.metrics import accuracy_score\n",
    "from sklearn.metrics import confusion_matrix, classification_report\n",
    "from sklearn.ensemble import BaggingClassifier"
   ],
   "id": "bc97b6ed8766aef8",
   "outputs": [],
   "execution_count": null
  },
  {
   "metadata": {
    "jupyter": {
     "is_executing": true
    }
   },
   "cell_type": "code",
   "source": [
    "x = data.drop(columns=['is_fraud'])\n",
    "y = data['is_fraud']"
   ],
   "id": "e5af89daf5c9db92",
   "outputs": [],
   "execution_count": null
  },
  {
   "metadata": {
    "jupyter": {
     "is_executing": true
    }
   },
   "cell_type": "code",
   "source": [
    "\n",
    "x_train,x_test,y_train,y_test = model_selection.train_test_split(x,y)\n",
    "print(len(x_train),len(y_train),len(x_test),len(y_test))"
   ],
   "id": "7c3ad9d0bd5d1bb7",
   "outputs": [],
   "execution_count": null
  },
  {
   "metadata": {
    "jupyter": {
     "is_executing": true
    }
   },
   "cell_type": "code",
   "source": [
    "from sklearn.preprocessing import StandardScaler\n",
    "sc = StandardScaler()\n",
    "x_train = sc.fit_transform(x_train)\n",
    "x_test = sc.transform(x_test)"
   ],
   "id": "9c8608ef222b73d6",
   "outputs": [],
   "execution_count": null
  },
  {
   "metadata": {
    "jupyter": {
     "is_executing": true
    }
   },
   "cell_type": "code",
   "source": [
    "from sklearn.neighbors import KNeighborsRegressor\n",
    "from sklearn.metrics import mean_squared_error\n",
    "\n",
    "#KNN regressor model\n",
    "knn_regressor = KNeighborsRegressor(n_neighbors=5)\n",
    "knn_regressor.fit(x_train, y_train)\n",
    "y_pred = knn_regressor.predict(x_test)\n",
    "mse = mean_squared_error(y_test, y_pred)\n"
   ],
   "id": "4a9d91c4de5ffac3",
   "outputs": [],
   "execution_count": null
  },
  {
   "metadata": {
    "jupyter": {
     "is_executing": true
    }
   },
   "cell_type": "code",
   "source": [
    "from sklearn.metrics import r2_score\n",
    "r_squared = r2_score(y_test, y_pred)\n",
    "print(\"Mean Squared Error:\", mse)\n",
    "print(f\"Model Accuracy: {r_squared*100}%\")\n"
   ],
   "id": "5be24002b672215b",
   "outputs": [],
   "execution_count": null
  },
  {
   "metadata": {
    "jupyter": {
     "is_executing": true
    }
   },
   "cell_type": "code",
   "source": "",
   "id": "fba5bcca95547cee",
   "outputs": [],
   "execution_count": null
  }
 ],
 "metadata": {
  "kernelspec": {
   "display_name": "Python 3",
   "language": "python",
   "name": "python3"
  },
  "language_info": {
   "codemirror_mode": {
    "name": "ipython",
    "version": 2
   },
   "file_extension": ".py",
   "mimetype": "text/x-python",
   "name": "python",
   "nbconvert_exporter": "python",
   "pygments_lexer": "ipython2",
   "version": "2.7.6"
  }
 },
 "nbformat": 4,
 "nbformat_minor": 5
}
