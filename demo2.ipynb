{
 "cells": [
  {
   "cell_type": "code",
   "id": "initial_id",
   "metadata": {
    "collapsed": true,
    "ExecuteTime": {
     "end_time": "2024-05-15T09:10:12.560553Z",
     "start_time": "2024-05-15T09:10:11.174302Z"
    }
   },
   "source": [
    "import pandas as pd\n",
    "import numpy as np\n",
    "import seaborn as sns\n",
    "import matplotlib.pyplot as plt\n",
    "%matplotlib inline\n",
    "np.random.seed(10)\n",
    "import warnings\n",
    "warnings.filterwarnings(\"ignore\")\n",
    "\n",
    "#Single model classifiers\n",
    "from sklearn.linear_model import LogisticRegression\n",
    "from sklearn.tree import DecisionTreeClassifier\n",
    "\n",
    "#Ensemble classifications models\n",
    "from sklearn.ensemble import RandomForestClassifier, GradientBoostingClassifier\n",
    "\n",
    "#Model evaluation\n",
    "from sklearn.model_selection import train_test_split\n",
    "from sklearn.metrics import (accuracy_score,confusion_matrix, classification_report, roc_auc_score,\n",
    "f1_score, recall_score, precision_score)\n",
    "import time\n",
    "\n",
    "# Imbalance, Hyperparameter tunning and pipeline\n",
    "from sklearn.preprocessing import StandardScaler\n",
    "from sklearn.decomposition import PCA\n",
    "from sklearn.model_selection import GridSearchCV\n",
    "from sklearn.pipeline import Pipeline"
   ],
   "outputs": [],
   "execution_count": 1
  },
  {
   "metadata": {},
   "cell_type": "code",
   "outputs": [],
   "execution_count": null,
   "source": [
    "def models_train_test(data=[],verbose = False)\n",
    "    models = [LogisticRegression(),DecisionTreeClassifier(),RandomForestClassifier(),GradientBoostingClassifier()]\n",
    "    X_train = data[0]\n",
    "    y_train = data[1]\n",
    "    X_test = data[2]\n",
    "    y_test = data[3]\n",
    "    accuracy = []\n",
    "    f1 = []\n",
    "    auc = []\n",
    "    recall = []\n",
    "    precision = []\n",
    "    for model in models:\n",
    "        clf = model\n",
    "        clf.fit(X_train, y_train)\n",
    "        test_preds = clf.predict(X_test)\n",
    "        f1.append(f1_score(y_test, test_preds))\n",
    "        accuracy.append(accuracy_score(y_test, test_preds))\n",
    "        auc.append(roc_auc_score(y_test, test_preds))\n",
    "        recall.append(recall_score(y_test, test_preds))\n",
    "        precision.append(precision_score(y_test, test_preds))\n",
    "        if verbose:\n",
    "            print('Classification Model: ',model,'\\n')\n",
    "            print(classification_report(y_test, test_preds),'\\n')\n",
    "    results = pd.DataFrame([f1,auc, accuracy, precision,recall],\n",
    "                      index= ['f1','roc_auc','accuracy','precision','recall',],\n",
    "                           columns=['DecisionTree','LogisticRegression','RandomForest','Gradient Boosting'])\n",
    "    return results.transpose()"
   ],
   "id": "4c3b6d25119cc902"
  }
 ],
 "metadata": {
  "kernelspec": {
   "display_name": "Python 3",
   "language": "python",
   "name": "python3"
  },
  "language_info": {
   "codemirror_mode": {
    "name": "ipython",
    "version": 2
   },
   "file_extension": ".py",
   "mimetype": "text/x-python",
   "name": "python",
   "nbconvert_exporter": "python",
   "pygments_lexer": "ipython2",
   "version": "2.7.6"
  }
 },
 "nbformat": 4,
 "nbformat_minor": 5
}
