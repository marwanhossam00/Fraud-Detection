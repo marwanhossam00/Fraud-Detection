{
 "cells": [
  {
   "cell_type": "code",
   "id": "initial_id",
   "metadata": {
    "collapsed": true,
    "ExecuteTime": {
     "end_time": "2024-05-15T17:49:53.089024Z",
     "start_time": "2024-05-15T17:49:52.839789Z"
    }
   },
   "source": [
    "#import main packages\n",
    "import numpy as np\n",
    "import pandas as pd\n",
    "import matplotlib.pyplot as plt\n",
    "import seaborn as sns\n",
    "import math\n",
    "import warnings\n",
    "from sklearn import preprocessing\n",
    "warnings.filterwarnings('ignore')"
   ],
   "outputs": [],
   "execution_count": 1
  },
  {
   "metadata": {
    "ExecuteTime": {
     "end_time": "2024-05-15T17:49:56.314147Z",
     "start_time": "2024-05-15T17:49:53.089024Z"
    }
   },
   "cell_type": "code",
   "source": [
    "#import main csv files\n",
    "traindata = pd.read_csv('fraudTrain.csv')\n",
    "testdata = pd.read_csv('fraudTest.csv')"
   ],
   "id": "2ed4dc16a46a70d6",
   "outputs": [],
   "execution_count": 2
  },
  {
   "metadata": {
    "ExecuteTime": {
     "end_time": "2024-05-15T17:49:56.331128Z",
     "start_time": "2024-05-15T17:49:56.314147Z"
    }
   },
   "cell_type": "code",
   "source": [
    "traindata.head()\n",
    "testdata.head()"
   ],
   "id": "5a810b011097e902",
   "outputs": [
    {
     "data": {
      "text/plain": [
       "   ID             Time   Card Number                              merchant  \\\n",
       "0   0  6/21/2020 12:14  2.291160e+15                 fraud_Kirlin and Sons   \n",
       "1   1  6/21/2020 12:14  3.573030e+15                  fraud_Sporer-Keebler   \n",
       "2   2  6/21/2020 12:14  3.598220e+15  fraud_Swaniawski, Nitzsche and Welch   \n",
       "3   3  6/21/2020 12:15  3.591920e+15                     fraud_Haley Group   \n",
       "4   4  6/21/2020 12:15  3.526830e+15                 fraud_Johnston-Casper   \n",
       "\n",
       "         category  Amount firstName  lastName  \\\n",
       "0   personal_care    2.86      Jeff   Elliott   \n",
       "1   personal_care   29.84    Joanne  Williams   \n",
       "2  health_fitness   41.28    Ashley     Lopez   \n",
       "3        misc_pos   60.05     Brian  Williams   \n",
       "4          travel    3.19    Nathan    Massey   \n",
       "\n",
       "                          trans_num  is_fraud  \n",
       "0  2da90c7d74bd46a0caf3777415b3ebd3         0  \n",
       "1  324cc204407e99f51b0d6ca0055005e7         0  \n",
       "2  c81755dbbbea9d5c77f094348a7579be         0  \n",
       "3  2159175b9efe66dc301f149d3d5abf8c         0  \n",
       "4  57ff021bd3f328f8738bb535c302a31b         0  "
      ],
      "text/html": [
       "<div>\n",
       "<style scoped>\n",
       "    .dataframe tbody tr th:only-of-type {\n",
       "        vertical-align: middle;\n",
       "    }\n",
       "\n",
       "    .dataframe tbody tr th {\n",
       "        vertical-align: top;\n",
       "    }\n",
       "\n",
       "    .dataframe thead th {\n",
       "        text-align: right;\n",
       "    }\n",
       "</style>\n",
       "<table border=\"1\" class=\"dataframe\">\n",
       "  <thead>\n",
       "    <tr style=\"text-align: right;\">\n",
       "      <th></th>\n",
       "      <th>ID</th>\n",
       "      <th>Time</th>\n",
       "      <th>Card Number</th>\n",
       "      <th>merchant</th>\n",
       "      <th>category</th>\n",
       "      <th>Amount</th>\n",
       "      <th>firstName</th>\n",
       "      <th>lastName</th>\n",
       "      <th>trans_num</th>\n",
       "      <th>is_fraud</th>\n",
       "    </tr>\n",
       "  </thead>\n",
       "  <tbody>\n",
       "    <tr>\n",
       "      <th>0</th>\n",
       "      <td>0</td>\n",
       "      <td>6/21/2020 12:14</td>\n",
       "      <td>2.291160e+15</td>\n",
       "      <td>fraud_Kirlin and Sons</td>\n",
       "      <td>personal_care</td>\n",
       "      <td>2.86</td>\n",
       "      <td>Jeff</td>\n",
       "      <td>Elliott</td>\n",
       "      <td>2da90c7d74bd46a0caf3777415b3ebd3</td>\n",
       "      <td>0</td>\n",
       "    </tr>\n",
       "    <tr>\n",
       "      <th>1</th>\n",
       "      <td>1</td>\n",
       "      <td>6/21/2020 12:14</td>\n",
       "      <td>3.573030e+15</td>\n",
       "      <td>fraud_Sporer-Keebler</td>\n",
       "      <td>personal_care</td>\n",
       "      <td>29.84</td>\n",
       "      <td>Joanne</td>\n",
       "      <td>Williams</td>\n",
       "      <td>324cc204407e99f51b0d6ca0055005e7</td>\n",
       "      <td>0</td>\n",
       "    </tr>\n",
       "    <tr>\n",
       "      <th>2</th>\n",
       "      <td>2</td>\n",
       "      <td>6/21/2020 12:14</td>\n",
       "      <td>3.598220e+15</td>\n",
       "      <td>fraud_Swaniawski, Nitzsche and Welch</td>\n",
       "      <td>health_fitness</td>\n",
       "      <td>41.28</td>\n",
       "      <td>Ashley</td>\n",
       "      <td>Lopez</td>\n",
       "      <td>c81755dbbbea9d5c77f094348a7579be</td>\n",
       "      <td>0</td>\n",
       "    </tr>\n",
       "    <tr>\n",
       "      <th>3</th>\n",
       "      <td>3</td>\n",
       "      <td>6/21/2020 12:15</td>\n",
       "      <td>3.591920e+15</td>\n",
       "      <td>fraud_Haley Group</td>\n",
       "      <td>misc_pos</td>\n",
       "      <td>60.05</td>\n",
       "      <td>Brian</td>\n",
       "      <td>Williams</td>\n",
       "      <td>2159175b9efe66dc301f149d3d5abf8c</td>\n",
       "      <td>0</td>\n",
       "    </tr>\n",
       "    <tr>\n",
       "      <th>4</th>\n",
       "      <td>4</td>\n",
       "      <td>6/21/2020 12:15</td>\n",
       "      <td>3.526830e+15</td>\n",
       "      <td>fraud_Johnston-Casper</td>\n",
       "      <td>travel</td>\n",
       "      <td>3.19</td>\n",
       "      <td>Nathan</td>\n",
       "      <td>Massey</td>\n",
       "      <td>57ff021bd3f328f8738bb535c302a31b</td>\n",
       "      <td>0</td>\n",
       "    </tr>\n",
       "  </tbody>\n",
       "</table>\n",
       "</div>"
      ]
     },
     "execution_count": 3,
     "metadata": {},
     "output_type": "execute_result"
    }
   ],
   "execution_count": 3
  },
  {
   "metadata": {
    "ExecuteTime": {
     "end_time": "2024-05-15T17:49:56.344773Z",
     "start_time": "2024-05-15T17:49:56.331128Z"
    }
   },
   "cell_type": "code",
   "source": "traindata.tail()",
   "id": "33e92b73db7d326c",
   "outputs": [
    {
     "data": {
      "text/plain": [
       "              ID             Time   Card Number               merchant  \\\n",
       "1002099  1002099  2/15/2020 16:40  3.020000e+13        fraud_Thiel Ltd   \n",
       "1002100  1002100  2/15/2020 16:40  3.460000e+14     fraud_Botsford Ltd   \n",
       "1002101  1002101  2/15/2020 16:42  3.810000e+13     fraud_Mayert Group   \n",
       "1002102  1002102  2/15/2020 16:42  3.450000e+14  fraud_Wuckert-Goldner   \n",
       "1002103  1002103  2/15/2020 16:43  2.270000e+15        fraud_Brown Inc   \n",
       "\n",
       "             category  Amount firstName lastName  \\\n",
       "1002099        travel    2.87   Kenneth    Doyle   \n",
       "1002100  shopping_pos    9.09     Donna   Moreno   \n",
       "1002101  shopping_pos   10.00   Marissa    Clark   \n",
       "1002102          home    6.66     Brian    Perez   \n",
       "1002103         kids_     NaN       NaN      NaN   \n",
       "\n",
       "                                trans_num  is_fraud  \n",
       "1002099  dcf7de10c9699f0c11cb8dfd7a8e8f65       0.0  \n",
       "1002100  fa5abf4fdda69146f9c66067e9e163a2       0.0  \n",
       "1002101  cf86f1a0a541182c0078b1dc81082136       0.0  \n",
       "1002102  bb7c2ae90d756beb2414637aa69cbeed       0.0  \n",
       "1002103                               NaN       NaN  "
      ],
      "text/html": [
       "<div>\n",
       "<style scoped>\n",
       "    .dataframe tbody tr th:only-of-type {\n",
       "        vertical-align: middle;\n",
       "    }\n",
       "\n",
       "    .dataframe tbody tr th {\n",
       "        vertical-align: top;\n",
       "    }\n",
       "\n",
       "    .dataframe thead th {\n",
       "        text-align: right;\n",
       "    }\n",
       "</style>\n",
       "<table border=\"1\" class=\"dataframe\">\n",
       "  <thead>\n",
       "    <tr style=\"text-align: right;\">\n",
       "      <th></th>\n",
       "      <th>ID</th>\n",
       "      <th>Time</th>\n",
       "      <th>Card Number</th>\n",
       "      <th>merchant</th>\n",
       "      <th>category</th>\n",
       "      <th>Amount</th>\n",
       "      <th>firstName</th>\n",
       "      <th>lastName</th>\n",
       "      <th>trans_num</th>\n",
       "      <th>is_fraud</th>\n",
       "    </tr>\n",
       "  </thead>\n",
       "  <tbody>\n",
       "    <tr>\n",
       "      <th>1002099</th>\n",
       "      <td>1002099</td>\n",
       "      <td>2/15/2020 16:40</td>\n",
       "      <td>3.020000e+13</td>\n",
       "      <td>fraud_Thiel Ltd</td>\n",
       "      <td>travel</td>\n",
       "      <td>2.87</td>\n",
       "      <td>Kenneth</td>\n",
       "      <td>Doyle</td>\n",
       "      <td>dcf7de10c9699f0c11cb8dfd7a8e8f65</td>\n",
       "      <td>0.0</td>\n",
       "    </tr>\n",
       "    <tr>\n",
       "      <th>1002100</th>\n",
       "      <td>1002100</td>\n",
       "      <td>2/15/2020 16:40</td>\n",
       "      <td>3.460000e+14</td>\n",
       "      <td>fraud_Botsford Ltd</td>\n",
       "      <td>shopping_pos</td>\n",
       "      <td>9.09</td>\n",
       "      <td>Donna</td>\n",
       "      <td>Moreno</td>\n",
       "      <td>fa5abf4fdda69146f9c66067e9e163a2</td>\n",
       "      <td>0.0</td>\n",
       "    </tr>\n",
       "    <tr>\n",
       "      <th>1002101</th>\n",
       "      <td>1002101</td>\n",
       "      <td>2/15/2020 16:42</td>\n",
       "      <td>3.810000e+13</td>\n",
       "      <td>fraud_Mayert Group</td>\n",
       "      <td>shopping_pos</td>\n",
       "      <td>10.00</td>\n",
       "      <td>Marissa</td>\n",
       "      <td>Clark</td>\n",
       "      <td>cf86f1a0a541182c0078b1dc81082136</td>\n",
       "      <td>0.0</td>\n",
       "    </tr>\n",
       "    <tr>\n",
       "      <th>1002102</th>\n",
       "      <td>1002102</td>\n",
       "      <td>2/15/2020 16:42</td>\n",
       "      <td>3.450000e+14</td>\n",
       "      <td>fraud_Wuckert-Goldner</td>\n",
       "      <td>home</td>\n",
       "      <td>6.66</td>\n",
       "      <td>Brian</td>\n",
       "      <td>Perez</td>\n",
       "      <td>bb7c2ae90d756beb2414637aa69cbeed</td>\n",
       "      <td>0.0</td>\n",
       "    </tr>\n",
       "    <tr>\n",
       "      <th>1002103</th>\n",
       "      <td>1002103</td>\n",
       "      <td>2/15/2020 16:43</td>\n",
       "      <td>2.270000e+15</td>\n",
       "      <td>fraud_Brown Inc</td>\n",
       "      <td>kids_</td>\n",
       "      <td>NaN</td>\n",
       "      <td>NaN</td>\n",
       "      <td>NaN</td>\n",
       "      <td>NaN</td>\n",
       "      <td>NaN</td>\n",
       "    </tr>\n",
       "  </tbody>\n",
       "</table>\n",
       "</div>"
      ]
     },
     "execution_count": 4,
     "metadata": {},
     "output_type": "execute_result"
    }
   ],
   "execution_count": 4
  },
  {
   "metadata": {
    "ExecuteTime": {
     "end_time": "2024-05-15T17:49:56.349780Z",
     "start_time": "2024-05-15T17:49:56.344773Z"
    }
   },
   "cell_type": "code",
   "source": "# feature engineering",
   "id": "8ff0660c8073c221",
   "outputs": [],
   "execution_count": 5
  },
  {
   "metadata": {
    "ExecuteTime": {
     "end_time": "2024-05-15T17:49:58.608476Z",
     "start_time": "2024-05-15T17:49:56.349780Z"
    }
   },
   "cell_type": "code",
   "source": [
    "# converting Time to dateTime class object\n",
    "traindata['Time'] = pd.to_datetime(traindata['Time'])\n",
    "testdata['Time'] = pd.to_datetime(testdata['Time'])"
   ],
   "id": "a6f2c7e745217242",
   "outputs": [],
   "execution_count": 6
  },
  {
   "metadata": {
    "ExecuteTime": {
     "end_time": "2024-05-15T17:49:58.616836Z",
     "start_time": "2024-05-15T17:49:58.608476Z"
    }
   },
   "cell_type": "code",
   "source": [
    "print(testdata['Time'].head())\n",
    "print(traindata['Time'].head())"
   ],
   "id": "1703ca16e28520dd",
   "outputs": [
    {
     "name": "stdout",
     "output_type": "stream",
     "text": [
      "0   2020-06-21 12:14:00\n",
      "1   2020-06-21 12:14:00\n",
      "2   2020-06-21 12:14:00\n",
      "3   2020-06-21 12:15:00\n",
      "4   2020-06-21 12:15:00\n",
      "Name: Time, dtype: datetime64[ns]\n",
      "0   2019-01-01 00:00:00\n",
      "1   2019-01-01 00:00:00\n",
      "2   2019-01-01 00:00:00\n",
      "3   2019-01-01 00:01:00\n",
      "4   2019-01-01 00:03:00\n",
      "Name: Time, dtype: datetime64[ns]\n"
     ]
    }
   ],
   "execution_count": 7
  },
  {
   "metadata": {
    "ExecuteTime": {
     "end_time": "2024-05-15T17:49:58.654162Z",
     "start_time": "2024-05-15T17:49:58.616836Z"
    }
   },
   "cell_type": "code",
   "source": "print(traindata['Time'].describe())",
   "id": "500fbc14747d545d",
   "outputs": [
    {
     "name": "stdout",
     "output_type": "stream",
     "text": [
      "count                          1002104\n",
      "mean     2019-08-04 22:56:49.627184128\n",
      "min                2019-01-01 00:00:00\n",
      "25%                2019-05-05 11:43:00\n",
      "50%                2019-08-05 16:02:30\n",
      "75%                2019-11-17 17:16:00\n",
      "max                2020-02-15 16:43:00\n",
      "Name: Time, dtype: object\n"
     ]
    }
   ],
   "execution_count": 8
  },
  {
   "metadata": {
    "ExecuteTime": {
     "end_time": "2024-05-15T17:49:58.851231Z",
     "start_time": "2024-05-15T17:49:58.654162Z"
    }
   },
   "cell_type": "code",
   "source": [
    "# adding mont and day and year to the dataset\n",
    "\n",
    "traindata['Day'] = traindata['Time'].dt.day\n",
    "traindata['Month'] = traindata['Time'].dt.month\n",
    "traindata['Year'] = traindata['Time'].dt.year\n",
    "\n",
    "\n",
    "testdata['Day'] = testdata['Time'].dt.day\n",
    "testdata['Month'] = testdata['Time'].dt.month\n",
    "testdata['Year'] = testdata['Time'].dt.year\n"
   ],
   "id": "442acdf7acefe387",
   "outputs": [],
   "execution_count": 9
  },
  {
   "metadata": {
    "ExecuteTime": {
     "end_time": "2024-05-15T17:49:58.867663Z",
     "start_time": "2024-05-15T17:49:58.851231Z"
    }
   },
   "cell_type": "code",
   "source": "testdata.head()",
   "id": "20f95312d776bb45",
   "outputs": [
    {
     "data": {
      "text/plain": [
       "   ID                Time   Card Number                              merchant  \\\n",
       "0   0 2020-06-21 12:14:00  2.291160e+15                 fraud_Kirlin and Sons   \n",
       "1   1 2020-06-21 12:14:00  3.573030e+15                  fraud_Sporer-Keebler   \n",
       "2   2 2020-06-21 12:14:00  3.598220e+15  fraud_Swaniawski, Nitzsche and Welch   \n",
       "3   3 2020-06-21 12:15:00  3.591920e+15                     fraud_Haley Group   \n",
       "4   4 2020-06-21 12:15:00  3.526830e+15                 fraud_Johnston-Casper   \n",
       "\n",
       "         category  Amount firstName  lastName  \\\n",
       "0   personal_care    2.86      Jeff   Elliott   \n",
       "1   personal_care   29.84    Joanne  Williams   \n",
       "2  health_fitness   41.28    Ashley     Lopez   \n",
       "3        misc_pos   60.05     Brian  Williams   \n",
       "4          travel    3.19    Nathan    Massey   \n",
       "\n",
       "                          trans_num  is_fraud  Day  Month  Year  \n",
       "0  2da90c7d74bd46a0caf3777415b3ebd3         0   21      6  2020  \n",
       "1  324cc204407e99f51b0d6ca0055005e7         0   21      6  2020  \n",
       "2  c81755dbbbea9d5c77f094348a7579be         0   21      6  2020  \n",
       "3  2159175b9efe66dc301f149d3d5abf8c         0   21      6  2020  \n",
       "4  57ff021bd3f328f8738bb535c302a31b         0   21      6  2020  "
      ],
      "text/html": [
       "<div>\n",
       "<style scoped>\n",
       "    .dataframe tbody tr th:only-of-type {\n",
       "        vertical-align: middle;\n",
       "    }\n",
       "\n",
       "    .dataframe tbody tr th {\n",
       "        vertical-align: top;\n",
       "    }\n",
       "\n",
       "    .dataframe thead th {\n",
       "        text-align: right;\n",
       "    }\n",
       "</style>\n",
       "<table border=\"1\" class=\"dataframe\">\n",
       "  <thead>\n",
       "    <tr style=\"text-align: right;\">\n",
       "      <th></th>\n",
       "      <th>ID</th>\n",
       "      <th>Time</th>\n",
       "      <th>Card Number</th>\n",
       "      <th>merchant</th>\n",
       "      <th>category</th>\n",
       "      <th>Amount</th>\n",
       "      <th>firstName</th>\n",
       "      <th>lastName</th>\n",
       "      <th>trans_num</th>\n",
       "      <th>is_fraud</th>\n",
       "      <th>Day</th>\n",
       "      <th>Month</th>\n",
       "      <th>Year</th>\n",
       "    </tr>\n",
       "  </thead>\n",
       "  <tbody>\n",
       "    <tr>\n",
       "      <th>0</th>\n",
       "      <td>0</td>\n",
       "      <td>2020-06-21 12:14:00</td>\n",
       "      <td>2.291160e+15</td>\n",
       "      <td>fraud_Kirlin and Sons</td>\n",
       "      <td>personal_care</td>\n",
       "      <td>2.86</td>\n",
       "      <td>Jeff</td>\n",
       "      <td>Elliott</td>\n",
       "      <td>2da90c7d74bd46a0caf3777415b3ebd3</td>\n",
       "      <td>0</td>\n",
       "      <td>21</td>\n",
       "      <td>6</td>\n",
       "      <td>2020</td>\n",
       "    </tr>\n",
       "    <tr>\n",
       "      <th>1</th>\n",
       "      <td>1</td>\n",
       "      <td>2020-06-21 12:14:00</td>\n",
       "      <td>3.573030e+15</td>\n",
       "      <td>fraud_Sporer-Keebler</td>\n",
       "      <td>personal_care</td>\n",
       "      <td>29.84</td>\n",
       "      <td>Joanne</td>\n",
       "      <td>Williams</td>\n",
       "      <td>324cc204407e99f51b0d6ca0055005e7</td>\n",
       "      <td>0</td>\n",
       "      <td>21</td>\n",
       "      <td>6</td>\n",
       "      <td>2020</td>\n",
       "    </tr>\n",
       "    <tr>\n",
       "      <th>2</th>\n",
       "      <td>2</td>\n",
       "      <td>2020-06-21 12:14:00</td>\n",
       "      <td>3.598220e+15</td>\n",
       "      <td>fraud_Swaniawski, Nitzsche and Welch</td>\n",
       "      <td>health_fitness</td>\n",
       "      <td>41.28</td>\n",
       "      <td>Ashley</td>\n",
       "      <td>Lopez</td>\n",
       "      <td>c81755dbbbea9d5c77f094348a7579be</td>\n",
       "      <td>0</td>\n",
       "      <td>21</td>\n",
       "      <td>6</td>\n",
       "      <td>2020</td>\n",
       "    </tr>\n",
       "    <tr>\n",
       "      <th>3</th>\n",
       "      <td>3</td>\n",
       "      <td>2020-06-21 12:15:00</td>\n",
       "      <td>3.591920e+15</td>\n",
       "      <td>fraud_Haley Group</td>\n",
       "      <td>misc_pos</td>\n",
       "      <td>60.05</td>\n",
       "      <td>Brian</td>\n",
       "      <td>Williams</td>\n",
       "      <td>2159175b9efe66dc301f149d3d5abf8c</td>\n",
       "      <td>0</td>\n",
       "      <td>21</td>\n",
       "      <td>6</td>\n",
       "      <td>2020</td>\n",
       "    </tr>\n",
       "    <tr>\n",
       "      <th>4</th>\n",
       "      <td>4</td>\n",
       "      <td>2020-06-21 12:15:00</td>\n",
       "      <td>3.526830e+15</td>\n",
       "      <td>fraud_Johnston-Casper</td>\n",
       "      <td>travel</td>\n",
       "      <td>3.19</td>\n",
       "      <td>Nathan</td>\n",
       "      <td>Massey</td>\n",
       "      <td>57ff021bd3f328f8738bb535c302a31b</td>\n",
       "      <td>0</td>\n",
       "      <td>21</td>\n",
       "      <td>6</td>\n",
       "      <td>2020</td>\n",
       "    </tr>\n",
       "  </tbody>\n",
       "</table>\n",
       "</div>"
      ]
     },
     "execution_count": 10,
     "metadata": {},
     "output_type": "execute_result"
    }
   ],
   "execution_count": 10
  },
  {
   "metadata": {
    "ExecuteTime": {
     "end_time": "2024-05-15T17:49:58.881161Z",
     "start_time": "2024-05-15T17:49:58.867663Z"
    }
   },
   "cell_type": "code",
   "source": "traindata.tail()",
   "id": "11ae037b22f9fd7b",
   "outputs": [
    {
     "data": {
      "text/plain": [
       "              ID                Time   Card Number               merchant  \\\n",
       "1002099  1002099 2020-02-15 16:40:00  3.020000e+13        fraud_Thiel Ltd   \n",
       "1002100  1002100 2020-02-15 16:40:00  3.460000e+14     fraud_Botsford Ltd   \n",
       "1002101  1002101 2020-02-15 16:42:00  3.810000e+13     fraud_Mayert Group   \n",
       "1002102  1002102 2020-02-15 16:42:00  3.450000e+14  fraud_Wuckert-Goldner   \n",
       "1002103  1002103 2020-02-15 16:43:00  2.270000e+15        fraud_Brown Inc   \n",
       "\n",
       "             category  Amount firstName lastName  \\\n",
       "1002099        travel    2.87   Kenneth    Doyle   \n",
       "1002100  shopping_pos    9.09     Donna   Moreno   \n",
       "1002101  shopping_pos   10.00   Marissa    Clark   \n",
       "1002102          home    6.66     Brian    Perez   \n",
       "1002103         kids_     NaN       NaN      NaN   \n",
       "\n",
       "                                trans_num  is_fraud  Day  Month  Year  \n",
       "1002099  dcf7de10c9699f0c11cb8dfd7a8e8f65       0.0   15      2  2020  \n",
       "1002100  fa5abf4fdda69146f9c66067e9e163a2       0.0   15      2  2020  \n",
       "1002101  cf86f1a0a541182c0078b1dc81082136       0.0   15      2  2020  \n",
       "1002102  bb7c2ae90d756beb2414637aa69cbeed       0.0   15      2  2020  \n",
       "1002103                               NaN       NaN   15      2  2020  "
      ],
      "text/html": [
       "<div>\n",
       "<style scoped>\n",
       "    .dataframe tbody tr th:only-of-type {\n",
       "        vertical-align: middle;\n",
       "    }\n",
       "\n",
       "    .dataframe tbody tr th {\n",
       "        vertical-align: top;\n",
       "    }\n",
       "\n",
       "    .dataframe thead th {\n",
       "        text-align: right;\n",
       "    }\n",
       "</style>\n",
       "<table border=\"1\" class=\"dataframe\">\n",
       "  <thead>\n",
       "    <tr style=\"text-align: right;\">\n",
       "      <th></th>\n",
       "      <th>ID</th>\n",
       "      <th>Time</th>\n",
       "      <th>Card Number</th>\n",
       "      <th>merchant</th>\n",
       "      <th>category</th>\n",
       "      <th>Amount</th>\n",
       "      <th>firstName</th>\n",
       "      <th>lastName</th>\n",
       "      <th>trans_num</th>\n",
       "      <th>is_fraud</th>\n",
       "      <th>Day</th>\n",
       "      <th>Month</th>\n",
       "      <th>Year</th>\n",
       "    </tr>\n",
       "  </thead>\n",
       "  <tbody>\n",
       "    <tr>\n",
       "      <th>1002099</th>\n",
       "      <td>1002099</td>\n",
       "      <td>2020-02-15 16:40:00</td>\n",
       "      <td>3.020000e+13</td>\n",
       "      <td>fraud_Thiel Ltd</td>\n",
       "      <td>travel</td>\n",
       "      <td>2.87</td>\n",
       "      <td>Kenneth</td>\n",
       "      <td>Doyle</td>\n",
       "      <td>dcf7de10c9699f0c11cb8dfd7a8e8f65</td>\n",
       "      <td>0.0</td>\n",
       "      <td>15</td>\n",
       "      <td>2</td>\n",
       "      <td>2020</td>\n",
       "    </tr>\n",
       "    <tr>\n",
       "      <th>1002100</th>\n",
       "      <td>1002100</td>\n",
       "      <td>2020-02-15 16:40:00</td>\n",
       "      <td>3.460000e+14</td>\n",
       "      <td>fraud_Botsford Ltd</td>\n",
       "      <td>shopping_pos</td>\n",
       "      <td>9.09</td>\n",
       "      <td>Donna</td>\n",
       "      <td>Moreno</td>\n",
       "      <td>fa5abf4fdda69146f9c66067e9e163a2</td>\n",
       "      <td>0.0</td>\n",
       "      <td>15</td>\n",
       "      <td>2</td>\n",
       "      <td>2020</td>\n",
       "    </tr>\n",
       "    <tr>\n",
       "      <th>1002101</th>\n",
       "      <td>1002101</td>\n",
       "      <td>2020-02-15 16:42:00</td>\n",
       "      <td>3.810000e+13</td>\n",
       "      <td>fraud_Mayert Group</td>\n",
       "      <td>shopping_pos</td>\n",
       "      <td>10.00</td>\n",
       "      <td>Marissa</td>\n",
       "      <td>Clark</td>\n",
       "      <td>cf86f1a0a541182c0078b1dc81082136</td>\n",
       "      <td>0.0</td>\n",
       "      <td>15</td>\n",
       "      <td>2</td>\n",
       "      <td>2020</td>\n",
       "    </tr>\n",
       "    <tr>\n",
       "      <th>1002102</th>\n",
       "      <td>1002102</td>\n",
       "      <td>2020-02-15 16:42:00</td>\n",
       "      <td>3.450000e+14</td>\n",
       "      <td>fraud_Wuckert-Goldner</td>\n",
       "      <td>home</td>\n",
       "      <td>6.66</td>\n",
       "      <td>Brian</td>\n",
       "      <td>Perez</td>\n",
       "      <td>bb7c2ae90d756beb2414637aa69cbeed</td>\n",
       "      <td>0.0</td>\n",
       "      <td>15</td>\n",
       "      <td>2</td>\n",
       "      <td>2020</td>\n",
       "    </tr>\n",
       "    <tr>\n",
       "      <th>1002103</th>\n",
       "      <td>1002103</td>\n",
       "      <td>2020-02-15 16:43:00</td>\n",
       "      <td>2.270000e+15</td>\n",
       "      <td>fraud_Brown Inc</td>\n",
       "      <td>kids_</td>\n",
       "      <td>NaN</td>\n",
       "      <td>NaN</td>\n",
       "      <td>NaN</td>\n",
       "      <td>NaN</td>\n",
       "      <td>NaN</td>\n",
       "      <td>15</td>\n",
       "      <td>2</td>\n",
       "      <td>2020</td>\n",
       "    </tr>\n",
       "  </tbody>\n",
       "</table>\n",
       "</div>"
      ]
     },
     "execution_count": 11,
     "metadata": {},
     "output_type": "execute_result"
    }
   ],
   "execution_count": 11
  },
  {
   "metadata": {
    "ExecuteTime": {
     "end_time": "2024-05-15T17:49:59.014177Z",
     "start_time": "2024-05-15T17:49:58.881161Z"
    }
   },
   "cell_type": "code",
   "source": [
    "# adding hour and minute to the dataset\n",
    "traindata['Hour'] = traindata['Time'].dt.hour\n",
    "traindata['Minute'] = traindata['Time'].dt.minute\n",
    "\n",
    "testdata['Hour'] = testdata['Time'].dt.hour\n",
    "testdata['Minute'] = testdata['Time'].dt.minute"
   ],
   "id": "32a2591889ddad8",
   "outputs": [],
   "execution_count": 12
  },
  {
   "metadata": {
    "ExecuteTime": {
     "end_time": "2024-05-15T17:49:59.029188Z",
     "start_time": "2024-05-15T17:49:59.016685Z"
    }
   },
   "cell_type": "code",
   "source": "testdata.head()",
   "id": "d2c7c5c9268beb99",
   "outputs": [
    {
     "data": {
      "text/plain": [
       "   ID                Time   Card Number                              merchant  \\\n",
       "0   0 2020-06-21 12:14:00  2.291160e+15                 fraud_Kirlin and Sons   \n",
       "1   1 2020-06-21 12:14:00  3.573030e+15                  fraud_Sporer-Keebler   \n",
       "2   2 2020-06-21 12:14:00  3.598220e+15  fraud_Swaniawski, Nitzsche and Welch   \n",
       "3   3 2020-06-21 12:15:00  3.591920e+15                     fraud_Haley Group   \n",
       "4   4 2020-06-21 12:15:00  3.526830e+15                 fraud_Johnston-Casper   \n",
       "\n",
       "         category  Amount firstName  lastName  \\\n",
       "0   personal_care    2.86      Jeff   Elliott   \n",
       "1   personal_care   29.84    Joanne  Williams   \n",
       "2  health_fitness   41.28    Ashley     Lopez   \n",
       "3        misc_pos   60.05     Brian  Williams   \n",
       "4          travel    3.19    Nathan    Massey   \n",
       "\n",
       "                          trans_num  is_fraud  Day  Month  Year  Hour  Minute  \n",
       "0  2da90c7d74bd46a0caf3777415b3ebd3         0   21      6  2020    12      14  \n",
       "1  324cc204407e99f51b0d6ca0055005e7         0   21      6  2020    12      14  \n",
       "2  c81755dbbbea9d5c77f094348a7579be         0   21      6  2020    12      14  \n",
       "3  2159175b9efe66dc301f149d3d5abf8c         0   21      6  2020    12      15  \n",
       "4  57ff021bd3f328f8738bb535c302a31b         0   21      6  2020    12      15  "
      ],
      "text/html": [
       "<div>\n",
       "<style scoped>\n",
       "    .dataframe tbody tr th:only-of-type {\n",
       "        vertical-align: middle;\n",
       "    }\n",
       "\n",
       "    .dataframe tbody tr th {\n",
       "        vertical-align: top;\n",
       "    }\n",
       "\n",
       "    .dataframe thead th {\n",
       "        text-align: right;\n",
       "    }\n",
       "</style>\n",
       "<table border=\"1\" class=\"dataframe\">\n",
       "  <thead>\n",
       "    <tr style=\"text-align: right;\">\n",
       "      <th></th>\n",
       "      <th>ID</th>\n",
       "      <th>Time</th>\n",
       "      <th>Card Number</th>\n",
       "      <th>merchant</th>\n",
       "      <th>category</th>\n",
       "      <th>Amount</th>\n",
       "      <th>firstName</th>\n",
       "      <th>lastName</th>\n",
       "      <th>trans_num</th>\n",
       "      <th>is_fraud</th>\n",
       "      <th>Day</th>\n",
       "      <th>Month</th>\n",
       "      <th>Year</th>\n",
       "      <th>Hour</th>\n",
       "      <th>Minute</th>\n",
       "    </tr>\n",
       "  </thead>\n",
       "  <tbody>\n",
       "    <tr>\n",
       "      <th>0</th>\n",
       "      <td>0</td>\n",
       "      <td>2020-06-21 12:14:00</td>\n",
       "      <td>2.291160e+15</td>\n",
       "      <td>fraud_Kirlin and Sons</td>\n",
       "      <td>personal_care</td>\n",
       "      <td>2.86</td>\n",
       "      <td>Jeff</td>\n",
       "      <td>Elliott</td>\n",
       "      <td>2da90c7d74bd46a0caf3777415b3ebd3</td>\n",
       "      <td>0</td>\n",
       "      <td>21</td>\n",
       "      <td>6</td>\n",
       "      <td>2020</td>\n",
       "      <td>12</td>\n",
       "      <td>14</td>\n",
       "    </tr>\n",
       "    <tr>\n",
       "      <th>1</th>\n",
       "      <td>1</td>\n",
       "      <td>2020-06-21 12:14:00</td>\n",
       "      <td>3.573030e+15</td>\n",
       "      <td>fraud_Sporer-Keebler</td>\n",
       "      <td>personal_care</td>\n",
       "      <td>29.84</td>\n",
       "      <td>Joanne</td>\n",
       "      <td>Williams</td>\n",
       "      <td>324cc204407e99f51b0d6ca0055005e7</td>\n",
       "      <td>0</td>\n",
       "      <td>21</td>\n",
       "      <td>6</td>\n",
       "      <td>2020</td>\n",
       "      <td>12</td>\n",
       "      <td>14</td>\n",
       "    </tr>\n",
       "    <tr>\n",
       "      <th>2</th>\n",
       "      <td>2</td>\n",
       "      <td>2020-06-21 12:14:00</td>\n",
       "      <td>3.598220e+15</td>\n",
       "      <td>fraud_Swaniawski, Nitzsche and Welch</td>\n",
       "      <td>health_fitness</td>\n",
       "      <td>41.28</td>\n",
       "      <td>Ashley</td>\n",
       "      <td>Lopez</td>\n",
       "      <td>c81755dbbbea9d5c77f094348a7579be</td>\n",
       "      <td>0</td>\n",
       "      <td>21</td>\n",
       "      <td>6</td>\n",
       "      <td>2020</td>\n",
       "      <td>12</td>\n",
       "      <td>14</td>\n",
       "    </tr>\n",
       "    <tr>\n",
       "      <th>3</th>\n",
       "      <td>3</td>\n",
       "      <td>2020-06-21 12:15:00</td>\n",
       "      <td>3.591920e+15</td>\n",
       "      <td>fraud_Haley Group</td>\n",
       "      <td>misc_pos</td>\n",
       "      <td>60.05</td>\n",
       "      <td>Brian</td>\n",
       "      <td>Williams</td>\n",
       "      <td>2159175b9efe66dc301f149d3d5abf8c</td>\n",
       "      <td>0</td>\n",
       "      <td>21</td>\n",
       "      <td>6</td>\n",
       "      <td>2020</td>\n",
       "      <td>12</td>\n",
       "      <td>15</td>\n",
       "    </tr>\n",
       "    <tr>\n",
       "      <th>4</th>\n",
       "      <td>4</td>\n",
       "      <td>2020-06-21 12:15:00</td>\n",
       "      <td>3.526830e+15</td>\n",
       "      <td>fraud_Johnston-Casper</td>\n",
       "      <td>travel</td>\n",
       "      <td>3.19</td>\n",
       "      <td>Nathan</td>\n",
       "      <td>Massey</td>\n",
       "      <td>57ff021bd3f328f8738bb535c302a31b</td>\n",
       "      <td>0</td>\n",
       "      <td>21</td>\n",
       "      <td>6</td>\n",
       "      <td>2020</td>\n",
       "      <td>12</td>\n",
       "      <td>15</td>\n",
       "    </tr>\n",
       "  </tbody>\n",
       "</table>\n",
       "</div>"
      ]
     },
     "execution_count": 13,
     "metadata": {},
     "output_type": "execute_result"
    }
   ],
   "execution_count": 13
  },
  {
   "metadata": {
    "ExecuteTime": {
     "end_time": "2024-05-15T17:49:59.042516Z",
     "start_time": "2024-05-15T17:49:59.029188Z"
    }
   },
   "cell_type": "code",
   "source": "traindata.tail()",
   "id": "338d47e4025151e3",
   "outputs": [
    {
     "data": {
      "text/plain": [
       "              ID                Time   Card Number               merchant  \\\n",
       "1002099  1002099 2020-02-15 16:40:00  3.020000e+13        fraud_Thiel Ltd   \n",
       "1002100  1002100 2020-02-15 16:40:00  3.460000e+14     fraud_Botsford Ltd   \n",
       "1002101  1002101 2020-02-15 16:42:00  3.810000e+13     fraud_Mayert Group   \n",
       "1002102  1002102 2020-02-15 16:42:00  3.450000e+14  fraud_Wuckert-Goldner   \n",
       "1002103  1002103 2020-02-15 16:43:00  2.270000e+15        fraud_Brown Inc   \n",
       "\n",
       "             category  Amount firstName lastName  \\\n",
       "1002099        travel    2.87   Kenneth    Doyle   \n",
       "1002100  shopping_pos    9.09     Donna   Moreno   \n",
       "1002101  shopping_pos   10.00   Marissa    Clark   \n",
       "1002102          home    6.66     Brian    Perez   \n",
       "1002103         kids_     NaN       NaN      NaN   \n",
       "\n",
       "                                trans_num  is_fraud  Day  Month  Year  Hour  \\\n",
       "1002099  dcf7de10c9699f0c11cb8dfd7a8e8f65       0.0   15      2  2020    16   \n",
       "1002100  fa5abf4fdda69146f9c66067e9e163a2       0.0   15      2  2020    16   \n",
       "1002101  cf86f1a0a541182c0078b1dc81082136       0.0   15      2  2020    16   \n",
       "1002102  bb7c2ae90d756beb2414637aa69cbeed       0.0   15      2  2020    16   \n",
       "1002103                               NaN       NaN   15      2  2020    16   \n",
       "\n",
       "         Minute  \n",
       "1002099      40  \n",
       "1002100      40  \n",
       "1002101      42  \n",
       "1002102      42  \n",
       "1002103      43  "
      ],
      "text/html": [
       "<div>\n",
       "<style scoped>\n",
       "    .dataframe tbody tr th:only-of-type {\n",
       "        vertical-align: middle;\n",
       "    }\n",
       "\n",
       "    .dataframe tbody tr th {\n",
       "        vertical-align: top;\n",
       "    }\n",
       "\n",
       "    .dataframe thead th {\n",
       "        text-align: right;\n",
       "    }\n",
       "</style>\n",
       "<table border=\"1\" class=\"dataframe\">\n",
       "  <thead>\n",
       "    <tr style=\"text-align: right;\">\n",
       "      <th></th>\n",
       "      <th>ID</th>\n",
       "      <th>Time</th>\n",
       "      <th>Card Number</th>\n",
       "      <th>merchant</th>\n",
       "      <th>category</th>\n",
       "      <th>Amount</th>\n",
       "      <th>firstName</th>\n",
       "      <th>lastName</th>\n",
       "      <th>trans_num</th>\n",
       "      <th>is_fraud</th>\n",
       "      <th>Day</th>\n",
       "      <th>Month</th>\n",
       "      <th>Year</th>\n",
       "      <th>Hour</th>\n",
       "      <th>Minute</th>\n",
       "    </tr>\n",
       "  </thead>\n",
       "  <tbody>\n",
       "    <tr>\n",
       "      <th>1002099</th>\n",
       "      <td>1002099</td>\n",
       "      <td>2020-02-15 16:40:00</td>\n",
       "      <td>3.020000e+13</td>\n",
       "      <td>fraud_Thiel Ltd</td>\n",
       "      <td>travel</td>\n",
       "      <td>2.87</td>\n",
       "      <td>Kenneth</td>\n",
       "      <td>Doyle</td>\n",
       "      <td>dcf7de10c9699f0c11cb8dfd7a8e8f65</td>\n",
       "      <td>0.0</td>\n",
       "      <td>15</td>\n",
       "      <td>2</td>\n",
       "      <td>2020</td>\n",
       "      <td>16</td>\n",
       "      <td>40</td>\n",
       "    </tr>\n",
       "    <tr>\n",
       "      <th>1002100</th>\n",
       "      <td>1002100</td>\n",
       "      <td>2020-02-15 16:40:00</td>\n",
       "      <td>3.460000e+14</td>\n",
       "      <td>fraud_Botsford Ltd</td>\n",
       "      <td>shopping_pos</td>\n",
       "      <td>9.09</td>\n",
       "      <td>Donna</td>\n",
       "      <td>Moreno</td>\n",
       "      <td>fa5abf4fdda69146f9c66067e9e163a2</td>\n",
       "      <td>0.0</td>\n",
       "      <td>15</td>\n",
       "      <td>2</td>\n",
       "      <td>2020</td>\n",
       "      <td>16</td>\n",
       "      <td>40</td>\n",
       "    </tr>\n",
       "    <tr>\n",
       "      <th>1002101</th>\n",
       "      <td>1002101</td>\n",
       "      <td>2020-02-15 16:42:00</td>\n",
       "      <td>3.810000e+13</td>\n",
       "      <td>fraud_Mayert Group</td>\n",
       "      <td>shopping_pos</td>\n",
       "      <td>10.00</td>\n",
       "      <td>Marissa</td>\n",
       "      <td>Clark</td>\n",
       "      <td>cf86f1a0a541182c0078b1dc81082136</td>\n",
       "      <td>0.0</td>\n",
       "      <td>15</td>\n",
       "      <td>2</td>\n",
       "      <td>2020</td>\n",
       "      <td>16</td>\n",
       "      <td>42</td>\n",
       "    </tr>\n",
       "    <tr>\n",
       "      <th>1002102</th>\n",
       "      <td>1002102</td>\n",
       "      <td>2020-02-15 16:42:00</td>\n",
       "      <td>3.450000e+14</td>\n",
       "      <td>fraud_Wuckert-Goldner</td>\n",
       "      <td>home</td>\n",
       "      <td>6.66</td>\n",
       "      <td>Brian</td>\n",
       "      <td>Perez</td>\n",
       "      <td>bb7c2ae90d756beb2414637aa69cbeed</td>\n",
       "      <td>0.0</td>\n",
       "      <td>15</td>\n",
       "      <td>2</td>\n",
       "      <td>2020</td>\n",
       "      <td>16</td>\n",
       "      <td>42</td>\n",
       "    </tr>\n",
       "    <tr>\n",
       "      <th>1002103</th>\n",
       "      <td>1002103</td>\n",
       "      <td>2020-02-15 16:43:00</td>\n",
       "      <td>2.270000e+15</td>\n",
       "      <td>fraud_Brown Inc</td>\n",
       "      <td>kids_</td>\n",
       "      <td>NaN</td>\n",
       "      <td>NaN</td>\n",
       "      <td>NaN</td>\n",
       "      <td>NaN</td>\n",
       "      <td>NaN</td>\n",
       "      <td>15</td>\n",
       "      <td>2</td>\n",
       "      <td>2020</td>\n",
       "      <td>16</td>\n",
       "      <td>43</td>\n",
       "    </tr>\n",
       "  </tbody>\n",
       "</table>\n",
       "</div>"
      ]
     },
     "execution_count": 14,
     "metadata": {},
     "output_type": "execute_result"
    }
   ],
   "execution_count": 14
  },
  {
   "metadata": {
    "ExecuteTime": {
     "end_time": "2024-05-15T17:49:59.073377Z",
     "start_time": "2024-05-15T17:49:59.042516Z"
    }
   },
   "cell_type": "code",
   "source": [
    "#the number of unique value \n",
    "print(traindata['is_fraud'].nunique())\n",
    "print(traindata['is_fraud'].unique())\n",
    "\n",
    "print('------------------------------')\n",
    "print(testdata['is_fraud'].nunique())\n",
    "print(testdata['is_fraud'].unique())"
   ],
   "id": "1e69ffcc7a4809bf",
   "outputs": [
    {
     "name": "stdout",
     "output_type": "stream",
     "text": [
      "2\n",
      "[ 0.  1. nan]\n",
      "------------------------------\n",
      "2\n",
      "[0 1]\n"
     ]
    }
   ],
   "execution_count": 15
  },
  {
   "metadata": {
    "ExecuteTime": {
     "end_time": "2024-05-15T17:49:59.079662Z",
     "start_time": "2024-05-15T17:49:59.073377Z"
    }
   },
   "cell_type": "code",
   "source": "# data cleansing",
   "id": "b7126bc5ca5f216c",
   "outputs": [],
   "execution_count": 16
  },
  {
   "metadata": {
    "ExecuteTime": {
     "end_time": "2024-05-15T17:49:59.095963Z",
     "start_time": "2024-05-15T17:49:59.079662Z"
    }
   },
   "cell_type": "code",
   "source": [
    "print(pd.value_counts(traindata['is_fraud']))\n",
    "print(pd.value_counts(testdata['is_fraud']))\n"
   ],
   "id": "b3e1703101976d4d",
   "outputs": [
    {
     "name": "stdout",
     "output_type": "stream",
     "text": [
      "is_fraud\n",
      "0.0    996390\n",
      "1.0      5713\n",
      "Name: count, dtype: int64\n",
      "is_fraud\n",
      "0    553574\n",
      "1      2145\n",
      "Name: count, dtype: int64\n"
     ]
    }
   ],
   "execution_count": 17
  },
  {
   "metadata": {
    "ExecuteTime": {
     "end_time": "2024-05-15T17:49:59.102288Z",
     "start_time": "2024-05-15T17:49:59.095963Z"
    }
   },
   "cell_type": "code",
   "source": "traindata.shape",
   "id": "7cbe6d21a007d503",
   "outputs": [
    {
     "data": {
      "text/plain": [
       "(1002104, 15)"
      ]
     },
     "execution_count": 18,
     "metadata": {},
     "output_type": "execute_result"
    }
   ],
   "execution_count": 18
  },
  {
   "metadata": {
    "ExecuteTime": {
     "end_time": "2024-05-15T17:49:59.108069Z",
     "start_time": "2024-05-15T17:49:59.102288Z"
    }
   },
   "cell_type": "code",
   "source": "testdata.shape\n",
   "id": "e69fe3d7a8280163",
   "outputs": [
    {
     "data": {
      "text/plain": [
       "(555719, 15)"
      ]
     },
     "execution_count": 19,
     "metadata": {},
     "output_type": "execute_result"
    }
   ],
   "execution_count": 19
  },
  {
   "metadata": {
    "ExecuteTime": {
     "end_time": "2024-05-15T17:49:59.396922Z",
     "start_time": "2024-05-15T17:49:59.108069Z"
    }
   },
   "cell_type": "code",
   "source": [
    "#count the number of nulls\n",
    "print(traindata.isnull().sum())\n",
    "print(testdata.isnull().sum())\n"
   ],
   "id": "66949595c5ccd73d",
   "outputs": [
    {
     "name": "stdout",
     "output_type": "stream",
     "text": [
      "ID             0\n",
      "Time           0\n",
      "Card Number    0\n",
      "merchant       0\n",
      "category       0\n",
      "Amount         1\n",
      "firstName      1\n",
      "lastName       1\n",
      "trans_num      1\n",
      "is_fraud       1\n",
      "Day            0\n",
      "Month          0\n",
      "Year           0\n",
      "Hour           0\n",
      "Minute         0\n",
      "dtype: int64\n",
      "ID             0\n",
      "Time           0\n",
      "Card Number    0\n",
      "merchant       0\n",
      "category       0\n",
      "Amount         0\n",
      "firstName      0\n",
      "lastName       0\n",
      "trans_num      0\n",
      "is_fraud       0\n",
      "Day            0\n",
      "Month          0\n",
      "Year           0\n",
      "Hour           0\n",
      "Minute         0\n",
      "dtype: int64\n"
     ]
    }
   ],
   "execution_count": 20
  },
  {
   "metadata": {
    "ExecuteTime": {
     "end_time": "2024-05-15T17:49:59.732511Z",
     "start_time": "2024-05-15T17:49:59.396922Z"
    }
   },
   "cell_type": "code",
   "source": [
    "# dropping nan raws\n",
    "traindata.dropna(inplace = True)"
   ],
   "id": "ae83d4c668b623c9",
   "outputs": [],
   "execution_count": 21
  },
  {
   "metadata": {
    "ExecuteTime": {
     "end_time": "2024-05-15T17:49:59.745255Z",
     "start_time": "2024-05-15T17:49:59.732511Z"
    }
   },
   "cell_type": "code",
   "source": "traindata['is_fraud'] = traindata['is_fraud'].astype(int)\n",
   "id": "9dc3849f0f3ee77e",
   "outputs": [],
   "execution_count": 22
  },
  {
   "metadata": {
    "ExecuteTime": {
     "end_time": "2024-05-15T17:49:59.753250Z",
     "start_time": "2024-05-15T17:49:59.745255Z"
    }
   },
   "cell_type": "code",
   "source": "traindata.shape",
   "id": "52bc5f836b95e453",
   "outputs": [
    {
     "data": {
      "text/plain": [
       "(1002103, 15)"
      ]
     },
     "execution_count": 23,
     "metadata": {},
     "output_type": "execute_result"
    }
   ],
   "execution_count": 23
  },
  {
   "metadata": {
    "ExecuteTime": {
     "end_time": "2024-05-15T17:50:00.506628Z",
     "start_time": "2024-05-15T17:49:59.755257Z"
    }
   },
   "cell_type": "code",
   "source": "print('number of unique values: ', traindata.nunique())",
   "id": "fcee9804dcb123dc",
   "outputs": [
    {
     "name": "stdout",
     "output_type": "stream",
     "text": [
      "number of unique values:  ID             1002103\n",
      "Time            452759\n",
      "Card Number        320\n",
      "merchant           693\n",
      "category            14\n",
      "Amount           47730\n",
      "firstName          347\n",
      "lastName           478\n",
      "trans_num      1002103\n",
      "is_fraud             2\n",
      "Day                 31\n",
      "Month               12\n",
      "Year                 2\n",
      "Hour                24\n",
      "Minute              60\n",
      "dtype: int64\n"
     ]
    }
   ],
   "execution_count": 24
  },
  {
   "metadata": {
    "ExecuteTime": {
     "end_time": "2024-05-15T17:50:00.513786Z",
     "start_time": "2024-05-15T17:50:00.506628Z"
    }
   },
   "cell_type": "code",
   "source": "testdata.shape",
   "id": "56dfa643cbc44d3d",
   "outputs": [
    {
     "data": {
      "text/plain": [
       "(555719, 15)"
      ]
     },
     "execution_count": 25,
     "metadata": {},
     "output_type": "execute_result"
    }
   ],
   "execution_count": 25
  },
  {
   "metadata": {
    "ExecuteTime": {
     "end_time": "2024-05-15T17:50:01.010743Z",
     "start_time": "2024-05-15T17:50:00.513786Z"
    }
   },
   "cell_type": "code",
   "source": "print('number of unique values: ', testdata.nunique())",
   "id": "5cec518a3a104bd2",
   "outputs": [
    {
     "name": "stdout",
     "output_type": "stream",
     "text": [
      "number of unique values:  ID             555719\n",
      "Time           226976\n",
      "Card Number       904\n",
      "merchant          693\n",
      "category           14\n",
      "Amount          37256\n",
      "firstName         341\n",
      "lastName          471\n",
      "trans_num      555719\n",
      "is_fraud            2\n",
      "Day                31\n",
      "Month               7\n",
      "Year                1\n",
      "Hour               24\n",
      "Minute             60\n",
      "dtype: int64\n"
     ]
    }
   ],
   "execution_count": 26
  },
  {
   "metadata": {
    "ExecuteTime": {
     "end_time": "2024-05-15T17:50:01.206432Z",
     "start_time": "2024-05-15T17:50:01.010743Z"
    }
   },
   "cell_type": "code",
   "source": [
    "#count the number of nulls\n",
    "print(traindata.isnull().sum())"
   ],
   "id": "a1adf36c7bce95e3",
   "outputs": [
    {
     "name": "stdout",
     "output_type": "stream",
     "text": [
      "ID             0\n",
      "Time           0\n",
      "Card Number    0\n",
      "merchant       0\n",
      "category       0\n",
      "Amount         0\n",
      "firstName      0\n",
      "lastName       0\n",
      "trans_num      0\n",
      "is_fraud       0\n",
      "Day            0\n",
      "Month          0\n",
      "Year           0\n",
      "Hour           0\n",
      "Minute         0\n",
      "dtype: int64\n"
     ]
    }
   ],
   "execution_count": 27
  },
  {
   "metadata": {
    "ExecuteTime": {
     "end_time": "2024-05-15T17:50:01.212539Z",
     "start_time": "2024-05-15T17:50:01.206432Z"
    }
   },
   "cell_type": "code",
   "source": [
    "#droping unique columns (do not affect the model)\n",
    "# traindata.drop(columns = ['ID', 'firstName', 'lastName', 'trans_num'], axis = 1, inplace = True)\n",
    "# testdata.drop(columns = ['ID', 'firstName', 'lastName', 'trans_num'], axis = 1, inplace = True)"
   ],
   "id": "739863743a43f979",
   "outputs": [],
   "execution_count": 28
  },
  {
   "metadata": {
    "ExecuteTime": {
     "end_time": "2024-05-15T17:50:01.220335Z",
     "start_time": "2024-05-15T17:50:01.214546Z"
    }
   },
   "cell_type": "code",
   "source": "# traindata.head()",
   "id": "1f6dd25c03c227c7",
   "outputs": [],
   "execution_count": 29
  },
  {
   "metadata": {
    "ExecuteTime": {
     "end_time": "2024-05-15T17:50:01.228404Z",
     "start_time": "2024-05-15T17:50:01.220335Z"
    }
   },
   "cell_type": "code",
   "source": "# testdata.head()",
   "id": "6649bdb22e6f45a4",
   "outputs": [],
   "execution_count": 30
  },
  {
   "metadata": {
    "ExecuteTime": {
     "end_time": "2024-05-15T17:50:01.235123Z",
     "start_time": "2024-05-15T17:50:01.230409Z"
    }
   },
   "cell_type": "code",
   "source": "#Histogram of columns",
   "id": "2b5c3c856574fa2c",
   "outputs": [],
   "execution_count": 31
  },
  {
   "metadata": {
    "ExecuteTime": {
     "end_time": "2024-05-15T17:50:01.241221Z",
     "start_time": "2024-05-15T17:50:01.235123Z"
    }
   },
   "cell_type": "code",
   "source": [
    "# sns.displot(x=traindata['Day'], bins=20,kde=True,edgecolor=\"black\",color='black',facecolor='#ffb03b')\n",
    "# plt.title(\"day number\",size=20)\n",
    "# plt.show()"
   ],
   "id": "c2b1ddc4433e4376",
   "outputs": [],
   "execution_count": 32
  },
  {
   "metadata": {
    "ExecuteTime": {
     "end_time": "2024-05-15T17:50:01.249579Z",
     "start_time": "2024-05-15T17:50:01.241221Z"
    }
   },
   "cell_type": "code",
   "source": [
    "# sns.displot(x=traindata['Amount'], bins=20,kde=True,edgecolor=\"black\",color='black',facecolor='#ffb03b')\n",
    "# plt.title(\"money amount\",size=20)\n",
    "# plt.show()"
   ],
   "id": "c6d3fe2ecaa69963",
   "outputs": [],
   "execution_count": 33
  },
  {
   "metadata": {
    "ExecuteTime": {
     "end_time": "2024-05-15T17:50:01.254490Z",
     "start_time": "2024-05-15T17:50:01.249579Z"
    }
   },
   "cell_type": "code",
   "source": [
    "# sns.displot(x=traindata['merchant'], bins=20,kde=True,edgecolor=\"black\",color='black',facecolor='#ffb03b')\n",
    "# plt.title(\"merchant\",size=20)\n",
    "# plt.show()"
   ],
   "id": "cf4793f59adf22c2",
   "outputs": [],
   "execution_count": 34
  },
  {
   "metadata": {
    "ExecuteTime": {
     "end_time": "2024-05-15T17:50:01.260470Z",
     "start_time": "2024-05-15T17:50:01.254490Z"
    }
   },
   "cell_type": "code",
   "source": [
    "# sns.relplot(x='merchant',y='Amount',data=traindata,kind='scatter',hue='is_fraud',height=5)\n",
    "# plt.show()"
   ],
   "id": "886cfc2f538baa7e",
   "outputs": [],
   "execution_count": 35
  },
  {
   "metadata": {
    "ExecuteTime": {
     "end_time": "2024-05-15T17:50:01.266031Z",
     "start_time": "2024-05-15T17:50:01.261976Z"
    }
   },
   "cell_type": "code",
   "source": [
    "# sns.relplot(x='Day',y='Amount',data=traindata,kind='scatter',hue='is_fraud',height=5)\n",
    "# plt.show()"
   ],
   "id": "5ecade73061305bf",
   "outputs": [],
   "execution_count": 36
  },
  {
   "metadata": {
    "ExecuteTime": {
     "end_time": "2024-05-15T17:50:01.271366Z",
     "start_time": "2024-05-15T17:50:01.266031Z"
    }
   },
   "cell_type": "code",
   "source": [
    "# sns.relplot(x='Hour',y='Amount',data=traindata,kind='scatter',hue='is_fraud',height=5)\n",
    "# plt.show()"
   ],
   "id": "a4856b7f8df4fbae",
   "outputs": [],
   "execution_count": 37
  },
  {
   "metadata": {
    "ExecuteTime": {
     "end_time": "2024-05-15T17:50:01.347744Z",
     "start_time": "2024-05-15T17:50:01.271366Z"
    }
   },
   "cell_type": "code",
   "source": [
    "#print all datatypes of objects\n",
    "traindata.select_dtypes(include=['object']).columns"
   ],
   "id": "adbf17a0b3fcdfaf",
   "outputs": [
    {
     "data": {
      "text/plain": [
       "Index(['merchant', 'category', 'firstName', 'lastName', 'trans_num'], dtype='object')"
      ]
     },
     "execution_count": 38,
     "metadata": {},
     "output_type": "execute_result"
    }
   ],
   "execution_count": 38
  },
  {
   "metadata": {
    "ExecuteTime": {
     "end_time": "2024-05-15T17:50:05.934313Z",
     "start_time": "2024-05-15T17:50:01.347744Z"
    }
   },
   "cell_type": "code",
   "source": [
    "#Encoding object columns in traindata\n",
    "\n",
    "dummies = pd.get_dummies(traindata[['merchant','category']])\n",
    "newdata = pd.concat([traindata, dummies], axis = 1)\n",
    "x_train = newdata.drop(columns=['ID','Time','firstName','lastName','trans_num','is_fraud','merchant','category'])\n",
    "y_train = newdata['is_fraud']\n"
   ],
   "id": "aed44162513d8e06",
   "outputs": [],
   "execution_count": 39
  },
  {
   "metadata": {
    "ExecuteTime": {
     "end_time": "2024-05-15T17:50:06.035218Z",
     "start_time": "2024-05-15T17:50:05.976417Z"
    }
   },
   "cell_type": "code",
   "source": "x_train.head()",
   "id": "4d126ea55c687bd9",
   "outputs": [
    {
     "data": {
      "text/plain": [
       "    Card Number  Amount  Day  Month  Year  Hour  Minute  \\\n",
       "0  2.700000e+15    4.97    1      1  2019     0       0   \n",
       "1  6.300000e+11  107.23    1      1  2019     0       0   \n",
       "2  3.890000e+13  220.11    1      1  2019     0       0   \n",
       "3  3.530000e+15   45.00    1      1  2019     0       1   \n",
       "4  3.760000e+14   41.96    1      1  2019     0       3   \n",
       "\n",
       "   merchant_fraud_Abbott-Rogahn  merchant_fraud_Abbott-Steuber  \\\n",
       "0                         False                          False   \n",
       "1                         False                          False   \n",
       "2                         False                          False   \n",
       "3                         False                          False   \n",
       "4                         False                          False   \n",
       "\n",
       "   merchant_fraud_Abernathy and Sons  ...  category_grocery_pos  \\\n",
       "0                              False  ...                 False   \n",
       "1                              False  ...                  True   \n",
       "2                              False  ...                 False   \n",
       "3                              False  ...                 False   \n",
       "4                              False  ...                 False   \n",
       "\n",
       "   category_health_fitness  category_home  category_kids_pets  \\\n",
       "0                    False          False               False   \n",
       "1                    False          False               False   \n",
       "2                    False          False               False   \n",
       "3                    False          False               False   \n",
       "4                    False          False               False   \n",
       "\n",
       "   category_misc_net  category_misc_pos  category_personal_care  \\\n",
       "0               True              False                   False   \n",
       "1              False              False                   False   \n",
       "2              False              False                   False   \n",
       "3              False              False                   False   \n",
       "4              False               True                   False   \n",
       "\n",
       "   category_shopping_net  category_shopping_pos  category_travel  \n",
       "0                  False                  False            False  \n",
       "1                  False                  False            False  \n",
       "2                  False                  False            False  \n",
       "3                  False                  False            False  \n",
       "4                  False                  False            False  \n",
       "\n",
       "[5 rows x 714 columns]"
      ],
      "text/html": [
       "<div>\n",
       "<style scoped>\n",
       "    .dataframe tbody tr th:only-of-type {\n",
       "        vertical-align: middle;\n",
       "    }\n",
       "\n",
       "    .dataframe tbody tr th {\n",
       "        vertical-align: top;\n",
       "    }\n",
       "\n",
       "    .dataframe thead th {\n",
       "        text-align: right;\n",
       "    }\n",
       "</style>\n",
       "<table border=\"1\" class=\"dataframe\">\n",
       "  <thead>\n",
       "    <tr style=\"text-align: right;\">\n",
       "      <th></th>\n",
       "      <th>Card Number</th>\n",
       "      <th>Amount</th>\n",
       "      <th>Day</th>\n",
       "      <th>Month</th>\n",
       "      <th>Year</th>\n",
       "      <th>Hour</th>\n",
       "      <th>Minute</th>\n",
       "      <th>merchant_fraud_Abbott-Rogahn</th>\n",
       "      <th>merchant_fraud_Abbott-Steuber</th>\n",
       "      <th>merchant_fraud_Abernathy and Sons</th>\n",
       "      <th>...</th>\n",
       "      <th>category_grocery_pos</th>\n",
       "      <th>category_health_fitness</th>\n",
       "      <th>category_home</th>\n",
       "      <th>category_kids_pets</th>\n",
       "      <th>category_misc_net</th>\n",
       "      <th>category_misc_pos</th>\n",
       "      <th>category_personal_care</th>\n",
       "      <th>category_shopping_net</th>\n",
       "      <th>category_shopping_pos</th>\n",
       "      <th>category_travel</th>\n",
       "    </tr>\n",
       "  </thead>\n",
       "  <tbody>\n",
       "    <tr>\n",
       "      <th>0</th>\n",
       "      <td>2.700000e+15</td>\n",
       "      <td>4.97</td>\n",
       "      <td>1</td>\n",
       "      <td>1</td>\n",
       "      <td>2019</td>\n",
       "      <td>0</td>\n",
       "      <td>0</td>\n",
       "      <td>False</td>\n",
       "      <td>False</td>\n",
       "      <td>False</td>\n",
       "      <td>...</td>\n",
       "      <td>False</td>\n",
       "      <td>False</td>\n",
       "      <td>False</td>\n",
       "      <td>False</td>\n",
       "      <td>True</td>\n",
       "      <td>False</td>\n",
       "      <td>False</td>\n",
       "      <td>False</td>\n",
       "      <td>False</td>\n",
       "      <td>False</td>\n",
       "    </tr>\n",
       "    <tr>\n",
       "      <th>1</th>\n",
       "      <td>6.300000e+11</td>\n",
       "      <td>107.23</td>\n",
       "      <td>1</td>\n",
       "      <td>1</td>\n",
       "      <td>2019</td>\n",
       "      <td>0</td>\n",
       "      <td>0</td>\n",
       "      <td>False</td>\n",
       "      <td>False</td>\n",
       "      <td>False</td>\n",
       "      <td>...</td>\n",
       "      <td>True</td>\n",
       "      <td>False</td>\n",
       "      <td>False</td>\n",
       "      <td>False</td>\n",
       "      <td>False</td>\n",
       "      <td>False</td>\n",
       "      <td>False</td>\n",
       "      <td>False</td>\n",
       "      <td>False</td>\n",
       "      <td>False</td>\n",
       "    </tr>\n",
       "    <tr>\n",
       "      <th>2</th>\n",
       "      <td>3.890000e+13</td>\n",
       "      <td>220.11</td>\n",
       "      <td>1</td>\n",
       "      <td>1</td>\n",
       "      <td>2019</td>\n",
       "      <td>0</td>\n",
       "      <td>0</td>\n",
       "      <td>False</td>\n",
       "      <td>False</td>\n",
       "      <td>False</td>\n",
       "      <td>...</td>\n",
       "      <td>False</td>\n",
       "      <td>False</td>\n",
       "      <td>False</td>\n",
       "      <td>False</td>\n",
       "      <td>False</td>\n",
       "      <td>False</td>\n",
       "      <td>False</td>\n",
       "      <td>False</td>\n",
       "      <td>False</td>\n",
       "      <td>False</td>\n",
       "    </tr>\n",
       "    <tr>\n",
       "      <th>3</th>\n",
       "      <td>3.530000e+15</td>\n",
       "      <td>45.00</td>\n",
       "      <td>1</td>\n",
       "      <td>1</td>\n",
       "      <td>2019</td>\n",
       "      <td>0</td>\n",
       "      <td>1</td>\n",
       "      <td>False</td>\n",
       "      <td>False</td>\n",
       "      <td>False</td>\n",
       "      <td>...</td>\n",
       "      <td>False</td>\n",
       "      <td>False</td>\n",
       "      <td>False</td>\n",
       "      <td>False</td>\n",
       "      <td>False</td>\n",
       "      <td>False</td>\n",
       "      <td>False</td>\n",
       "      <td>False</td>\n",
       "      <td>False</td>\n",
       "      <td>False</td>\n",
       "    </tr>\n",
       "    <tr>\n",
       "      <th>4</th>\n",
       "      <td>3.760000e+14</td>\n",
       "      <td>41.96</td>\n",
       "      <td>1</td>\n",
       "      <td>1</td>\n",
       "      <td>2019</td>\n",
       "      <td>0</td>\n",
       "      <td>3</td>\n",
       "      <td>False</td>\n",
       "      <td>False</td>\n",
       "      <td>False</td>\n",
       "      <td>...</td>\n",
       "      <td>False</td>\n",
       "      <td>False</td>\n",
       "      <td>False</td>\n",
       "      <td>False</td>\n",
       "      <td>False</td>\n",
       "      <td>True</td>\n",
       "      <td>False</td>\n",
       "      <td>False</td>\n",
       "      <td>False</td>\n",
       "      <td>False</td>\n",
       "    </tr>\n",
       "  </tbody>\n",
       "</table>\n",
       "<p>5 rows × 714 columns</p>\n",
       "</div>"
      ]
     },
     "execution_count": 40,
     "metadata": {},
     "output_type": "execute_result"
    }
   ],
   "execution_count": 40
  },
  {
   "metadata": {
    "ExecuteTime": {
     "end_time": "2024-05-15T17:50:06.044915Z",
     "start_time": "2024-05-15T17:50:06.035218Z"
    }
   },
   "cell_type": "code",
   "source": "y_train.head()",
   "id": "775111677596888",
   "outputs": [
    {
     "data": {
      "text/plain": [
       "0    0\n",
       "1    0\n",
       "2    0\n",
       "3    0\n",
       "4    0\n",
       "Name: is_fraud, dtype: int32"
      ]
     },
     "execution_count": 41,
     "metadata": {},
     "output_type": "execute_result"
    }
   ],
   "execution_count": 41
  },
  {
   "metadata": {
    "ExecuteTime": {
     "end_time": "2024-05-15T17:50:08.296027Z",
     "start_time": "2024-05-15T17:50:06.044915Z"
    }
   },
   "cell_type": "code",
   "source": [
    "#Encoding object columns in testdata\n",
    "\n",
    "dummies = pd.get_dummies(testdata[['merchant','category']])\n",
    "newdata_test = pd.concat([testdata, dummies], axis = 1)\n",
    "x_test = newdata_test.drop(columns=['ID','Time','firstName','lastName','trans_num','is_fraud','merchant','category'])\n",
    "y_test = newdata_test['is_fraud']"
   ],
   "id": "87af053a36f8f64e",
   "outputs": [],
   "execution_count": 42
  },
  {
   "metadata": {
    "ExecuteTime": {
     "end_time": "2024-05-15T17:50:08.336408Z",
     "start_time": "2024-05-15T17:50:08.296027Z"
    }
   },
   "cell_type": "code",
   "source": "x_test.head()",
   "id": "7c67bd6a238ae787",
   "outputs": [
    {
     "data": {
      "text/plain": [
       "    Card Number  Amount  Day  Month  Year  Hour  Minute  \\\n",
       "0  2.291160e+15    2.86   21      6  2020    12      14   \n",
       "1  3.573030e+15   29.84   21      6  2020    12      14   \n",
       "2  3.598220e+15   41.28   21      6  2020    12      14   \n",
       "3  3.591920e+15   60.05   21      6  2020    12      15   \n",
       "4  3.526830e+15    3.19   21      6  2020    12      15   \n",
       "\n",
       "   merchant_fraud_Abbott-Rogahn  merchant_fraud_Abbott-Steuber  \\\n",
       "0                         False                          False   \n",
       "1                         False                          False   \n",
       "2                         False                          False   \n",
       "3                         False                          False   \n",
       "4                         False                          False   \n",
       "\n",
       "   merchant_fraud_Abernathy and Sons  ...  category_grocery_pos  \\\n",
       "0                              False  ...                 False   \n",
       "1                              False  ...                 False   \n",
       "2                              False  ...                 False   \n",
       "3                              False  ...                 False   \n",
       "4                              False  ...                 False   \n",
       "\n",
       "   category_health_fitness  category_home  category_kids_pets  \\\n",
       "0                    False          False               False   \n",
       "1                    False          False               False   \n",
       "2                     True          False               False   \n",
       "3                    False          False               False   \n",
       "4                    False          False               False   \n",
       "\n",
       "   category_misc_net  category_misc_pos  category_personal_care  \\\n",
       "0              False              False                    True   \n",
       "1              False              False                    True   \n",
       "2              False              False                   False   \n",
       "3              False               True                   False   \n",
       "4              False              False                   False   \n",
       "\n",
       "   category_shopping_net  category_shopping_pos  category_travel  \n",
       "0                  False                  False            False  \n",
       "1                  False                  False            False  \n",
       "2                  False                  False            False  \n",
       "3                  False                  False            False  \n",
       "4                  False                  False             True  \n",
       "\n",
       "[5 rows x 714 columns]"
      ],
      "text/html": [
       "<div>\n",
       "<style scoped>\n",
       "    .dataframe tbody tr th:only-of-type {\n",
       "        vertical-align: middle;\n",
       "    }\n",
       "\n",
       "    .dataframe tbody tr th {\n",
       "        vertical-align: top;\n",
       "    }\n",
       "\n",
       "    .dataframe thead th {\n",
       "        text-align: right;\n",
       "    }\n",
       "</style>\n",
       "<table border=\"1\" class=\"dataframe\">\n",
       "  <thead>\n",
       "    <tr style=\"text-align: right;\">\n",
       "      <th></th>\n",
       "      <th>Card Number</th>\n",
       "      <th>Amount</th>\n",
       "      <th>Day</th>\n",
       "      <th>Month</th>\n",
       "      <th>Year</th>\n",
       "      <th>Hour</th>\n",
       "      <th>Minute</th>\n",
       "      <th>merchant_fraud_Abbott-Rogahn</th>\n",
       "      <th>merchant_fraud_Abbott-Steuber</th>\n",
       "      <th>merchant_fraud_Abernathy and Sons</th>\n",
       "      <th>...</th>\n",
       "      <th>category_grocery_pos</th>\n",
       "      <th>category_health_fitness</th>\n",
       "      <th>category_home</th>\n",
       "      <th>category_kids_pets</th>\n",
       "      <th>category_misc_net</th>\n",
       "      <th>category_misc_pos</th>\n",
       "      <th>category_personal_care</th>\n",
       "      <th>category_shopping_net</th>\n",
       "      <th>category_shopping_pos</th>\n",
       "      <th>category_travel</th>\n",
       "    </tr>\n",
       "  </thead>\n",
       "  <tbody>\n",
       "    <tr>\n",
       "      <th>0</th>\n",
       "      <td>2.291160e+15</td>\n",
       "      <td>2.86</td>\n",
       "      <td>21</td>\n",
       "      <td>6</td>\n",
       "      <td>2020</td>\n",
       "      <td>12</td>\n",
       "      <td>14</td>\n",
       "      <td>False</td>\n",
       "      <td>False</td>\n",
       "      <td>False</td>\n",
       "      <td>...</td>\n",
       "      <td>False</td>\n",
       "      <td>False</td>\n",
       "      <td>False</td>\n",
       "      <td>False</td>\n",
       "      <td>False</td>\n",
       "      <td>False</td>\n",
       "      <td>True</td>\n",
       "      <td>False</td>\n",
       "      <td>False</td>\n",
       "      <td>False</td>\n",
       "    </tr>\n",
       "    <tr>\n",
       "      <th>1</th>\n",
       "      <td>3.573030e+15</td>\n",
       "      <td>29.84</td>\n",
       "      <td>21</td>\n",
       "      <td>6</td>\n",
       "      <td>2020</td>\n",
       "      <td>12</td>\n",
       "      <td>14</td>\n",
       "      <td>False</td>\n",
       "      <td>False</td>\n",
       "      <td>False</td>\n",
       "      <td>...</td>\n",
       "      <td>False</td>\n",
       "      <td>False</td>\n",
       "      <td>False</td>\n",
       "      <td>False</td>\n",
       "      <td>False</td>\n",
       "      <td>False</td>\n",
       "      <td>True</td>\n",
       "      <td>False</td>\n",
       "      <td>False</td>\n",
       "      <td>False</td>\n",
       "    </tr>\n",
       "    <tr>\n",
       "      <th>2</th>\n",
       "      <td>3.598220e+15</td>\n",
       "      <td>41.28</td>\n",
       "      <td>21</td>\n",
       "      <td>6</td>\n",
       "      <td>2020</td>\n",
       "      <td>12</td>\n",
       "      <td>14</td>\n",
       "      <td>False</td>\n",
       "      <td>False</td>\n",
       "      <td>False</td>\n",
       "      <td>...</td>\n",
       "      <td>False</td>\n",
       "      <td>True</td>\n",
       "      <td>False</td>\n",
       "      <td>False</td>\n",
       "      <td>False</td>\n",
       "      <td>False</td>\n",
       "      <td>False</td>\n",
       "      <td>False</td>\n",
       "      <td>False</td>\n",
       "      <td>False</td>\n",
       "    </tr>\n",
       "    <tr>\n",
       "      <th>3</th>\n",
       "      <td>3.591920e+15</td>\n",
       "      <td>60.05</td>\n",
       "      <td>21</td>\n",
       "      <td>6</td>\n",
       "      <td>2020</td>\n",
       "      <td>12</td>\n",
       "      <td>15</td>\n",
       "      <td>False</td>\n",
       "      <td>False</td>\n",
       "      <td>False</td>\n",
       "      <td>...</td>\n",
       "      <td>False</td>\n",
       "      <td>False</td>\n",
       "      <td>False</td>\n",
       "      <td>False</td>\n",
       "      <td>False</td>\n",
       "      <td>True</td>\n",
       "      <td>False</td>\n",
       "      <td>False</td>\n",
       "      <td>False</td>\n",
       "      <td>False</td>\n",
       "    </tr>\n",
       "    <tr>\n",
       "      <th>4</th>\n",
       "      <td>3.526830e+15</td>\n",
       "      <td>3.19</td>\n",
       "      <td>21</td>\n",
       "      <td>6</td>\n",
       "      <td>2020</td>\n",
       "      <td>12</td>\n",
       "      <td>15</td>\n",
       "      <td>False</td>\n",
       "      <td>False</td>\n",
       "      <td>False</td>\n",
       "      <td>...</td>\n",
       "      <td>False</td>\n",
       "      <td>False</td>\n",
       "      <td>False</td>\n",
       "      <td>False</td>\n",
       "      <td>False</td>\n",
       "      <td>False</td>\n",
       "      <td>False</td>\n",
       "      <td>False</td>\n",
       "      <td>False</td>\n",
       "      <td>True</td>\n",
       "    </tr>\n",
       "  </tbody>\n",
       "</table>\n",
       "<p>5 rows × 714 columns</p>\n",
       "</div>"
      ]
     },
     "execution_count": 43,
     "metadata": {},
     "output_type": "execute_result"
    }
   ],
   "execution_count": 43
  },
  {
   "metadata": {
    "ExecuteTime": {
     "end_time": "2024-05-15T17:50:08.354031Z",
     "start_time": "2024-05-15T17:50:08.336408Z"
    }
   },
   "cell_type": "code",
   "source": "y_test.head()",
   "id": "c256d3442e312463",
   "outputs": [
    {
     "data": {
      "text/plain": [
       "0    0\n",
       "1    0\n",
       "2    0\n",
       "3    0\n",
       "4    0\n",
       "Name: is_fraud, dtype: int64"
      ]
     },
     "execution_count": 44,
     "metadata": {},
     "output_type": "execute_result"
    }
   ],
   "execution_count": 44
  },
  {
   "metadata": {
    "ExecuteTime": {
     "end_time": "2024-05-14T17:13:12.737091Z",
     "start_time": "2024-05-14T17:13:12.721747Z"
    }
   },
   "cell_type": "code",
   "source": "testdata.head()",
   "id": "3e87cb9213431481",
   "outputs": [
    {
     "data": {
      "text/plain": [
       "   ID   Card Number  merchant  category  Amount  firstName  lastName  \\\n",
       "0   0  2.291160e+15       319        10    2.86        151       115   \n",
       "1   1  3.573030e+15       591        10   29.84        163       457   \n",
       "2   2  3.598220e+15       611         5   41.28         24       249   \n",
       "3   3  3.591920e+15       222         9   60.05         42       457   \n",
       "4   4  3.526830e+15       292        13    3.19        247       261   \n",
       "\n",
       "   trans_num  is_fraud  Day  Month  Year  Hour  Minute  \n",
       "0      98699         0   21      6  2020    12      14  \n",
       "1     108785         0   21      6  2020    12      14  \n",
       "2     433979         0   21      6  2020    12      14  \n",
       "3      71993         0   21      6  2020    12      15  \n",
       "4     190585         0   21      6  2020    12      15  "
      ],
      "text/html": [
       "<div>\n",
       "<style scoped>\n",
       "    .dataframe tbody tr th:only-of-type {\n",
       "        vertical-align: middle;\n",
       "    }\n",
       "\n",
       "    .dataframe tbody tr th {\n",
       "        vertical-align: top;\n",
       "    }\n",
       "\n",
       "    .dataframe thead th {\n",
       "        text-align: right;\n",
       "    }\n",
       "</style>\n",
       "<table border=\"1\" class=\"dataframe\">\n",
       "  <thead>\n",
       "    <tr style=\"text-align: right;\">\n",
       "      <th></th>\n",
       "      <th>ID</th>\n",
       "      <th>Card Number</th>\n",
       "      <th>merchant</th>\n",
       "      <th>category</th>\n",
       "      <th>Amount</th>\n",
       "      <th>firstName</th>\n",
       "      <th>lastName</th>\n",
       "      <th>trans_num</th>\n",
       "      <th>is_fraud</th>\n",
       "      <th>Day</th>\n",
       "      <th>Month</th>\n",
       "      <th>Year</th>\n",
       "      <th>Hour</th>\n",
       "      <th>Minute</th>\n",
       "    </tr>\n",
       "  </thead>\n",
       "  <tbody>\n",
       "    <tr>\n",
       "      <th>0</th>\n",
       "      <td>0</td>\n",
       "      <td>2.291160e+15</td>\n",
       "      <td>319</td>\n",
       "      <td>10</td>\n",
       "      <td>2.86</td>\n",
       "      <td>151</td>\n",
       "      <td>115</td>\n",
       "      <td>98699</td>\n",
       "      <td>0</td>\n",
       "      <td>21</td>\n",
       "      <td>6</td>\n",
       "      <td>2020</td>\n",
       "      <td>12</td>\n",
       "      <td>14</td>\n",
       "    </tr>\n",
       "    <tr>\n",
       "      <th>1</th>\n",
       "      <td>1</td>\n",
       "      <td>3.573030e+15</td>\n",
       "      <td>591</td>\n",
       "      <td>10</td>\n",
       "      <td>29.84</td>\n",
       "      <td>163</td>\n",
       "      <td>457</td>\n",
       "      <td>108785</td>\n",
       "      <td>0</td>\n",
       "      <td>21</td>\n",
       "      <td>6</td>\n",
       "      <td>2020</td>\n",
       "      <td>12</td>\n",
       "      <td>14</td>\n",
       "    </tr>\n",
       "    <tr>\n",
       "      <th>2</th>\n",
       "      <td>2</td>\n",
       "      <td>3.598220e+15</td>\n",
       "      <td>611</td>\n",
       "      <td>5</td>\n",
       "      <td>41.28</td>\n",
       "      <td>24</td>\n",
       "      <td>249</td>\n",
       "      <td>433979</td>\n",
       "      <td>0</td>\n",
       "      <td>21</td>\n",
       "      <td>6</td>\n",
       "      <td>2020</td>\n",
       "      <td>12</td>\n",
       "      <td>14</td>\n",
       "    </tr>\n",
       "    <tr>\n",
       "      <th>3</th>\n",
       "      <td>3</td>\n",
       "      <td>3.591920e+15</td>\n",
       "      <td>222</td>\n",
       "      <td>9</td>\n",
       "      <td>60.05</td>\n",
       "      <td>42</td>\n",
       "      <td>457</td>\n",
       "      <td>71993</td>\n",
       "      <td>0</td>\n",
       "      <td>21</td>\n",
       "      <td>6</td>\n",
       "      <td>2020</td>\n",
       "      <td>12</td>\n",
       "      <td>15</td>\n",
       "    </tr>\n",
       "    <tr>\n",
       "      <th>4</th>\n",
       "      <td>4</td>\n",
       "      <td>3.526830e+15</td>\n",
       "      <td>292</td>\n",
       "      <td>13</td>\n",
       "      <td>3.19</td>\n",
       "      <td>247</td>\n",
       "      <td>261</td>\n",
       "      <td>190585</td>\n",
       "      <td>0</td>\n",
       "      <td>21</td>\n",
       "      <td>6</td>\n",
       "      <td>2020</td>\n",
       "      <td>12</td>\n",
       "      <td>15</td>\n",
       "    </tr>\n",
       "  </tbody>\n",
       "</table>\n",
       "</div>"
      ]
     },
     "execution_count": 40,
     "metadata": {},
     "output_type": "execute_result"
    }
   ],
   "execution_count": 40
  },
  {
   "metadata": {
    "ExecuteTime": {
     "end_time": "2024-05-15T17:50:33.221884Z",
     "start_time": "2024-05-15T17:50:32.184936Z"
    }
   },
   "cell_type": "code",
   "source": [
    "# check if any data is duplicated\n",
    "testdata.duplicated().sum()"
   ],
   "id": "e8e21637aaf13502",
   "outputs": [
    {
     "data": {
      "text/plain": [
       "0"
      ]
     },
     "execution_count": 45,
     "metadata": {},
     "output_type": "execute_result"
    }
   ],
   "execution_count": 45
  },
  {
   "metadata": {},
   "cell_type": "code",
   "source": [
    "# fig = plt.subplots(figsize=(20, 10))\n",
    "# sns.heatmap(traindata.corr(),annot = True)"
   ],
   "id": "263e012164a76ea9",
   "outputs": [],
   "execution_count": null
  },
  {
   "metadata": {
    "ExecuteTime": {
     "end_time": "2024-05-14T17:13:16.460045Z",
     "start_time": "2024-05-14T17:13:15.511799Z"
    }
   },
   "cell_type": "code",
   "source": [
    "# fig = plt.subplots(figsize=(20, 10))\n",
    "# sns.heatmap(testdata.corr(),annot = True)"
   ],
   "id": "bf5172c0c2584881",
   "outputs": [
    {
     "data": {
      "text/plain": [
       "<Axes: >"
      ]
     },
     "execution_count": 45,
     "metadata": {},
     "output_type": "execute_result"
    },
    {
     "data": {
      "text/plain": [
       "<Figure size 2000x1000 with 2 Axes>"
      ],
      "image/png": "[encoded data removed]"
     },
     "metadata": {},
     "output_type": "display_data"
    }
   ],
   "execution_count": 45
  },
  {
   "metadata": {},
   "cell_type": "code",
   "source": "# traindata.corr()",
   "id": "fe4f2a037c6597f8",
   "outputs": [],
   "execution_count": null
  },
  {
   "metadata": {
    "ExecuteTime": {
     "end_time": "2024-05-14T17:13:18.166222Z",
     "start_time": "2024-05-14T17:13:17.216468Z"
    }
   },
   "cell_type": "code",
   "source": [
    "from sklearn import model_selection\n",
    "from sklearn import preprocessing\n",
    "from sklearn.tree import DecisionTreeClassifier\n",
    "from sklearn.pipeline import make_pipeline\n",
    "from sklearn.svm import SVC\n",
    "from sklearn.ensemble import RandomForestClassifier\n",
    "from sklearn.neighbors import KNeighborsClassifier\n",
    "from sklearn.metrics import accuracy_score\n",
    "from sklearn.metrics import confusion_matrix, classification_report\n",
    "from sklearn.ensemble import BaggingClassifier"
   ],
   "id": "bc97b6ed8766aef8",
   "outputs": [],
   "execution_count": 47
  },
  {
   "metadata": {
    "ExecuteTime": {
     "end_time": "2024-05-15T17:56:59.650663Z",
     "start_time": "2024-05-15T17:56:59.597288Z"
    }
   },
   "cell_type": "code",
   "source": "print(len(x_train),len(y_train))",
   "id": "7c3ad9d0bd5d1bb7",
   "outputs": [
    {
     "name": "stdout",
     "output_type": "stream",
     "text": [
      "1002103 1002103\n"
     ]
    }
   ],
   "execution_count": 52
  },
  {
   "metadata": {
    "ExecuteTime": {
     "end_time": "2024-05-15T17:57:01.238192Z",
     "start_time": "2024-05-15T17:57:01.213398Z"
    }
   },
   "cell_type": "code",
   "source": "print(y_train.value_counts())",
   "id": "9c8608ef222b73d6",
   "outputs": [
    {
     "name": "stdout",
     "output_type": "stream",
     "text": [
      "is_fraud\n",
      "0    996390\n",
      "1      5713\n",
      "Name: count, dtype: int64\n"
     ]
    }
   ],
   "execution_count": 53
  },
  {
   "metadata": {
    "ExecuteTime": {
     "end_time": "2024-05-15T17:57:09.895906Z",
     "start_time": "2024-05-15T17:57:07.651351Z"
    }
   },
   "cell_type": "code",
   "source": [
    "from sklearn.model_selection import train_test_split\n",
    "from imblearn.under_sampling import RandomUnderSampler\n",
    "\n",
    "rus = RandomUnderSampler(sampling_strategy = 1)\n",
    "x_train, y_train = rus.fit_resample(x_train,y_train)\n"
   ],
   "id": "3a349f4239dadcce",
   "outputs": [],
   "execution_count": 54
  },
  {
   "metadata": {
    "ExecuteTime": {
     "end_time": "2024-05-15T17:57:12.011321Z",
     "start_time": "2024-05-15T17:57:11.998433Z"
    }
   },
   "cell_type": "code",
   "source": "print(y_train.value_counts())",
   "id": "5da3e4240df94026",
   "outputs": [
    {
     "name": "stdout",
     "output_type": "stream",
     "text": [
      "is_fraud\n",
      "0    5713\n",
      "1    5713\n",
      "Name: count, dtype: int64\n"
     ]
    }
   ],
   "execution_count": 55
  },
  {
   "metadata": {},
   "cell_type": "code",
   "source": "x_test = x_test.astype(float)",
   "id": "20fea4ba5cd8d4c8",
   "outputs": [],
   "execution_count": null
  },
  {
   "metadata": {
    "ExecuteTime": {
     "end_time": "2024-05-15T18:06:42.288225Z",
     "start_time": "2024-05-15T18:06:42.166088Z"
    }
   },
   "cell_type": "code",
   "source": "x_train = x_train.astype(float)",
   "id": "dbf971c02c0cbdea",
   "outputs": [],
   "execution_count": 74
  },
  {
   "metadata": {
    "ExecuteTime": {
     "end_time": "2024-05-15T18:06:56.056996Z",
     "start_time": "2024-05-15T18:06:56.018218Z"
    }
   },
   "cell_type": "code",
   "source": "x_test.head()",
   "id": "f3e93ee28ba3c672",
   "outputs": [
    {
     "data": {
      "text/plain": [
       "    Card Number  Amount   Day  Month    Year  Hour  Minute  \\\n",
       "0  2.291160e+15    2.86  21.0    6.0  2020.0  12.0    14.0   \n",
       "1  3.573030e+15   29.84  21.0    6.0  2020.0  12.0    14.0   \n",
       "2  3.598220e+15   41.28  21.0    6.0  2020.0  12.0    14.0   \n",
       "3  3.591920e+15   60.05  21.0    6.0  2020.0  12.0    15.0   \n",
       "4  3.526830e+15    3.19  21.0    6.0  2020.0  12.0    15.0   \n",
       "\n",
       "   merchant_fraud_Abbott-Rogahn  merchant_fraud_Abbott-Steuber  \\\n",
       "0                           0.0                            0.0   \n",
       "1                           0.0                            0.0   \n",
       "2                           0.0                            0.0   \n",
       "3                           0.0                            0.0   \n",
       "4                           0.0                            0.0   \n",
       "\n",
       "   merchant_fraud_Abernathy and Sons  ...  category_grocery_pos  \\\n",
       "0                                0.0  ...                   0.0   \n",
       "1                                0.0  ...                   0.0   \n",
       "2                                0.0  ...                   0.0   \n",
       "3                                0.0  ...                   0.0   \n",
       "4                                0.0  ...                   0.0   \n",
       "\n",
       "   category_health_fitness  category_home  category_kids_pets  \\\n",
       "0                      0.0            0.0                 0.0   \n",
       "1                      0.0            0.0                 0.0   \n",
       "2                      1.0            0.0                 0.0   \n",
       "3                      0.0            0.0                 0.0   \n",
       "4                      0.0            0.0                 0.0   \n",
       "\n",
       "   category_misc_net  category_misc_pos  category_personal_care  \\\n",
       "0                0.0                0.0                     1.0   \n",
       "1                0.0                0.0                     1.0   \n",
       "2                0.0                0.0                     0.0   \n",
       "3                0.0                1.0                     0.0   \n",
       "4                0.0                0.0                     0.0   \n",
       "\n",
       "   category_shopping_net  category_shopping_pos  category_travel  \n",
       "0                    0.0                    0.0              0.0  \n",
       "1                    0.0                    0.0              0.0  \n",
       "2                    0.0                    0.0              0.0  \n",
       "3                    0.0                    0.0              0.0  \n",
       "4                    0.0                    0.0              1.0  \n",
       "\n",
       "[5 rows x 714 columns]"
      ],
      "text/html": [
       "<div>\n",
       "<style scoped>\n",
       "    .dataframe tbody tr th:only-of-type {\n",
       "        vertical-align: middle;\n",
       "    }\n",
       "\n",
       "    .dataframe tbody tr th {\n",
       "        vertical-align: top;\n",
       "    }\n",
       "\n",
       "    .dataframe thead th {\n",
       "        text-align: right;\n",
       "    }\n",
       "</style>\n",
       "<table border=\"1\" class=\"dataframe\">\n",
       "  <thead>\n",
       "    <tr style=\"text-align: right;\">\n",
       "      <th></th>\n",
       "      <th>Card Number</th>\n",
       "      <th>Amount</th>\n",
       "      <th>Day</th>\n",
       "      <th>Month</th>\n",
       "      <th>Year</th>\n",
       "      <th>Hour</th>\n",
       "      <th>Minute</th>\n",
       "      <th>merchant_fraud_Abbott-Rogahn</th>\n",
       "      <th>merchant_fraud_Abbott-Steuber</th>\n",
       "      <th>merchant_fraud_Abernathy and Sons</th>\n",
       "      <th>...</th>\n",
       "      <th>category_grocery_pos</th>\n",
       "      <th>category_health_fitness</th>\n",
       "      <th>category_home</th>\n",
       "      <th>category_kids_pets</th>\n",
       "      <th>category_misc_net</th>\n",
       "      <th>category_misc_pos</th>\n",
       "      <th>category_personal_care</th>\n",
       "      <th>category_shopping_net</th>\n",
       "      <th>category_shopping_pos</th>\n",
       "      <th>category_travel</th>\n",
       "    </tr>\n",
       "  </thead>\n",
       "  <tbody>\n",
       "    <tr>\n",
       "      <th>0</th>\n",
       "      <td>2.291160e+15</td>\n",
       "      <td>2.86</td>\n",
       "      <td>21.0</td>\n",
       "      <td>6.0</td>\n",
       "      <td>2020.0</td>\n",
       "      <td>12.0</td>\n",
       "      <td>14.0</td>\n",
       "      <td>0.0</td>\n",
       "      <td>0.0</td>\n",
       "      <td>0.0</td>\n",
       "      <td>...</td>\n",
       "      <td>0.0</td>\n",
       "      <td>0.0</td>\n",
       "      <td>0.0</td>\n",
       "      <td>0.0</td>\n",
       "      <td>0.0</td>\n",
       "      <td>0.0</td>\n",
       "      <td>1.0</td>\n",
       "      <td>0.0</td>\n",
       "      <td>0.0</td>\n",
       "      <td>0.0</td>\n",
       "    </tr>\n",
       "    <tr>\n",
       "      <th>1</th>\n",
       "      <td>3.573030e+15</td>\n",
       "      <td>29.84</td>\n",
       "      <td>21.0</td>\n",
       "      <td>6.0</td>\n",
       "      <td>2020.0</td>\n",
       "      <td>12.0</td>\n",
       "      <td>14.0</td>\n",
       "      <td>0.0</td>\n",
       "      <td>0.0</td>\n",
       "      <td>0.0</td>\n",
       "      <td>...</td>\n",
       "      <td>0.0</td>\n",
       "      <td>0.0</td>\n",
       "      <td>0.0</td>\n",
       "      <td>0.0</td>\n",
       "      <td>0.0</td>\n",
       "      <td>0.0</td>\n",
       "      <td>1.0</td>\n",
       "      <td>0.0</td>\n",
       "      <td>0.0</td>\n",
       "      <td>0.0</td>\n",
       "    </tr>\n",
       "    <tr>\n",
       "      <th>2</th>\n",
       "      <td>3.598220e+15</td>\n",
       "      <td>41.28</td>\n",
       "      <td>21.0</td>\n",
       "      <td>6.0</td>\n",
       "      <td>2020.0</td>\n",
       "      <td>12.0</td>\n",
       "      <td>14.0</td>\n",
       "      <td>0.0</td>\n",
       "      <td>0.0</td>\n",
       "      <td>0.0</td>\n",
       "      <td>...</td>\n",
       "      <td>0.0</td>\n",
       "      <td>1.0</td>\n",
       "      <td>0.0</td>\n",
       "      <td>0.0</td>\n",
       "      <td>0.0</td>\n",
       "      <td>0.0</td>\n",
       "      <td>0.0</td>\n",
       "      <td>0.0</td>\n",
       "      <td>0.0</td>\n",
       "      <td>0.0</td>\n",
       "    </tr>\n",
       "    <tr>\n",
       "      <th>3</th>\n",
       "      <td>3.591920e+15</td>\n",
       "      <td>60.05</td>\n",
       "      <td>21.0</td>\n",
       "      <td>6.0</td>\n",
       "      <td>2020.0</td>\n",
       "      <td>12.0</td>\n",
       "      <td>15.0</td>\n",
       "      <td>0.0</td>\n",
       "      <td>0.0</td>\n",
       "      <td>0.0</td>\n",
       "      <td>...</td>\n",
       "      <td>0.0</td>\n",
       "      <td>0.0</td>\n",
       "      <td>0.0</td>\n",
       "      <td>0.0</td>\n",
       "      <td>0.0</td>\n",
       "      <td>1.0</td>\n",
       "      <td>0.0</td>\n",
       "      <td>0.0</td>\n",
       "      <td>0.0</td>\n",
       "      <td>0.0</td>\n",
       "    </tr>\n",
       "    <tr>\n",
       "      <th>4</th>\n",
       "      <td>3.526830e+15</td>\n",
       "      <td>3.19</td>\n",
       "      <td>21.0</td>\n",
       "      <td>6.0</td>\n",
       "      <td>2020.0</td>\n",
       "      <td>12.0</td>\n",
       "      <td>15.0</td>\n",
       "      <td>0.0</td>\n",
       "      <td>0.0</td>\n",
       "      <td>0.0</td>\n",
       "      <td>...</td>\n",
       "      <td>0.0</td>\n",
       "      <td>0.0</td>\n",
       "      <td>0.0</td>\n",
       "      <td>0.0</td>\n",
       "      <td>0.0</td>\n",
       "      <td>0.0</td>\n",
       "      <td>0.0</td>\n",
       "      <td>0.0</td>\n",
       "      <td>0.0</td>\n",
       "      <td>1.0</td>\n",
       "    </tr>\n",
       "  </tbody>\n",
       "</table>\n",
       "<p>5 rows × 714 columns</p>\n",
       "</div>"
      ]
     },
     "execution_count": 75,
     "metadata": {},
     "output_type": "execute_result"
    }
   ],
   "execution_count": 75
  },
  {
   "metadata": {
    "ExecuteTime": {
     "end_time": "2024-05-15T18:07:27.145147Z",
     "start_time": "2024-05-15T18:07:27.086966Z"
    }
   },
   "cell_type": "code",
   "source": "x_train.head()",
   "id": "540650d8c3f98d7b",
   "outputs": [
    {
     "data": {
      "text/plain": [
       "         Card Number  Amount   Day  Month    Year  Hour  Minute  \\\n",
       "914071  5.130000e+15   74.85  29.0   12.0  2019.0  18.0    29.0   \n",
       "266313  2.130000e+14    4.23  12.0    5.0  2019.0  11.0    17.0   \n",
       "266284  1.800000e+14  108.92  12.0    5.0  2019.0  11.0     1.0   \n",
       "666895  3.600000e+15   40.77  11.0   10.0  2019.0  17.0    43.0   \n",
       "512421  5.150000e+15   38.51  10.0    8.0  2019.0  11.0    52.0   \n",
       "\n",
       "        merchant_fraud_Abbott-Rogahn  merchant_fraud_Abbott-Steuber  \\\n",
       "914071                           0.0                            0.0   \n",
       "266313                           0.0                            0.0   \n",
       "266284                           0.0                            0.0   \n",
       "666895                           0.0                            0.0   \n",
       "512421                           0.0                            0.0   \n",
       "\n",
       "        merchant_fraud_Abernathy and Sons  ...  category_grocery_pos  \\\n",
       "914071                                0.0  ...                   0.0   \n",
       "266313                                0.0  ...                   0.0   \n",
       "266284                                0.0  ...                   1.0   \n",
       "666895                                0.0  ...                   0.0   \n",
       "512421                                0.0  ...                   0.0   \n",
       "\n",
       "        category_health_fitness  category_home  category_kids_pets  \\\n",
       "914071                      0.0            0.0                 0.0   \n",
       "266313                      0.0            0.0                 0.0   \n",
       "266284                      0.0            0.0                 0.0   \n",
       "666895                      0.0            1.0                 0.0   \n",
       "512421                      0.0            0.0                 0.0   \n",
       "\n",
       "        category_misc_net  category_misc_pos  category_personal_care  \\\n",
       "914071                0.0                0.0                     0.0   \n",
       "266313                1.0                0.0                     0.0   \n",
       "266284                0.0                0.0                     0.0   \n",
       "666895                0.0                0.0                     0.0   \n",
       "512421                0.0                0.0                     0.0   \n",
       "\n",
       "        category_shopping_net  category_shopping_pos  category_travel  \n",
       "914071                    0.0                    0.0              0.0  \n",
       "266313                    0.0                    0.0              0.0  \n",
       "266284                    0.0                    0.0              0.0  \n",
       "666895                    0.0                    0.0              0.0  \n",
       "512421                    0.0                    0.0              0.0  \n",
       "\n",
       "[5 rows x 714 columns]"
      ],
      "text/html": [
       "<div>\n",
       "<style scoped>\n",
       "    .dataframe tbody tr th:only-of-type {\n",
       "        vertical-align: middle;\n",
       "    }\n",
       "\n",
       "    .dataframe tbody tr th {\n",
       "        vertical-align: top;\n",
       "    }\n",
       "\n",
       "    .dataframe thead th {\n",
       "        text-align: right;\n",
       "    }\n",
       "</style>\n",
       "<table border=\"1\" class=\"dataframe\">\n",
       "  <thead>\n",
       "    <tr style=\"text-align: right;\">\n",
       "      <th></th>\n",
       "      <th>Card Number</th>\n",
       "      <th>Amount</th>\n",
       "      <th>Day</th>\n",
       "      <th>Month</th>\n",
       "      <th>Year</th>\n",
       "      <th>Hour</th>\n",
       "      <th>Minute</th>\n",
       "      <th>merchant_fraud_Abbott-Rogahn</th>\n",
       "      <th>merchant_fraud_Abbott-Steuber</th>\n",
       "      <th>merchant_fraud_Abernathy and Sons</th>\n",
       "      <th>...</th>\n",
       "      <th>category_grocery_pos</th>\n",
       "      <th>category_health_fitness</th>\n",
       "      <th>category_home</th>\n",
       "      <th>category_kids_pets</th>\n",
       "      <th>category_misc_net</th>\n",
       "      <th>category_misc_pos</th>\n",
       "      <th>category_personal_care</th>\n",
       "      <th>category_shopping_net</th>\n",
       "      <th>category_shopping_pos</th>\n",
       "      <th>category_travel</th>\n",
       "    </tr>\n",
       "  </thead>\n",
       "  <tbody>\n",
       "    <tr>\n",
       "      <th>914071</th>\n",
       "      <td>5.130000e+15</td>\n",
       "      <td>74.85</td>\n",
       "      <td>29.0</td>\n",
       "      <td>12.0</td>\n",
       "      <td>2019.0</td>\n",
       "      <td>18.0</td>\n",
       "      <td>29.0</td>\n",
       "      <td>0.0</td>\n",
       "      <td>0.0</td>\n",
       "      <td>0.0</td>\n",
       "      <td>...</td>\n",
       "      <td>0.0</td>\n",
       "      <td>0.0</td>\n",
       "      <td>0.0</td>\n",
       "      <td>0.0</td>\n",
       "      <td>0.0</td>\n",
       "      <td>0.0</td>\n",
       "      <td>0.0</td>\n",
       "      <td>0.0</td>\n",
       "      <td>0.0</td>\n",
       "      <td>0.0</td>\n",
       "    </tr>\n",
       "    <tr>\n",
       "      <th>266313</th>\n",
       "      <td>2.130000e+14</td>\n",
       "      <td>4.23</td>\n",
       "      <td>12.0</td>\n",
       "      <td>5.0</td>\n",
       "      <td>2019.0</td>\n",
       "      <td>11.0</td>\n",
       "      <td>17.0</td>\n",
       "      <td>0.0</td>\n",
       "      <td>0.0</td>\n",
       "      <td>0.0</td>\n",
       "      <td>...</td>\n",
       "      <td>0.0</td>\n",
       "      <td>0.0</td>\n",
       "      <td>0.0</td>\n",
       "      <td>0.0</td>\n",
       "      <td>1.0</td>\n",
       "      <td>0.0</td>\n",
       "      <td>0.0</td>\n",
       "      <td>0.0</td>\n",
       "      <td>0.0</td>\n",
       "      <td>0.0</td>\n",
       "    </tr>\n",
       "    <tr>\n",
       "      <th>266284</th>\n",
       "      <td>1.800000e+14</td>\n",
       "      <td>108.92</td>\n",
       "      <td>12.0</td>\n",
       "      <td>5.0</td>\n",
       "      <td>2019.0</td>\n",
       "      <td>11.0</td>\n",
       "      <td>1.0</td>\n",
       "      <td>0.0</td>\n",
       "      <td>0.0</td>\n",
       "      <td>0.0</td>\n",
       "      <td>...</td>\n",
       "      <td>1.0</td>\n",
       "      <td>0.0</td>\n",
       "      <td>0.0</td>\n",
       "      <td>0.0</td>\n",
       "      <td>0.0</td>\n",
       "      <td>0.0</td>\n",
       "      <td>0.0</td>\n",
       "      <td>0.0</td>\n",
       "      <td>0.0</td>\n",
       "      <td>0.0</td>\n",
       "    </tr>\n",
       "    <tr>\n",
       "      <th>666895</th>\n",
       "      <td>3.600000e+15</td>\n",
       "      <td>40.77</td>\n",
       "      <td>11.0</td>\n",
       "      <td>10.0</td>\n",
       "      <td>2019.0</td>\n",
       "      <td>17.0</td>\n",
       "      <td>43.0</td>\n",
       "      <td>0.0</td>\n",
       "      <td>0.0</td>\n",
       "      <td>0.0</td>\n",
       "      <td>...</td>\n",
       "      <td>0.0</td>\n",
       "      <td>0.0</td>\n",
       "      <td>1.0</td>\n",
       "      <td>0.0</td>\n",
       "      <td>0.0</td>\n",
       "      <td>0.0</td>\n",
       "      <td>0.0</td>\n",
       "      <td>0.0</td>\n",
       "      <td>0.0</td>\n",
       "      <td>0.0</td>\n",
       "    </tr>\n",
       "    <tr>\n",
       "      <th>512421</th>\n",
       "      <td>5.150000e+15</td>\n",
       "      <td>38.51</td>\n",
       "      <td>10.0</td>\n",
       "      <td>8.0</td>\n",
       "      <td>2019.0</td>\n",
       "      <td>11.0</td>\n",
       "      <td>52.0</td>\n",
       "      <td>0.0</td>\n",
       "      <td>0.0</td>\n",
       "      <td>0.0</td>\n",
       "      <td>...</td>\n",
       "      <td>0.0</td>\n",
       "      <td>0.0</td>\n",
       "      <td>0.0</td>\n",
       "      <td>0.0</td>\n",
       "      <td>0.0</td>\n",
       "      <td>0.0</td>\n",
       "      <td>0.0</td>\n",
       "      <td>0.0</td>\n",
       "      <td>0.0</td>\n",
       "      <td>0.0</td>\n",
       "    </tr>\n",
       "  </tbody>\n",
       "</table>\n",
       "<p>5 rows × 714 columns</p>\n",
       "</div>"
      ]
     },
     "execution_count": 76,
     "metadata": {},
     "output_type": "execute_result"
    }
   ],
   "execution_count": 76
  },
  {
   "metadata": {
    "ExecuteTime": {
     "end_time": "2024-05-15T18:10:27.031895Z",
     "start_time": "2024-05-15T18:10:27.022704Z"
    }
   },
   "cell_type": "code",
   "source": "x_train.shape",
   "id": "5df4133e3fa1fed3",
   "outputs": [
    {
     "data": {
      "text/plain": [
       "(11426, 714)"
      ]
     },
     "execution_count": 78,
     "metadata": {},
     "output_type": "execute_result"
    }
   ],
   "execution_count": 78
  },
  {
   "metadata": {
    "ExecuteTime": {
     "end_time": "2024-05-15T18:10:48.219692Z",
     "start_time": "2024-05-15T18:10:48.207261Z"
    }
   },
   "cell_type": "code",
   "source": "x_test.shape",
   "id": "edf0a56f7004880",
   "outputs": [
    {
     "data": {
      "text/plain": [
       "(555719, 714)"
      ]
     },
     "execution_count": 79,
     "metadata": {},
     "output_type": "execute_result"
    }
   ],
   "execution_count": 79
  },
  {
   "metadata": {
    "ExecuteTime": {
     "end_time": "2024-05-15T18:08:18.417611Z",
     "start_time": "2024-05-15T18:07:51.454819Z"
    }
   },
   "cell_type": "code",
   "source": [
    "#model training\n",
    "from sklearn.ensemble import RandomForestClassifier\n",
    "from sklearn.ensemble import RandomForestRegressor\n",
    "\n",
    "model = RandomForestRegressor()\n",
    "model.fit(x_train,y_train)\n",
    "\n",
    "y_train_pred = model.predict(x_train)\n",
    "y_test_pred = model.predict(x_test)\n"
   ],
   "id": "fba8785f64791236",
   "outputs": [
    {
     "ename": "MemoryError",
     "evalue": "Unable to allocate 2.96 GiB for an array with shape (714, 555719) and data type float64",
     "output_type": "error",
     "traceback": [
      "\u001B[1;31m---------------------------------------------------------------------------\u001B[0m",
      "\u001B[1;31mMemoryError\u001B[0m                               Traceback (most recent call last)",
      "Cell \u001B[1;32mIn[77], line 9\u001B[0m\n\u001B[0;32m      6\u001B[0m model\u001B[38;5;241m.\u001B[39mfit(x_train,y_train)\n\u001B[0;32m      8\u001B[0m y_train_pred \u001B[38;5;241m=\u001B[39m model\u001B[38;5;241m.\u001B[39mpredict(x_train)\n\u001B[1;32m----> 9\u001B[0m y_test_pred \u001B[38;5;241m=\u001B[39m \u001B[43mmodel\u001B[49m\u001B[38;5;241;43m.\u001B[39;49m\u001B[43mpredict\u001B[49m\u001B[43m(\u001B[49m\u001B[43mx_test\u001B[49m\u001B[43m)\u001B[49m\n",
      "File \u001B[1;32m~\\AppData\\Local\\Programs\\Python\\Python312\\Lib\\site-packages\\sklearn\\ensemble\\_forest.py:1064\u001B[0m, in \u001B[0;36mForestRegressor.predict\u001B[1;34m(self, X)\u001B[0m\n\u001B[0;32m   1062\u001B[0m check_is_fitted(\u001B[38;5;28mself\u001B[39m)\n\u001B[0;32m   1063\u001B[0m \u001B[38;5;66;03m# Check data\u001B[39;00m\n\u001B[1;32m-> 1064\u001B[0m X \u001B[38;5;241m=\u001B[39m \u001B[38;5;28;43mself\u001B[39;49m\u001B[38;5;241;43m.\u001B[39;49m\u001B[43m_validate_X_predict\u001B[49m\u001B[43m(\u001B[49m\u001B[43mX\u001B[49m\u001B[43m)\u001B[49m\n\u001B[0;32m   1066\u001B[0m \u001B[38;5;66;03m# Assign chunk of trees to jobs\u001B[39;00m\n\u001B[0;32m   1067\u001B[0m n_jobs, _, _ \u001B[38;5;241m=\u001B[39m _partition_estimators(\u001B[38;5;28mself\u001B[39m\u001B[38;5;241m.\u001B[39mn_estimators, \u001B[38;5;28mself\u001B[39m\u001B[38;5;241m.\u001B[39mn_jobs)\n",
      "File \u001B[1;32m~\\AppData\\Local\\Programs\\Python\\Python312\\Lib\\site-packages\\sklearn\\ensemble\\_forest.py:641\u001B[0m, in \u001B[0;36mBaseForest._validate_X_predict\u001B[1;34m(self, X)\u001B[0m\n\u001B[0;32m    638\u001B[0m \u001B[38;5;28;01melse\u001B[39;00m:\n\u001B[0;32m    639\u001B[0m     force_all_finite \u001B[38;5;241m=\u001B[39m \u001B[38;5;28;01mTrue\u001B[39;00m\n\u001B[1;32m--> 641\u001B[0m X \u001B[38;5;241m=\u001B[39m \u001B[38;5;28;43mself\u001B[39;49m\u001B[38;5;241;43m.\u001B[39;49m\u001B[43m_validate_data\u001B[49m\u001B[43m(\u001B[49m\n\u001B[0;32m    642\u001B[0m \u001B[43m    \u001B[49m\u001B[43mX\u001B[49m\u001B[43m,\u001B[49m\n\u001B[0;32m    643\u001B[0m \u001B[43m    \u001B[49m\u001B[43mdtype\u001B[49m\u001B[38;5;241;43m=\u001B[39;49m\u001B[43mDTYPE\u001B[49m\u001B[43m,\u001B[49m\n\u001B[0;32m    644\u001B[0m \u001B[43m    \u001B[49m\u001B[43maccept_sparse\u001B[49m\u001B[38;5;241;43m=\u001B[39;49m\u001B[38;5;124;43m\"\u001B[39;49m\u001B[38;5;124;43mcsr\u001B[39;49m\u001B[38;5;124;43m\"\u001B[39;49m\u001B[43m,\u001B[49m\n\u001B[0;32m    645\u001B[0m \u001B[43m    \u001B[49m\u001B[43mreset\u001B[49m\u001B[38;5;241;43m=\u001B[39;49m\u001B[38;5;28;43;01mFalse\u001B[39;49;00m\u001B[43m,\u001B[49m\n\u001B[0;32m    646\u001B[0m \u001B[43m    \u001B[49m\u001B[43mforce_all_finite\u001B[49m\u001B[38;5;241;43m=\u001B[39;49m\u001B[43mforce_all_finite\u001B[49m\u001B[43m,\u001B[49m\n\u001B[0;32m    647\u001B[0m \u001B[43m\u001B[49m\u001B[43m)\u001B[49m\n\u001B[0;32m    648\u001B[0m \u001B[38;5;28;01mif\u001B[39;00m issparse(X) \u001B[38;5;129;01mand\u001B[39;00m (X\u001B[38;5;241m.\u001B[39mindices\u001B[38;5;241m.\u001B[39mdtype \u001B[38;5;241m!=\u001B[39m np\u001B[38;5;241m.\u001B[39mintc \u001B[38;5;129;01mor\u001B[39;00m X\u001B[38;5;241m.\u001B[39mindptr\u001B[38;5;241m.\u001B[39mdtype \u001B[38;5;241m!=\u001B[39m np\u001B[38;5;241m.\u001B[39mintc):\n\u001B[0;32m    649\u001B[0m     \u001B[38;5;28;01mraise\u001B[39;00m \u001B[38;5;167;01mValueError\u001B[39;00m(\u001B[38;5;124m\"\u001B[39m\u001B[38;5;124mNo support for np.int64 index based sparse matrices\u001B[39m\u001B[38;5;124m\"\u001B[39m)\n",
      "File \u001B[1;32m~\\AppData\\Local\\Programs\\Python\\Python312\\Lib\\site-packages\\sklearn\\base.py:633\u001B[0m, in \u001B[0;36mBaseEstimator._validate_data\u001B[1;34m(self, X, y, reset, validate_separately, cast_to_ndarray, **check_params)\u001B[0m\n\u001B[0;32m    631\u001B[0m         out \u001B[38;5;241m=\u001B[39m X, y\n\u001B[0;32m    632\u001B[0m \u001B[38;5;28;01melif\u001B[39;00m \u001B[38;5;129;01mnot\u001B[39;00m no_val_X \u001B[38;5;129;01mand\u001B[39;00m no_val_y:\n\u001B[1;32m--> 633\u001B[0m     out \u001B[38;5;241m=\u001B[39m \u001B[43mcheck_array\u001B[49m\u001B[43m(\u001B[49m\u001B[43mX\u001B[49m\u001B[43m,\u001B[49m\u001B[43m \u001B[49m\u001B[43minput_name\u001B[49m\u001B[38;5;241;43m=\u001B[39;49m\u001B[38;5;124;43m\"\u001B[39;49m\u001B[38;5;124;43mX\u001B[39;49m\u001B[38;5;124;43m\"\u001B[39;49m\u001B[43m,\u001B[49m\u001B[43m \u001B[49m\u001B[38;5;241;43m*\u001B[39;49m\u001B[38;5;241;43m*\u001B[39;49m\u001B[43mcheck_params\u001B[49m\u001B[43m)\u001B[49m\n\u001B[0;32m    634\u001B[0m \u001B[38;5;28;01melif\u001B[39;00m no_val_X \u001B[38;5;129;01mand\u001B[39;00m \u001B[38;5;129;01mnot\u001B[39;00m no_val_y:\n\u001B[0;32m    635\u001B[0m     out \u001B[38;5;241m=\u001B[39m _check_y(y, \u001B[38;5;241m*\u001B[39m\u001B[38;5;241m*\u001B[39mcheck_params)\n",
      "File \u001B[1;32m~\\AppData\\Local\\Programs\\Python\\Python312\\Lib\\site-packages\\sklearn\\utils\\validation.py:997\u001B[0m, in \u001B[0;36mcheck_array\u001B[1;34m(array, accept_sparse, accept_large_sparse, dtype, order, copy, force_all_finite, ensure_2d, allow_nd, ensure_min_samples, ensure_min_features, estimator, input_name)\u001B[0m\n\u001B[0;32m    995\u001B[0m         array \u001B[38;5;241m=\u001B[39m xp\u001B[38;5;241m.\u001B[39mastype(array, dtype, copy\u001B[38;5;241m=\u001B[39m\u001B[38;5;28;01mFalse\u001B[39;00m)\n\u001B[0;32m    996\u001B[0m     \u001B[38;5;28;01melse\u001B[39;00m:\n\u001B[1;32m--> 997\u001B[0m         array \u001B[38;5;241m=\u001B[39m \u001B[43m_asarray_with_order\u001B[49m\u001B[43m(\u001B[49m\u001B[43marray\u001B[49m\u001B[43m,\u001B[49m\u001B[43m \u001B[49m\u001B[43morder\u001B[49m\u001B[38;5;241;43m=\u001B[39;49m\u001B[43morder\u001B[49m\u001B[43m,\u001B[49m\u001B[43m \u001B[49m\u001B[43mdtype\u001B[49m\u001B[38;5;241;43m=\u001B[39;49m\u001B[43mdtype\u001B[49m\u001B[43m,\u001B[49m\u001B[43m \u001B[49m\u001B[43mxp\u001B[49m\u001B[38;5;241;43m=\u001B[39;49m\u001B[43mxp\u001B[49m\u001B[43m)\u001B[49m\n\u001B[0;32m    998\u001B[0m \u001B[38;5;28;01mexcept\u001B[39;00m ComplexWarning \u001B[38;5;28;01mas\u001B[39;00m complex_warning:\n\u001B[0;32m    999\u001B[0m     \u001B[38;5;28;01mraise\u001B[39;00m \u001B[38;5;167;01mValueError\u001B[39;00m(\n\u001B[0;32m   1000\u001B[0m         \u001B[38;5;124m\"\u001B[39m\u001B[38;5;124mComplex data not supported\u001B[39m\u001B[38;5;130;01m\\n\u001B[39;00m\u001B[38;5;132;01m{}\u001B[39;00m\u001B[38;5;130;01m\\n\u001B[39;00m\u001B[38;5;124m\"\u001B[39m\u001B[38;5;241m.\u001B[39mformat(array)\n\u001B[0;32m   1001\u001B[0m     ) \u001B[38;5;28;01mfrom\u001B[39;00m \u001B[38;5;21;01mcomplex_warning\u001B[39;00m\n",
      "File \u001B[1;32m~\\AppData\\Local\\Programs\\Python\\Python312\\Lib\\site-packages\\sklearn\\utils\\_array_api.py:521\u001B[0m, in \u001B[0;36m_asarray_with_order\u001B[1;34m(array, dtype, order, copy, xp)\u001B[0m\n\u001B[0;32m    519\u001B[0m     array \u001B[38;5;241m=\u001B[39m numpy\u001B[38;5;241m.\u001B[39marray(array, order\u001B[38;5;241m=\u001B[39morder, dtype\u001B[38;5;241m=\u001B[39mdtype)\n\u001B[0;32m    520\u001B[0m \u001B[38;5;28;01melse\u001B[39;00m:\n\u001B[1;32m--> 521\u001B[0m     array \u001B[38;5;241m=\u001B[39m \u001B[43mnumpy\u001B[49m\u001B[38;5;241;43m.\u001B[39;49m\u001B[43masarray\u001B[49m\u001B[43m(\u001B[49m\u001B[43marray\u001B[49m\u001B[43m,\u001B[49m\u001B[43m \u001B[49m\u001B[43morder\u001B[49m\u001B[38;5;241;43m=\u001B[39;49m\u001B[43morder\u001B[49m\u001B[43m,\u001B[49m\u001B[43m \u001B[49m\u001B[43mdtype\u001B[49m\u001B[38;5;241;43m=\u001B[39;49m\u001B[43mdtype\u001B[49m\u001B[43m)\u001B[49m\n\u001B[0;32m    523\u001B[0m \u001B[38;5;66;03m# At this point array is a NumPy ndarray. We convert it to an array\u001B[39;00m\n\u001B[0;32m    524\u001B[0m \u001B[38;5;66;03m# container that is consistent with the input's namespace.\u001B[39;00m\n\u001B[0;32m    525\u001B[0m \u001B[38;5;28;01mreturn\u001B[39;00m xp\u001B[38;5;241m.\u001B[39masarray(array)\n",
      "File \u001B[1;32m~\\AppData\\Local\\Programs\\Python\\Python312\\Lib\\site-packages\\pandas\\core\\generic.py:2152\u001B[0m, in \u001B[0;36mNDFrame.__array__\u001B[1;34m(self, dtype, copy)\u001B[0m\n\u001B[0;32m   2149\u001B[0m \u001B[38;5;28;01mdef\u001B[39;00m \u001B[38;5;21m__array__\u001B[39m(\n\u001B[0;32m   2150\u001B[0m     \u001B[38;5;28mself\u001B[39m, dtype: npt\u001B[38;5;241m.\u001B[39mDTypeLike \u001B[38;5;241m|\u001B[39m \u001B[38;5;28;01mNone\u001B[39;00m \u001B[38;5;241m=\u001B[39m \u001B[38;5;28;01mNone\u001B[39;00m, copy: bool_t \u001B[38;5;241m|\u001B[39m \u001B[38;5;28;01mNone\u001B[39;00m \u001B[38;5;241m=\u001B[39m \u001B[38;5;28;01mNone\u001B[39;00m\n\u001B[0;32m   2151\u001B[0m ) \u001B[38;5;241m-\u001B[39m\u001B[38;5;241m>\u001B[39m np\u001B[38;5;241m.\u001B[39mndarray:\n\u001B[1;32m-> 2152\u001B[0m     values \u001B[38;5;241m=\u001B[39m \u001B[38;5;28;43mself\u001B[39;49m\u001B[38;5;241;43m.\u001B[39;49m\u001B[43m_values\u001B[49m\n\u001B[0;32m   2153\u001B[0m     arr \u001B[38;5;241m=\u001B[39m np\u001B[38;5;241m.\u001B[39masarray(values, dtype\u001B[38;5;241m=\u001B[39mdtype)\n\u001B[0;32m   2154\u001B[0m     \u001B[38;5;28;01mif\u001B[39;00m (\n\u001B[0;32m   2155\u001B[0m         astype_is_view(values\u001B[38;5;241m.\u001B[39mdtype, arr\u001B[38;5;241m.\u001B[39mdtype)\n\u001B[0;32m   2156\u001B[0m         \u001B[38;5;129;01mand\u001B[39;00m using_copy_on_write()\n\u001B[0;32m   2157\u001B[0m         \u001B[38;5;129;01mand\u001B[39;00m \u001B[38;5;28mself\u001B[39m\u001B[38;5;241m.\u001B[39m_mgr\u001B[38;5;241m.\u001B[39mis_single_block\n\u001B[0;32m   2158\u001B[0m     ):\n\u001B[0;32m   2159\u001B[0m         \u001B[38;5;66;03m# Check if both conversions can be done without a copy\u001B[39;00m\n",
      "File \u001B[1;32m~\\AppData\\Local\\Programs\\Python\\Python312\\Lib\\site-packages\\pandas\\core\\frame.py:1127\u001B[0m, in \u001B[0;36mDataFrame._values\u001B[1;34m(self)\u001B[0m\n\u001B[0;32m   1125\u001B[0m blocks \u001B[38;5;241m=\u001B[39m mgr\u001B[38;5;241m.\u001B[39mblocks\n\u001B[0;32m   1126\u001B[0m \u001B[38;5;28;01mif\u001B[39;00m \u001B[38;5;28mlen\u001B[39m(blocks) \u001B[38;5;241m!=\u001B[39m \u001B[38;5;241m1\u001B[39m:\n\u001B[1;32m-> 1127\u001B[0m     \u001B[38;5;28;01mreturn\u001B[39;00m ensure_wrapped_if_datetimelike(\u001B[38;5;28;43mself\u001B[39;49m\u001B[38;5;241;43m.\u001B[39;49m\u001B[43mvalues\u001B[49m)\n\u001B[0;32m   1129\u001B[0m arr \u001B[38;5;241m=\u001B[39m blocks[\u001B[38;5;241m0\u001B[39m]\u001B[38;5;241m.\u001B[39mvalues\n\u001B[0;32m   1130\u001B[0m \u001B[38;5;28;01mif\u001B[39;00m arr\u001B[38;5;241m.\u001B[39mndim \u001B[38;5;241m==\u001B[39m \u001B[38;5;241m1\u001B[39m:\n\u001B[0;32m   1131\u001B[0m     \u001B[38;5;66;03m# non-2D ExtensionArray\u001B[39;00m\n",
      "File \u001B[1;32m~\\AppData\\Local\\Programs\\Python\\Python312\\Lib\\site-packages\\pandas\\core\\frame.py:12664\u001B[0m, in \u001B[0;36mDataFrame.values\u001B[1;34m(self)\u001B[0m\n\u001B[0;32m  12590\u001B[0m \u001B[38;5;129m@property\u001B[39m\n\u001B[0;32m  12591\u001B[0m \u001B[38;5;28;01mdef\u001B[39;00m \u001B[38;5;21mvalues\u001B[39m(\u001B[38;5;28mself\u001B[39m) \u001B[38;5;241m-\u001B[39m\u001B[38;5;241m>\u001B[39m np\u001B[38;5;241m.\u001B[39mndarray:\n\u001B[0;32m  12592\u001B[0m \u001B[38;5;250m    \u001B[39m\u001B[38;5;124;03m\"\"\"\u001B[39;00m\n\u001B[0;32m  12593\u001B[0m \u001B[38;5;124;03m    Return a Numpy representation of the DataFrame.\u001B[39;00m\n\u001B[0;32m  12594\u001B[0m \n\u001B[1;32m   (...)\u001B[0m\n\u001B[0;32m  12662\u001B[0m \u001B[38;5;124;03m           ['monkey', nan, None]], dtype=object)\u001B[39;00m\n\u001B[0;32m  12663\u001B[0m \u001B[38;5;124;03m    \"\"\"\u001B[39;00m\n\u001B[1;32m> 12664\u001B[0m     \u001B[38;5;28;01mreturn\u001B[39;00m \u001B[38;5;28;43mself\u001B[39;49m\u001B[38;5;241;43m.\u001B[39;49m\u001B[43m_mgr\u001B[49m\u001B[38;5;241;43m.\u001B[39;49m\u001B[43mas_array\u001B[49m\u001B[43m(\u001B[49m\u001B[43m)\u001B[49m\n",
      "File \u001B[1;32m~\\AppData\\Local\\Programs\\Python\\Python312\\Lib\\site-packages\\pandas\\core\\internals\\managers.py:1694\u001B[0m, in \u001B[0;36mBlockManager.as_array\u001B[1;34m(self, dtype, copy, na_value)\u001B[0m\n\u001B[0;32m   1692\u001B[0m         arr\u001B[38;5;241m.\u001B[39mflags\u001B[38;5;241m.\u001B[39mwriteable \u001B[38;5;241m=\u001B[39m \u001B[38;5;28;01mFalse\u001B[39;00m\n\u001B[0;32m   1693\u001B[0m \u001B[38;5;28;01melse\u001B[39;00m:\n\u001B[1;32m-> 1694\u001B[0m     arr \u001B[38;5;241m=\u001B[39m \u001B[38;5;28;43mself\u001B[39;49m\u001B[38;5;241;43m.\u001B[39;49m\u001B[43m_interleave\u001B[49m\u001B[43m(\u001B[49m\u001B[43mdtype\u001B[49m\u001B[38;5;241;43m=\u001B[39;49m\u001B[43mdtype\u001B[49m\u001B[43m,\u001B[49m\u001B[43m \u001B[49m\u001B[43mna_value\u001B[49m\u001B[38;5;241;43m=\u001B[39;49m\u001B[43mna_value\u001B[49m\u001B[43m)\u001B[49m\n\u001B[0;32m   1695\u001B[0m     \u001B[38;5;66;03m# The underlying data was copied within _interleave, so no need\u001B[39;00m\n\u001B[0;32m   1696\u001B[0m     \u001B[38;5;66;03m# to further copy if copy=True or setting na_value\u001B[39;00m\n\u001B[0;32m   1698\u001B[0m \u001B[38;5;28;01mif\u001B[39;00m na_value \u001B[38;5;129;01mis\u001B[39;00m lib\u001B[38;5;241m.\u001B[39mno_default:\n",
      "File \u001B[1;32m~\\AppData\\Local\\Programs\\Python\\Python312\\Lib\\site-packages\\pandas\\core\\internals\\managers.py:1727\u001B[0m, in \u001B[0;36mBlockManager._interleave\u001B[1;34m(self, dtype, na_value)\u001B[0m\n\u001B[0;32m   1724\u001B[0m \u001B[38;5;66;03m# error: Argument 1 to \"ensure_np_dtype\" has incompatible type\u001B[39;00m\n\u001B[0;32m   1725\u001B[0m \u001B[38;5;66;03m# \"Optional[dtype[Any]]\"; expected \"Union[dtype[Any], ExtensionDtype]\"\u001B[39;00m\n\u001B[0;32m   1726\u001B[0m dtype \u001B[38;5;241m=\u001B[39m ensure_np_dtype(dtype)  \u001B[38;5;66;03m# type: ignore[arg-type]\u001B[39;00m\n\u001B[1;32m-> 1727\u001B[0m result \u001B[38;5;241m=\u001B[39m \u001B[43mnp\u001B[49m\u001B[38;5;241;43m.\u001B[39;49m\u001B[43mempty\u001B[49m\u001B[43m(\u001B[49m\u001B[38;5;28;43mself\u001B[39;49m\u001B[38;5;241;43m.\u001B[39;49m\u001B[43mshape\u001B[49m\u001B[43m,\u001B[49m\u001B[43m \u001B[49m\u001B[43mdtype\u001B[49m\u001B[38;5;241;43m=\u001B[39;49m\u001B[43mdtype\u001B[49m\u001B[43m)\u001B[49m\n\u001B[0;32m   1729\u001B[0m itemmask \u001B[38;5;241m=\u001B[39m np\u001B[38;5;241m.\u001B[39mzeros(\u001B[38;5;28mself\u001B[39m\u001B[38;5;241m.\u001B[39mshape[\u001B[38;5;241m0\u001B[39m])\n\u001B[0;32m   1731\u001B[0m \u001B[38;5;28;01mif\u001B[39;00m dtype \u001B[38;5;241m==\u001B[39m np\u001B[38;5;241m.\u001B[39mdtype(\u001B[38;5;124m\"\u001B[39m\u001B[38;5;124mobject\u001B[39m\u001B[38;5;124m\"\u001B[39m) \u001B[38;5;129;01mand\u001B[39;00m na_value \u001B[38;5;129;01mis\u001B[39;00m lib\u001B[38;5;241m.\u001B[39mno_default:\n\u001B[0;32m   1732\u001B[0m     \u001B[38;5;66;03m# much more performant than using to_numpy below\u001B[39;00m\n",
      "\u001B[1;31mMemoryError\u001B[0m: Unable to allocate 2.96 GiB for an array with shape (714, 555719) and data type float64"
     ]
    }
   ],
   "execution_count": 77
  },
  {
   "metadata": {
    "ExecuteTime": {
     "end_time": "2024-05-15T18:01:26.502295Z",
     "start_time": "2024-05-15T18:01:23.523246Z"
    }
   },
   "cell_type": "code",
   "source": [
    "#accuracy\n",
    "from sklearn.metrics import f1_score\n",
    "from sklearn.metrics import precision_score,accuracy_score,confusion_matrix\n",
    "from sklearn.metrics import recall_score\n",
    "\n",
    "trainScore = accuracy_score(y_train,y_train_pred)\n",
    "\n",
    "print('precision: %.2f' % precision_score(y_train, y_train_pred))\n",
    "print('recall: %.2f' % recall_score(y_train, y_train_pred))\n",
    "print('f1_score: %.2f' % f1_score(y_train, y_train_pred))\n",
    "print(f'the train accuracy is {trainScore*100}%')\n",
    "print(f'the train score is {trainScore}')\n",
    "print('train Confusion Matrix:\\n', confusion_matrix(y_train, y_train_pred))\n",
    "print('---------------------------------------')\n",
    "\n",
    "\n",
    "\n"
   ],
   "id": "5be24002b672215b",
   "outputs": [
    {
     "ename": "ValueError",
     "evalue": "Classification metrics can't handle a mix of binary and continuous targets",
     "output_type": "error",
     "traceback": [
      "\u001B[1;31m---------------------------------------------------------------------------\u001B[0m",
      "\u001B[1;31mValueError\u001B[0m                                Traceback (most recent call last)",
      "Cell \u001B[1;32mIn[66], line 6\u001B[0m\n\u001B[0;32m      3\u001B[0m \u001B[38;5;28;01mfrom\u001B[39;00m \u001B[38;5;21;01msklearn\u001B[39;00m\u001B[38;5;21;01m.\u001B[39;00m\u001B[38;5;21;01mmetrics\u001B[39;00m \u001B[38;5;28;01mimport\u001B[39;00m precision_score,accuracy_score,confusion_matrix\n\u001B[0;32m      4\u001B[0m \u001B[38;5;28;01mfrom\u001B[39;00m \u001B[38;5;21;01msklearn\u001B[39;00m\u001B[38;5;21;01m.\u001B[39;00m\u001B[38;5;21;01mmetrics\u001B[39;00m \u001B[38;5;28;01mimport\u001B[39;00m recall_score\n\u001B[1;32m----> 6\u001B[0m trainScore \u001B[38;5;241m=\u001B[39m \u001B[43maccuracy_score\u001B[49m\u001B[43m(\u001B[49m\u001B[43my_train\u001B[49m\u001B[43m,\u001B[49m\u001B[43my_train_pred\u001B[49m\u001B[43m)\u001B[49m\n\u001B[0;32m      8\u001B[0m \u001B[38;5;28mprint\u001B[39m(\u001B[38;5;124m'\u001B[39m\u001B[38;5;124mprecision: \u001B[39m\u001B[38;5;132;01m%.2f\u001B[39;00m\u001B[38;5;124m'\u001B[39m \u001B[38;5;241m%\u001B[39m precision_score(y_train, y_train_pred))\n\u001B[0;32m      9\u001B[0m \u001B[38;5;28mprint\u001B[39m(\u001B[38;5;124m'\u001B[39m\u001B[38;5;124mrecall: \u001B[39m\u001B[38;5;132;01m%.2f\u001B[39;00m\u001B[38;5;124m'\u001B[39m \u001B[38;5;241m%\u001B[39m recall_score(y_train, y_train_pred))\n",
      "File \u001B[1;32m~\\AppData\\Local\\Programs\\Python\\Python312\\Lib\\site-packages\\sklearn\\utils\\_param_validation.py:213\u001B[0m, in \u001B[0;36mvalidate_params.<locals>.decorator.<locals>.wrapper\u001B[1;34m(*args, **kwargs)\u001B[0m\n\u001B[0;32m    207\u001B[0m \u001B[38;5;28;01mtry\u001B[39;00m:\n\u001B[0;32m    208\u001B[0m     \u001B[38;5;28;01mwith\u001B[39;00m config_context(\n\u001B[0;32m    209\u001B[0m         skip_parameter_validation\u001B[38;5;241m=\u001B[39m(\n\u001B[0;32m    210\u001B[0m             prefer_skip_nested_validation \u001B[38;5;129;01mor\u001B[39;00m global_skip_validation\n\u001B[0;32m    211\u001B[0m         )\n\u001B[0;32m    212\u001B[0m     ):\n\u001B[1;32m--> 213\u001B[0m         \u001B[38;5;28;01mreturn\u001B[39;00m \u001B[43mfunc\u001B[49m\u001B[43m(\u001B[49m\u001B[38;5;241;43m*\u001B[39;49m\u001B[43margs\u001B[49m\u001B[43m,\u001B[49m\u001B[43m \u001B[49m\u001B[38;5;241;43m*\u001B[39;49m\u001B[38;5;241;43m*\u001B[39;49m\u001B[43mkwargs\u001B[49m\u001B[43m)\u001B[49m\n\u001B[0;32m    214\u001B[0m \u001B[38;5;28;01mexcept\u001B[39;00m InvalidParameterError \u001B[38;5;28;01mas\u001B[39;00m e:\n\u001B[0;32m    215\u001B[0m     \u001B[38;5;66;03m# When the function is just a wrapper around an estimator, we allow\u001B[39;00m\n\u001B[0;32m    216\u001B[0m     \u001B[38;5;66;03m# the function to delegate validation to the estimator, but we replace\u001B[39;00m\n\u001B[0;32m    217\u001B[0m     \u001B[38;5;66;03m# the name of the estimator by the name of the function in the error\u001B[39;00m\n\u001B[0;32m    218\u001B[0m     \u001B[38;5;66;03m# message to avoid confusion.\u001B[39;00m\n\u001B[0;32m    219\u001B[0m     msg \u001B[38;5;241m=\u001B[39m re\u001B[38;5;241m.\u001B[39msub(\n\u001B[0;32m    220\u001B[0m         \u001B[38;5;124mr\u001B[39m\u001B[38;5;124m\"\u001B[39m\u001B[38;5;124mparameter of \u001B[39m\u001B[38;5;124m\\\u001B[39m\u001B[38;5;124mw+ must be\u001B[39m\u001B[38;5;124m\"\u001B[39m,\n\u001B[0;32m    221\u001B[0m         \u001B[38;5;124mf\u001B[39m\u001B[38;5;124m\"\u001B[39m\u001B[38;5;124mparameter of \u001B[39m\u001B[38;5;132;01m{\u001B[39;00mfunc\u001B[38;5;241m.\u001B[39m\u001B[38;5;18m__qualname__\u001B[39m\u001B[38;5;132;01m}\u001B[39;00m\u001B[38;5;124m must be\u001B[39m\u001B[38;5;124m\"\u001B[39m,\n\u001B[0;32m    222\u001B[0m         \u001B[38;5;28mstr\u001B[39m(e),\n\u001B[0;32m    223\u001B[0m     )\n",
      "File \u001B[1;32m~\\AppData\\Local\\Programs\\Python\\Python312\\Lib\\site-packages\\sklearn\\metrics\\_classification.py:213\u001B[0m, in \u001B[0;36maccuracy_score\u001B[1;34m(y_true, y_pred, normalize, sample_weight)\u001B[0m\n\u001B[0;32m    147\u001B[0m \u001B[38;5;250m\u001B[39m\u001B[38;5;124;03m\"\"\"Accuracy classification score.\u001B[39;00m\n\u001B[0;32m    148\u001B[0m \n\u001B[0;32m    149\u001B[0m \u001B[38;5;124;03mIn multilabel classification, this function computes subset accuracy:\u001B[39;00m\n\u001B[1;32m   (...)\u001B[0m\n\u001B[0;32m    209\u001B[0m \u001B[38;5;124;03m0.5\u001B[39;00m\n\u001B[0;32m    210\u001B[0m \u001B[38;5;124;03m\"\"\"\u001B[39;00m\n\u001B[0;32m    212\u001B[0m \u001B[38;5;66;03m# Compute accuracy for each possible representation\u001B[39;00m\n\u001B[1;32m--> 213\u001B[0m y_type, y_true, y_pred \u001B[38;5;241m=\u001B[39m \u001B[43m_check_targets\u001B[49m\u001B[43m(\u001B[49m\u001B[43my_true\u001B[49m\u001B[43m,\u001B[49m\u001B[43m \u001B[49m\u001B[43my_pred\u001B[49m\u001B[43m)\u001B[49m\n\u001B[0;32m    214\u001B[0m check_consistent_length(y_true, y_pred, sample_weight)\n\u001B[0;32m    215\u001B[0m \u001B[38;5;28;01mif\u001B[39;00m y_type\u001B[38;5;241m.\u001B[39mstartswith(\u001B[38;5;124m\"\u001B[39m\u001B[38;5;124mmultilabel\u001B[39m\u001B[38;5;124m\"\u001B[39m):\n",
      "File \u001B[1;32m~\\AppData\\Local\\Programs\\Python\\Python312\\Lib\\site-packages\\sklearn\\metrics\\_classification.py:94\u001B[0m, in \u001B[0;36m_check_targets\u001B[1;34m(y_true, y_pred)\u001B[0m\n\u001B[0;32m     91\u001B[0m     y_type \u001B[38;5;241m=\u001B[39m {\u001B[38;5;124m\"\u001B[39m\u001B[38;5;124mmulticlass\u001B[39m\u001B[38;5;124m\"\u001B[39m}\n\u001B[0;32m     93\u001B[0m \u001B[38;5;28;01mif\u001B[39;00m \u001B[38;5;28mlen\u001B[39m(y_type) \u001B[38;5;241m>\u001B[39m \u001B[38;5;241m1\u001B[39m:\n\u001B[1;32m---> 94\u001B[0m     \u001B[38;5;28;01mraise\u001B[39;00m \u001B[38;5;167;01mValueError\u001B[39;00m(\n\u001B[0;32m     95\u001B[0m         \u001B[38;5;124m\"\u001B[39m\u001B[38;5;124mClassification metrics can\u001B[39m\u001B[38;5;124m'\u001B[39m\u001B[38;5;124mt handle a mix of \u001B[39m\u001B[38;5;132;01m{0}\u001B[39;00m\u001B[38;5;124m and \u001B[39m\u001B[38;5;132;01m{1}\u001B[39;00m\u001B[38;5;124m targets\u001B[39m\u001B[38;5;124m\"\u001B[39m\u001B[38;5;241m.\u001B[39mformat(\n\u001B[0;32m     96\u001B[0m             type_true, type_pred\n\u001B[0;32m     97\u001B[0m         )\n\u001B[0;32m     98\u001B[0m     )\n\u001B[0;32m    100\u001B[0m \u001B[38;5;66;03m# We can't have more than one value on y_type => The set is no more needed\u001B[39;00m\n\u001B[0;32m    101\u001B[0m y_type \u001B[38;5;241m=\u001B[39m y_type\u001B[38;5;241m.\u001B[39mpop()\n",
      "\u001B[1;31mValueError\u001B[0m: Classification metrics can't handle a mix of binary and continuous targets"
     ]
    }
   ],
   "execution_count": 66
  },
  {
   "metadata": {
    "ExecuteTime": {
     "end_time": "2024-05-15T18:00:11.763512Z",
     "start_time": "2024-05-15T18:00:10.725593Z"
    }
   },
   "cell_type": "code",
   "source": [
    "\n",
    "testScore = accuracy_score(y_test,y_test_pred)\n",
    "\n",
    "print('precision: %.2f' % precision_score(y_test, y_test_pred))\n",
    "print('recall: %.2f' % recall_score(y_test, y_test_pred))\n",
    "print('f1_score: %.2f' % f1_score(y_test, y_test_pred))\n",
    "print(f'the test accuracy is {testScore*100}%')\n",
    "print(f'the test score is {testScore}')\n",
    "print('train Confusion Matrix:\\n', confusion_matrix(y_test, y_test_pred))\n",
    "print('---------------------------------------')"
   ],
   "id": "72ba349781deeaf2",
   "outputs": [
    {
     "name": "stdout",
     "output_type": "stream",
     "text": [
      "precision: 0.12\n",
      "recall: 0.94\n",
      "f1_score: 0.22\n",
      "the test accuracy is 97.36449536546348%\n",
      "the test score is 0.9736449536546348\n",
      "train Confusion Matrix:\n",
      " [[539054  14520]\n",
      " [   126   2019]]\n",
      "---------------------------------------\n"
     ]
    }
   ],
   "execution_count": 64
  },
  {
   "metadata": {
    "ExecuteTime": {
     "end_time": "2024-05-14T17:13:21.151201Z",
     "start_time": "2024-05-14T17:13:21.147163Z"
    }
   },
   "cell_type": "code",
   "source": [
    "# from sklearn.model_selection import train_test_split\n",
    "# from imblearn.under_sampling import RandomUnderSampler\n",
    "# \n",
    "# rus = RandomUnderSampler(sampling_strategy = 1)\n",
    "# x_train_new, y_train_new = rus.fit_resample(x_train,y_train)\n",
    "# \n",
    "# x1\n",
    "# #xtr xt ytr yt\n",
    "# x1, x2, y1, y2 = train_test_split(x_train_new,y_train_new, test_size = 0.2)\n",
    "# \n",
    "# #model training\n",
    "# from sklearn.ensemble import RandomForestClassifier\n",
    "# \n",
    "# model = RandomForestClassifier(n_estimators = 100, random_state = 0)\n",
    "# model.fit(x1,y1)\n",
    "# y_pred_tr = model.predict(x1)\n",
    "# y_pred_t = model.predict(x2)\n"
   ],
   "id": "db943be0601c38ed",
   "outputs": [],
   "execution_count": 60
  }
 ],
 "metadata": {
  "kernelspec": {
   "display_name": "Python 3",
   "language": "python",
   "name": "python3"
  },
  "language_info": {
   "codemirror_mode": {
    "name": "ipython",
    "version": 2
   },
   "file_extension": ".py",
   "mimetype": "text/x-python",
   "name": "python",
   "nbconvert_exporter": "python",
   "pygments_lexer": "ipython2",
   "version": "2.7.6"
  }
 },
 "nbformat": 4,
 "nbformat_minor": 5
}
