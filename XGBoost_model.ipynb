{
 "cells": [
  {
   "cell_type": "code",
   "id": "initial_id",
   "metadata": {
    "collapsed": true,
    "ExecuteTime": {
     "end_time": "2024-05-18T20:34:28.775519Z",
     "start_time": "2024-05-18T20:34:27.214760Z"
    }
   },
   "source": [
    "import numpy as np\n",
    "import pandas as pd\n",
    "from matplotlib import pyplot as plt\n",
    "import seaborn as sns\n",
    "from sklearn.model_selection import GridSearchCV\n",
    "from sklearn.linear_model import LogisticRegression\n",
    "from sklearn.tree import DecisionTreeClassifier\n",
    "from sklearn.ensemble import RandomForestClassifier\n",
    "import xgboost as xgb\n",
    "from sklearn.metrics import f1_score,roc_auc_score\n",
    "from sklearn.metrics import confusion_matrix, accuracy_score, precision_score, recall_score,ConfusionMatrixDisplay\n",
    "from imblearn.over_sampling import SMOTENC,BorderlineSMOTE,SMOTE\n",
    "import openpyxl\n",
    "\n",
    "\n",
    "pd.options.mode.copy_on_write = True"
   ],
   "outputs": [],
   "execution_count": 1
  },
  {
   "metadata": {
    "ExecuteTime": {
     "end_time": "2024-05-18T20:34:46.039629Z",
     "start_time": "2024-05-18T20:34:43.493972Z"
    }
   },
   "cell_type": "code",
   "source": "df = pd.read_csv('fraudTrain.csv')",
   "id": "eb4c0e1f3a73d3a0",
   "outputs": [],
   "execution_count": 2
  },
  {
   "metadata": {
    "ExecuteTime": {
     "end_time": "2024-05-18T20:34:49.602382Z",
     "start_time": "2024-05-18T20:34:47.511735Z"
    }
   },
   "cell_type": "code",
   "source": "df_test = pd.read_csv('fraudTest.csv')",
   "id": "436a1421aa450ef5",
   "outputs": [],
   "execution_count": 3
  },
  {
   "metadata": {},
   "cell_type": "markdown",
   "source": "### Target Encoding",
   "id": "5f7141f974fc6af3"
  },
  {
   "metadata": {
    "ExecuteTime": {
     "end_time": "2024-05-18T20:34:56.230735Z",
     "start_time": "2024-05-18T20:34:55.593927Z"
    }
   },
   "cell_type": "code",
   "source": "df.dropna(axis=0, how='any',inplace=True)",
   "id": "7a872a4cb134ef7e",
   "outputs": [],
   "execution_count": 4
  },
  {
   "metadata": {
    "ExecuteTime": {
     "end_time": "2024-05-18T20:34:57.069402Z",
     "start_time": "2024-05-18T20:34:56.893387Z"
    }
   },
   "cell_type": "code",
   "source": [
    "cat_targ_enc = df.groupby('category')['is_fraud'].mean()\n",
    "df['category_target_enc'] = df['category'].map(cat_targ_enc)"
   ],
   "id": "4ab590eb56e9e3f3",
   "outputs": [],
   "execution_count": 5
  },
  {
   "metadata": {
    "ExecuteTime": {
     "end_time": "2024-05-18T20:34:58.089924Z",
     "start_time": "2024-05-18T20:34:57.803209Z"
    }
   },
   "cell_type": "code",
   "source": [
    "merchant_targ_enc = df.groupby('merchant')['is_fraud'].mean()\n",
    "df['merchant_target_enc'] = df['merchant'].map(merchant_targ_enc)"
   ],
   "id": "31ccd5835099977e",
   "outputs": [],
   "execution_count": 6
  },
  {
   "metadata": {
    "ExecuteTime": {
     "end_time": "2024-05-18T20:35:02.407322Z",
     "start_time": "2024-05-18T20:34:59.101608Z"
    }
   },
   "cell_type": "code",
   "source": "sns.boxplot(x= df['is_fraud'],y=df['category_target_enc'])",
   "id": "eafb8de7c448ad80",
   "outputs": [
    {
     "data": {
      "text/plain": [
       "<Axes: xlabel='is_fraud', ylabel='category_target_enc'>"
      ]
     },
     "execution_count": 7,
     "metadata": {},
     "output_type": "execute_result"
    },
    {
     "data": {
      "text/plain": [
       "<Figure size 640x480 with 1 Axes>"
      ],
      "image/png": "[encoded data removed]"
     },
     "metadata": {},
     "output_type": "display_data"
    }
   ],
   "execution_count": 7
  },
  {
   "metadata": {},
   "cell_type": "code",
   "source": "sns.boxplot(x= df['is_fraud'],y=df['merchant_target_enc'])",
   "id": "4e8c85b6b2573f96",
   "outputs": [],
   "execution_count": null
  },
  {
   "metadata": {},
   "cell_type": "markdown",
   "source": "#### Testing Set",
   "id": "92116a737343ed38"
  },
  {
   "metadata": {
    "ExecuteTime": {
     "end_time": "2024-05-18T20:35:07.346352Z",
     "start_time": "2024-05-18T20:35:07.238997Z"
    }
   },
   "cell_type": "code",
   "source": [
    "df_test['category_target_enc'] = df_test['category'].map(cat_targ_enc)\n",
    "df_test['merchant_target_enc'] = df_test['merchant'].map(merchant_targ_enc)"
   ],
   "id": "cf95ab7539af1719",
   "outputs": [],
   "execution_count": 8
  },
  {
   "metadata": {},
   "cell_type": "markdown",
   "source": "# Pre-Processing Features",
   "id": "d1f2daabfcc4bc9d"
  },
  {
   "metadata": {},
   "cell_type": "markdown",
   "source": "### *Time* Feature",
   "id": "b47d701f7ee9102e"
  },
  {
   "metadata": {
    "ExecuteTime": {
     "end_time": "2024-05-18T20:35:14.044324Z",
     "start_time": "2024-05-18T20:35:11.661406Z"
    }
   },
   "cell_type": "code",
   "source": "df['Time'] = pd.to_datetime(df['Time'])",
   "id": "2f4d08370a836d31",
   "outputs": [],
   "execution_count": 9
  },
  {
   "metadata": {
    "ExecuteTime": {
     "end_time": "2024-05-18T20:35:17.028826Z",
     "start_time": "2024-05-18T20:35:15.816054Z"
    }
   },
   "cell_type": "code",
   "source": "df_test['Time'] = pd.to_datetime(df_test['Time'])",
   "id": "4d8eb4d0ca80452c",
   "outputs": [],
   "execution_count": 10
  },
  {
   "metadata": {
    "ExecuteTime": {
     "end_time": "2024-05-18T20:35:17.942903Z",
     "start_time": "2024-05-18T20:35:17.720933Z"
    }
   },
   "cell_type": "code",
   "source": [
    "df['Time:year'] = df['Time'].dt.year\n",
    "df['Time:month'] = df['Time'].dt.month\n",
    "df['Time:day'] = df['Time'].dt.day\n",
    "df['Time:hour'] = df['Time'].dt.hour"
   ],
   "id": "cbccd4e63d9d9216",
   "outputs": [],
   "execution_count": 11
  },
  {
   "metadata": {
    "ExecuteTime": {
     "end_time": "2024-05-18T20:35:18.918469Z",
     "start_time": "2024-05-18T20:35:18.787478Z"
    }
   },
   "cell_type": "code",
   "source": [
    "df_test['Time:year'] = df_test['Time'].dt.year\n",
    "df_test['Time:month'] = df_test['Time'].dt.month\n",
    "df_test['Time:day'] = df_test['Time'].dt.day\n",
    "df_test['Time:hour'] = df_test['Time'].dt.hour"
   ],
   "id": "24641025744048c9",
   "outputs": [],
   "execution_count": 12
  },
  {
   "metadata": {
    "ExecuteTime": {
     "end_time": "2024-05-18T20:35:19.744929Z",
     "start_time": "2024-05-18T20:35:19.687094Z"
    }
   },
   "cell_type": "code",
   "source": "df.drop(columns=['ID','trans_num','Time','firstName','lastName'], inplace=True)",
   "id": "81a90b5be9994bb6",
   "outputs": [],
   "execution_count": 13
  },
  {
   "metadata": {
    "ExecuteTime": {
     "end_time": "2024-05-18T20:35:21.319157Z",
     "start_time": "2024-05-18T20:35:21.296626Z"
    }
   },
   "cell_type": "code",
   "source": "df_test.drop(columns=['ID','trans_num','Time','firstName','lastName'], inplace=True)",
   "id": "a1329c673ea31e17",
   "outputs": [],
   "execution_count": 14
  },
  {
   "metadata": {
    "ExecuteTime": {
     "end_time": "2024-05-18T20:35:23.295054Z",
     "start_time": "2024-05-18T20:35:23.285255Z"
    }
   },
   "cell_type": "code",
   "source": "df.dtypes",
   "id": "deafde5dfab2e8d0",
   "outputs": [
    {
     "data": {
      "text/plain": [
       "Card Number            float64\n",
       "merchant                object\n",
       "category                object\n",
       "Amount                 float64\n",
       "is_fraud               float64\n",
       "category_target_enc    float64\n",
       "merchant_target_enc    float64\n",
       "Time:year                int32\n",
       "Time:month               int32\n",
       "Time:day                 int32\n",
       "Time:hour                int32\n",
       "dtype: object"
      ]
     },
     "execution_count": 15,
     "metadata": {},
     "output_type": "execute_result"
    }
   ],
   "execution_count": 15
  },
  {
   "metadata": {
    "ExecuteTime": {
     "end_time": "2024-05-18T20:35:30.376691Z",
     "start_time": "2024-05-18T20:35:30.369308Z"
    }
   },
   "cell_type": "code",
   "source": "df_test.dtypes",
   "id": "42c97baeeeae4e44",
   "outputs": [
    {
     "data": {
      "text/plain": [
       "Card Number            float64\n",
       "merchant                object\n",
       "category                object\n",
       "Amount                 float64\n",
       "is_fraud                 int64\n",
       "category_target_enc    float64\n",
       "merchant_target_enc    float64\n",
       "Time:year                int32\n",
       "Time:month               int32\n",
       "Time:day                 int32\n",
       "Time:hour                int32\n",
       "dtype: object"
      ]
     },
     "execution_count": 16,
     "metadata": {},
     "output_type": "execute_result"
    }
   ],
   "execution_count": 16
  },
  {
   "metadata": {
    "ExecuteTime": {
     "end_time": "2024-05-18T20:36:04.767994Z",
     "start_time": "2024-05-18T20:36:04.746613Z"
    }
   },
   "cell_type": "code",
   "source": [
    "df.drop(columns=['merchant','category'],inplace =True)\n",
    "df_test.drop(columns=['merchant','category'],inplace=True)"
   ],
   "id": "eaca3dee2a41b0c",
   "outputs": [],
   "execution_count": 17
  },
  {
   "metadata": {
    "ExecuteTime": {
     "end_time": "2024-05-18T20:36:07.009159Z",
     "start_time": "2024-05-18T20:36:05.711184Z"
    }
   },
   "cell_type": "code",
   "source": [
    "corr_matrix = df.corr()\n",
    "\n",
    "plt.figure(figsize=(10,6))\n",
    "sns.heatmap(corr_matrix,annot=True,cmap='YlGnBu',fmt='.5f')\n",
    "plt.title('Correlation Matrix')\n",
    "plt.show()"
   ],
   "id": "adbfe3300f5a9f2c",
   "outputs": [
    {
     "data": {
      "text/plain": [
       "<Figure size 1000x600 with 2 Axes>"
      ],
      "image/png": "[encoded data removed]"
     },
     "metadata": {},
     "output_type": "display_data"
    }
   ],
   "execution_count": 18
  },
  {
   "metadata": {},
   "cell_type": "markdown",
   "source": "### *Amount* Feature",
   "id": "b57cb6039efc444c"
  },
  {
   "metadata": {
    "ExecuteTime": {
     "end_time": "2024-05-18T20:36:39.595111Z",
     "start_time": "2024-05-18T20:36:16.729897Z"
    }
   },
   "cell_type": "code",
   "source": [
    "fig, (ax1,ax2) = plt.subplots(nrows=1,ncols=2,figsize=(10,5))\n",
    "sns.histplot(ax=ax1,data=df['Amount'], kde=True)\n",
    "ax1.set_title('Distribution of Amount')\n",
    "ax1.set_xlabel('Amount')\n",
    "ax1.set_ylabel('Distribution of ' + 'Amount')\n",
    "sns.boxplot(data=df['Amount'])\n",
    "ax2.set_title('Distribution of Amount')\n",
    "ax2.set_xlabel('Amount')\n",
    "ax2.set_ylabel('Distribution of ' + 'Amount')\n",
    "plt.show()"
   ],
   "id": "5a81391c39c807c6",
   "outputs": [
    {
     "data": {
      "text/plain": [
       "<Figure size 1000x500 with 2 Axes>"
      ],
      "image/png": "[encoded data removed]"
     },
     "metadata": {},
     "output_type": "display_data"
    }
   ],
   "execution_count": 19
  },
  {
   "metadata": {},
   "cell_type": "code",
   "source": [
    "#z_scores = (df['Amount'] - np.mean(df['Amount'])) / np.std(df['Amount'])\n",
    "#df = df[np.abs(z_scores) <= 3]"
   ],
   "id": "a06925bb2b84ee2d",
   "outputs": [],
   "execution_count": null
  },
  {
   "metadata": {},
   "cell_type": "code",
   "source": [
    "#fig1, (ax1,ax2) = plt.subplots(nrows=1,ncols=2,figsize=(10,5))\n",
    "#sns.histplot(ax=ax1,data=df['Amount'], kde=True)\n",
    "#ax1.set_title('Distribution of Amount')\n",
    "#ax1.set_xlabel('Amount')\n",
    "#ax1.set_ylabel('Distribution of ' + 'Amount')\n",
    "#sns.boxplot(data=df['Amount'])\n",
    "#ax2.set_title('Distribution of Amount')\n",
    "#ax2.set_xlabel('Amount')\n",
    "#ax2.set_ylabel('Distribution of ' + 'Amount')\n",
    "#plt.show()"
   ],
   "id": "e8136213cb1a0fe3",
   "outputs": [],
   "execution_count": null
  },
  {
   "metadata": {
    "ExecuteTime": {
     "end_time": "2024-05-18T20:36:47.949712Z",
     "start_time": "2024-05-18T20:36:47.933513Z"
    }
   },
   "cell_type": "code",
   "source": "df['log_amount'] = np.log(df['Amount'])",
   "id": "6dcb944f9980cb63",
   "outputs": [],
   "execution_count": 20
  },
  {
   "metadata": {
    "ExecuteTime": {
     "end_time": "2024-05-18T20:36:48.696548Z",
     "start_time": "2024-05-18T20:36:48.685205Z"
    }
   },
   "cell_type": "code",
   "source": "df_test['log_amount'] = np.log(df_test['Amount'])",
   "id": "52cf59f76ae71de3",
   "outputs": [],
   "execution_count": 21
  },
  {
   "metadata": {},
   "cell_type": "code",
   "source": [
    "fig2, (ax1,ax2) = plt.subplots(nrows=1,ncols=2,figsize=(10,5))\n",
    "sns.histplot(ax=ax1,data=df['log_amount'], kde=True)\n",
    "ax1.set_title('Distribution of Amount')\n",
    "ax1.set_xlabel('Amount')\n",
    "ax1.set_ylabel('Distribution of ' + 'Amount')\n",
    "sns.boxplot(data=df['log_amount'])\n",
    "ax2.set_title('Distribution of Amount')\n",
    "ax2.set_xlabel('Amount')\n",
    "ax2.set_ylabel('Distribution of ' + 'Amount')\n",
    "plt.show()"
   ],
   "id": "bd6568a6cc510c42",
   "outputs": [],
   "execution_count": null
  },
  {
   "metadata": {
    "ExecuteTime": {
     "end_time": "2024-05-18T20:36:55.310905Z",
     "start_time": "2024-05-18T20:36:55.306290Z"
    }
   },
   "cell_type": "code",
   "source": "df.drop(columns='Amount',inplace=True)",
   "id": "6bd32a1076262337",
   "outputs": [],
   "execution_count": 22
  },
  {
   "metadata": {
    "ExecuteTime": {
     "end_time": "2024-05-18T20:36:56.248241Z",
     "start_time": "2024-05-18T20:36:56.241652Z"
    }
   },
   "cell_type": "code",
   "source": "df_test.drop(columns='Amount',inplace=True)",
   "id": "fbd2dfb1e37f611b",
   "outputs": [],
   "execution_count": 23
  },
  {
   "metadata": {
    "ExecuteTime": {
     "end_time": "2024-05-18T20:37:53.668554Z",
     "start_time": "2024-05-18T20:37:53.662191Z"
    }
   },
   "cell_type": "code",
   "source": "df.dtypes",
   "id": "64193c4ed71b9020",
   "outputs": [
    {
     "data": {
      "text/plain": [
       "Card Number            float64\n",
       "is_fraud               float64\n",
       "category_target_enc    float64\n",
       "merchant_target_enc    float64\n",
       "Time:year                int32\n",
       "Time:month               int32\n",
       "Time:day                 int32\n",
       "Time:hour                int32\n",
       "log_amount             float64\n",
       "dtype: object"
      ]
     },
     "execution_count": 24,
     "metadata": {},
     "output_type": "execute_result"
    }
   ],
   "execution_count": 24
  },
  {
   "metadata": {
    "ExecuteTime": {
     "end_time": "2024-05-18T20:37:56.486561Z",
     "start_time": "2024-05-18T20:37:56.480305Z"
    }
   },
   "cell_type": "code",
   "source": "df_test.dtypes",
   "id": "44c89768c9dc21d4",
   "outputs": [
    {
     "data": {
      "text/plain": [
       "Card Number            float64\n",
       "is_fraud                 int64\n",
       "category_target_enc    float64\n",
       "merchant_target_enc    float64\n",
       "Time:year                int32\n",
       "Time:month               int32\n",
       "Time:day                 int32\n",
       "Time:hour                int32\n",
       "log_amount             float64\n",
       "dtype: object"
      ]
     },
     "execution_count": 25,
     "metadata": {},
     "output_type": "execute_result"
    }
   ],
   "execution_count": 25
  },
  {
   "metadata": {},
   "cell_type": "markdown",
   "source": "### Applying *OverSampling & UnderSampling*",
   "id": "fb86982d18d669be"
  },
  {
   "metadata": {
    "ExecuteTime": {
     "end_time": "2024-05-18T20:38:02.500902Z",
     "start_time": "2024-05-18T20:38:02.496416Z"
    }
   },
   "cell_type": "code",
   "source": [
    "X = df.drop('is_fraud',axis = 1)\n",
    "y = df['is_fraud']"
   ],
   "id": "a9180dd1518421c2",
   "outputs": [],
   "execution_count": 26
  },
  {
   "metadata": {
    "ExecuteTime": {
     "end_time": "2024-05-18T20:38:09.538458Z",
     "start_time": "2024-05-18T20:38:09.534636Z"
    }
   },
   "cell_type": "code",
   "source": [
    "X_test = df_test.drop('is_fraud',axis = 1)\n",
    "y_test = df_test['is_fraud']"
   ],
   "id": "bc2648bec063785d",
   "outputs": [],
   "execution_count": 27
  },
  {
   "metadata": {
    "ExecuteTime": {
     "end_time": "2024-05-18T20:38:17.798Z",
     "start_time": "2024-05-18T20:38:16.341858Z"
    }
   },
   "cell_type": "code",
   "source": [
    "border_smote = BorderlineSMOTE(sampling_strategy=1,random_state=42)\n",
    "smote = SMOTE(sampling_strategy=1,random_state=42)\n",
    "X_resampled, y_resampled = smote.fit_resample(X,y)"
   ],
   "id": "5410bc56db2bba35",
   "outputs": [],
   "execution_count": 28
  },
  {
   "metadata": {
    "ExecuteTime": {
     "end_time": "2024-05-18T20:38:19.923760Z",
     "start_time": "2024-05-18T20:38:19.917060Z"
    }
   },
   "cell_type": "code",
   "source": "X_resampled.dtypes",
   "id": "6efb88fcb17c8cf7",
   "outputs": [
    {
     "data": {
      "text/plain": [
       "Card Number            float64\n",
       "category_target_enc    float64\n",
       "merchant_target_enc    float64\n",
       "Time:year                int32\n",
       "Time:month               int32\n",
       "Time:day                 int32\n",
       "Time:hour                int32\n",
       "log_amount             float64\n",
       "dtype: object"
      ]
     },
     "execution_count": 29,
     "metadata": {},
     "output_type": "execute_result"
    }
   ],
   "execution_count": 29
  },
  {
   "metadata": {
    "ExecuteTime": {
     "end_time": "2024-05-18T20:38:21.172382Z",
     "start_time": "2024-05-18T20:38:21.143054Z"
    }
   },
   "cell_type": "code",
   "source": "y_resampled.value_counts()",
   "id": "549444d26c8873eb",
   "outputs": [
    {
     "data": {
      "text/plain": [
       "is_fraud\n",
       "0.0    996390\n",
       "1.0    996390\n",
       "Name: count, dtype: int64"
      ]
     },
     "execution_count": 30,
     "metadata": {},
     "output_type": "execute_result"
    }
   ],
   "execution_count": 30
  },
  {
   "metadata": {},
   "cell_type": "markdown",
   "source": "# Random Forest",
   "id": "407ea0286829904b"
  },
  {
   "metadata": {},
   "cell_type": "markdown",
   "source": "# XGBoost",
   "id": "7abdc10fc04fa23d"
  },
  {
   "metadata": {
    "ExecuteTime": {
     "end_time": "2024-05-18T20:38:28.538470Z",
     "start_time": "2024-05-18T20:38:28.533225Z"
    }
   },
   "cell_type": "code",
   "source": "xgb_model = xgb.XGBClassifier(objective='binary:logistic',random_state=42)",
   "id": "af9a006c42363f54",
   "outputs": [],
   "execution_count": 31
  },
  {
   "metadata": {
    "ExecuteTime": {
     "end_time": "2024-05-18T20:38:43.487481Z",
     "start_time": "2024-05-18T20:38:30.368693Z"
    }
   },
   "cell_type": "code",
   "source": "xgb_model.fit(X_resampled,y_resampled)",
   "id": "c5efc572d2eba486",
   "outputs": [
    {
     "data": {
      "text/plain": [
       "XGBClassifier(base_score=None, booster=None, callbacks=None,\n",
       "              colsample_bylevel=None, colsample_bynode=None,\n",
       "              colsample_bytree=None, device=None, early_stopping_rounds=None,\n",
       "              enable_categorical=False, eval_metric=None, feature_types=None,\n",
       "              gamma=None, grow_policy=None, importance_type=None,\n",
       "              interaction_constraints=None, learning_rate=None, max_bin=None,\n",
       "              max_cat_threshold=None, max_cat_to_onehot=None,\n",
       "              max_delta_step=None, max_depth=None, max_leaves=None,\n",
       "              min_child_weight=None, missing=nan, monotone_constraints=None,\n",
       "              multi_strategy=None, n_estimators=None, n_jobs=None,\n",
       "              num_parallel_tree=None, random_state=42, ...)"
      ],
      "text/html": [
       "<style>#sk-container-id-1 {\n",
       "  /* Definition of color scheme common for light and dark mode */\n",
       "  --sklearn-color-text: black;\n",
       "  --sklearn-color-line: gray;\n",
       "  /* Definition of color scheme for unfitted estimators */\n",
       "  --sklearn-color-unfitted-level-0: #fff5e6;\n",
       "  --sklearn-color-unfitted-level-1: #f6e4d2;\n",
       "  --sklearn-color-unfitted-level-2: #ffe0b3;\n",
       "  --sklearn-color-unfitted-level-3: chocolate;\n",
       "  /* Definition of color scheme for fitted estimators */\n",
       "  --sklearn-color-fitted-level-0: #f0f8ff;\n",
       "  --sklearn-color-fitted-level-1: #d4ebff;\n",
       "  --sklearn-color-fitted-level-2: #b3dbfd;\n",
       "  --sklearn-color-fitted-level-3: cornflowerblue;\n",
       "\n",
       "  /* Specific color for light theme */\n",
       "  --sklearn-color-text-on-default-background: var(--sg-text-color, var(--theme-code-foreground, var(--jp-content-font-color1, black)));\n",
       "  --sklearn-color-background: var(--sg-background-color, var(--theme-background, var(--jp-layout-color0, white)));\n",
       "  --sklearn-color-border-box: var(--sg-text-color, var(--theme-code-foreground, var(--jp-content-font-color1, black)));\n",
       "  --sklearn-color-icon: #696969;\n",
       "\n",
       "  @media (prefers-color-scheme: dark) {\n",
       "    /* Redefinition of color scheme for dark theme */\n",
       "    --sklearn-color-text-on-default-background: var(--sg-text-color, var(--theme-code-foreground, var(--jp-content-font-color1, white)));\n",
       "    --sklearn-color-background: var(--sg-background-color, var(--theme-background, var(--jp-layout-color0, #111)));\n",
       "    --sklearn-color-border-box: var(--sg-text-color, var(--theme-code-foreground, var(--jp-content-font-color1, white)));\n",
       "    --sklearn-color-icon: #878787;\n",
       "  }\n",
       "}\n",
       "\n",
       "#sk-container-id-1 {\n",
       "  color: var(--sklearn-color-text);\n",
       "}\n",
       "\n",
       "#sk-container-id-1 pre {\n",
       "  padding: 0;\n",
       "}\n",
       "\n",
       "#sk-container-id-1 input.sk-hidden--visually {\n",
       "  border: 0;\n",
       "  clip: rect(1px 1px 1px 1px);\n",
       "  clip: rect(1px, 1px, 1px, 1px);\n",
       "  height: 1px;\n",
       "  margin: -1px;\n",
       "  overflow: hidden;\n",
       "  padding: 0;\n",
       "  position: absolute;\n",
       "  width: 1px;\n",
       "}\n",
       "\n",
       "#sk-container-id-1 div.sk-dashed-wrapped {\n",
       "  border: 1px dashed var(--sklearn-color-line);\n",
       "  margin: 0 0.4em 0.5em 0.4em;\n",
       "  box-sizing: border-box;\n",
       "  padding-bottom: 0.4em;\n",
       "  background-color: var(--sklearn-color-background);\n",
       "}\n",
       "\n",
       "#sk-container-id-1 div.sk-container {\n",
       "  /* jupyter's `normalize.less` sets `[hidden] { display: none; }`\n",
       "     but bootstrap.min.css set `[hidden] { display: none !important; }`\n",
       "     so we also need the `!important` here to be able to override the\n",
       "     default hidden behavior on the sphinx rendered scikit-learn.org.\n",
       "     See: https://github.com/scikit-learn/scikit-learn/issues/21755 */\n",
       "  display: inline-block !important;\n",
       "  position: relative;\n",
       "}\n",
       "\n",
       "#sk-container-id-1 div.sk-text-repr-fallback {\n",
       "  display: none;\n",
       "}\n",
       "\n",
       "div.sk-parallel-item,\n",
       "div.sk-serial,\n",
       "div.sk-item {\n",
       "  /* draw centered vertical line to link estimators */\n",
       "  background-image: linear-gradient(var(--sklearn-color-text-on-default-background), var(--sklearn-color-text-on-default-background));\n",
       "  background-size: 2px 100%;\n",
       "  background-repeat: no-repeat;\n",
       "  background-position: center center;\n",
       "}\n",
       "\n",
       "/* Parallel-specific style estimator block */\n",
       "\n",
       "#sk-container-id-1 div.sk-parallel-item::after {\n",
       "  content: \"\";\n",
       "  width: 100%;\n",
       "  border-bottom: 2px solid var(--sklearn-color-text-on-default-background);\n",
       "  flex-grow: 1;\n",
       "}\n",
       "\n",
       "#sk-container-id-1 div.sk-parallel {\n",
       "  display: flex;\n",
       "  align-items: stretch;\n",
       "  justify-content: center;\n",
       "  background-color: var(--sklearn-color-background);\n",
       "  position: relative;\n",
       "}\n",
       "\n",
       "#sk-container-id-1 div.sk-parallel-item {\n",
       "  display: flex;\n",
       "  flex-direction: column;\n",
       "}\n",
       "\n",
       "#sk-container-id-1 div.sk-parallel-item:first-child::after {\n",
       "  align-self: flex-end;\n",
       "  width: 50%;\n",
       "}\n",
       "\n",
       "#sk-container-id-1 div.sk-parallel-item:last-child::after {\n",
       "  align-self: flex-start;\n",
       "  width: 50%;\n",
       "}\n",
       "\n",
       "#sk-container-id-1 div.sk-parallel-item:only-child::after {\n",
       "  width: 0;\n",
       "}\n",
       "\n",
       "/* Serial-specific style estimator block */\n",
       "\n",
       "#sk-container-id-1 div.sk-serial {\n",
       "  display: flex;\n",
       "  flex-direction: column;\n",
       "  align-items: center;\n",
       "  background-color: var(--sklearn-color-background);\n",
       "  padding-right: 1em;\n",
       "  padding-left: 1em;\n",
       "}\n",
       "\n",
       "\n",
       "/* Toggleable style: style used for estimator/Pipeline/ColumnTransformer box that is\n",
       "clickable and can be expanded/collapsed.\n",
       "- Pipeline and ColumnTransformer use this feature and define the default style\n",
       "- Estimators will overwrite some part of the style using the `sk-estimator` class\n",
       "*/\n",
       "\n",
       "/* Pipeline and ColumnTransformer style (default) */\n",
       "\n",
       "#sk-container-id-1 div.sk-toggleable {\n",
       "  /* Default theme specific background. It is overwritten whether we have a\n",
       "  specific estimator or a Pipeline/ColumnTransformer */\n",
       "  background-color: var(--sklearn-color-background);\n",
       "}\n",
       "\n",
       "/* Toggleable label */\n",
       "#sk-container-id-1 label.sk-toggleable__label {\n",
       "  cursor: pointer;\n",
       "  display: block;\n",
       "  width: 100%;\n",
       "  margin-bottom: 0;\n",
       "  padding: 0.5em;\n",
       "  box-sizing: border-box;\n",
       "  text-align: center;\n",
       "}\n",
       "\n",
       "#sk-container-id-1 label.sk-toggleable__label-arrow:before {\n",
       "  /* Arrow on the left of the label */\n",
       "  content: \"▸\";\n",
       "  float: left;\n",
       "  margin-right: 0.25em;\n",
       "  color: var(--sklearn-color-icon);\n",
       "}\n",
       "\n",
       "#sk-container-id-1 label.sk-toggleable__label-arrow:hover:before {\n",
       "  color: var(--sklearn-color-text);\n",
       "}\n",
       "\n",
       "/* Toggleable content - dropdown */\n",
       "\n",
       "#sk-container-id-1 div.sk-toggleable__content {\n",
       "  max-height: 0;\n",
       "  max-width: 0;\n",
       "  overflow: hidden;\n",
       "  text-align: left;\n",
       "  /* unfitted */\n",
       "  background-color: var(--sklearn-color-unfitted-level-0);\n",
       "}\n",
       "\n",
       "#sk-container-id-1 div.sk-toggleable__content.fitted {\n",
       "  /* fitted */\n",
       "  background-color: var(--sklearn-color-fitted-level-0);\n",
       "}\n",
       "\n",
       "#sk-container-id-1 div.sk-toggleable__content pre {\n",
       "  margin: 0.2em;\n",
       "  border-radius: 0.25em;\n",
       "  color: var(--sklearn-color-text);\n",
       "  /* unfitted */\n",
       "  background-color: var(--sklearn-color-unfitted-level-0);\n",
       "}\n",
       "\n",
       "#sk-container-id-1 div.sk-toggleable__content.fitted pre {\n",
       "  /* unfitted */\n",
       "  background-color: var(--sklearn-color-fitted-level-0);\n",
       "}\n",
       "\n",
       "#sk-container-id-1 input.sk-toggleable__control:checked~div.sk-toggleable__content {\n",
       "  /* Expand drop-down */\n",
       "  max-height: 200px;\n",
       "  max-width: 100%;\n",
       "  overflow: auto;\n",
       "}\n",
       "\n",
       "#sk-container-id-1 input.sk-toggleable__control:checked~label.sk-toggleable__label-arrow:before {\n",
       "  content: \"▾\";\n",
       "}\n",
       "\n",
       "/* Pipeline/ColumnTransformer-specific style */\n",
       "\n",
       "#sk-container-id-1 div.sk-label input.sk-toggleable__control:checked~label.sk-toggleable__label {\n",
       "  color: var(--sklearn-color-text);\n",
       "  background-color: var(--sklearn-color-unfitted-level-2);\n",
       "}\n",
       "\n",
       "#sk-container-id-1 div.sk-label.fitted input.sk-toggleable__control:checked~label.sk-toggleable__label {\n",
       "  background-color: var(--sklearn-color-fitted-level-2);\n",
       "}\n",
       "\n",
       "/* Estimator-specific style */\n",
       "\n",
       "/* Colorize estimator box */\n",
       "#sk-container-id-1 div.sk-estimator input.sk-toggleable__control:checked~label.sk-toggleable__label {\n",
       "  /* unfitted */\n",
       "  background-color: var(--sklearn-color-unfitted-level-2);\n",
       "}\n",
       "\n",
       "#sk-container-id-1 div.sk-estimator.fitted input.sk-toggleable__control:checked~label.sk-toggleable__label {\n",
       "  /* fitted */\n",
       "  background-color: var(--sklearn-color-fitted-level-2);\n",
       "}\n",
       "\n",
       "#sk-container-id-1 div.sk-label label.sk-toggleable__label,\n",
       "#sk-container-id-1 div.sk-label label {\n",
       "  /* The background is the default theme color */\n",
       "  color: var(--sklearn-color-text-on-default-background);\n",
       "}\n",
       "\n",
       "/* On hover, darken the color of the background */\n",
       "#sk-container-id-1 div.sk-label:hover label.sk-toggleable__label {\n",
       "  color: var(--sklearn-color-text);\n",
       "  background-color: var(--sklearn-color-unfitted-level-2);\n",
       "}\n",
       "\n",
       "/* Label box, darken color on hover, fitted */\n",
       "#sk-container-id-1 div.sk-label.fitted:hover label.sk-toggleable__label.fitted {\n",
       "  color: var(--sklearn-color-text);\n",
       "  background-color: var(--sklearn-color-fitted-level-2);\n",
       "}\n",
       "\n",
       "/* Estimator label */\n",
       "\n",
       "#sk-container-id-1 div.sk-label label {\n",
       "  font-family: monospace;\n",
       "  font-weight: bold;\n",
       "  display: inline-block;\n",
       "  line-height: 1.2em;\n",
       "}\n",
       "\n",
       "#sk-container-id-1 div.sk-label-container {\n",
       "  text-align: center;\n",
       "}\n",
       "\n",
       "/* Estimator-specific */\n",
       "#sk-container-id-1 div.sk-estimator {\n",
       "  font-family: monospace;\n",
       "  border: 1px dotted var(--sklearn-color-border-box);\n",
       "  border-radius: 0.25em;\n",
       "  box-sizing: border-box;\n",
       "  margin-bottom: 0.5em;\n",
       "  /* unfitted */\n",
       "  background-color: var(--sklearn-color-unfitted-level-0);\n",
       "}\n",
       "\n",
       "#sk-container-id-1 div.sk-estimator.fitted {\n",
       "  /* fitted */\n",
       "  background-color: var(--sklearn-color-fitted-level-0);\n",
       "}\n",
       "\n",
       "/* on hover */\n",
       "#sk-container-id-1 div.sk-estimator:hover {\n",
       "  /* unfitted */\n",
       "  background-color: var(--sklearn-color-unfitted-level-2);\n",
       "}\n",
       "\n",
       "#sk-container-id-1 div.sk-estimator.fitted:hover {\n",
       "  /* fitted */\n",
       "  background-color: var(--sklearn-color-fitted-level-2);\n",
       "}\n",
       "\n",
       "/* Specification for estimator info (e.g. \"i\" and \"?\") */\n",
       "\n",
       "/* Common style for \"i\" and \"?\" */\n",
       "\n",
       ".sk-estimator-doc-link,\n",
       "a:link.sk-estimator-doc-link,\n",
       "a:visited.sk-estimator-doc-link {\n",
       "  float: right;\n",
       "  font-size: smaller;\n",
       "  line-height: 1em;\n",
       "  font-family: monospace;\n",
       "  background-color: var(--sklearn-color-background);\n",
       "  border-radius: 1em;\n",
       "  height: 1em;\n",
       "  width: 1em;\n",
       "  text-decoration: none !important;\n",
       "  margin-left: 1ex;\n",
       "  /* unfitted */\n",
       "  border: var(--sklearn-color-unfitted-level-1) 1pt solid;\n",
       "  color: var(--sklearn-color-unfitted-level-1);\n",
       "}\n",
       "\n",
       ".sk-estimator-doc-link.fitted,\n",
       "a:link.sk-estimator-doc-link.fitted,\n",
       "a:visited.sk-estimator-doc-link.fitted {\n",
       "  /* fitted */\n",
       "  border: var(--sklearn-color-fitted-level-1) 1pt solid;\n",
       "  color: var(--sklearn-color-fitted-level-1);\n",
       "}\n",
       "\n",
       "/* On hover */\n",
       "div.sk-estimator:hover .sk-estimator-doc-link:hover,\n",
       ".sk-estimator-doc-link:hover,\n",
       "div.sk-label-container:hover .sk-estimator-doc-link:hover,\n",
       ".sk-estimator-doc-link:hover {\n",
       "  /* unfitted */\n",
       "  background-color: var(--sklearn-color-unfitted-level-3);\n",
       "  color: var(--sklearn-color-background);\n",
       "  text-decoration: none;\n",
       "}\n",
       "\n",
       "div.sk-estimator.fitted:hover .sk-estimator-doc-link.fitted:hover,\n",
       ".sk-estimator-doc-link.fitted:hover,\n",
       "div.sk-label-container:hover .sk-estimator-doc-link.fitted:hover,\n",
       ".sk-estimator-doc-link.fitted:hover {\n",
       "  /* fitted */\n",
       "  background-color: var(--sklearn-color-fitted-level-3);\n",
       "  color: var(--sklearn-color-background);\n",
       "  text-decoration: none;\n",
       "}\n",
       "\n",
       "/* Span, style for the box shown on hovering the info icon */\n",
       ".sk-estimator-doc-link span {\n",
       "  display: none;\n",
       "  z-index: 9999;\n",
       "  position: relative;\n",
       "  font-weight: normal;\n",
       "  right: .2ex;\n",
       "  padding: .5ex;\n",
       "  margin: .5ex;\n",
       "  width: min-content;\n",
       "  min-width: 20ex;\n",
       "  max-width: 50ex;\n",
       "  color: var(--sklearn-color-text);\n",
       "  box-shadow: 2pt 2pt 4pt #999;\n",
       "  /* unfitted */\n",
       "  background: var(--sklearn-color-unfitted-level-0);\n",
       "  border: .5pt solid var(--sklearn-color-unfitted-level-3);\n",
       "}\n",
       "\n",
       ".sk-estimator-doc-link.fitted span {\n",
       "  /* fitted */\n",
       "  background: var(--sklearn-color-fitted-level-0);\n",
       "  border: var(--sklearn-color-fitted-level-3);\n",
       "}\n",
       "\n",
       ".sk-estimator-doc-link:hover span {\n",
       "  display: block;\n",
       "}\n",
       "\n",
       "/* \"?\"-specific style due to the `<a>` HTML tag */\n",
       "\n",
       "#sk-container-id-1 a.estimator_doc_link {\n",
       "  float: right;\n",
       "  font-size: 1rem;\n",
       "  line-height: 1em;\n",
       "  font-family: monospace;\n",
       "  background-color: var(--sklearn-color-background);\n",
       "  border-radius: 1rem;\n",
       "  height: 1rem;\n",
       "  width: 1rem;\n",
       "  text-decoration: none;\n",
       "  /* unfitted */\n",
       "  color: var(--sklearn-color-unfitted-level-1);\n",
       "  border: var(--sklearn-color-unfitted-level-1) 1pt solid;\n",
       "}\n",
       "\n",
       "#sk-container-id-1 a.estimator_doc_link.fitted {\n",
       "  /* fitted */\n",
       "  border: var(--sklearn-color-fitted-level-1) 1pt solid;\n",
       "  color: var(--sklearn-color-fitted-level-1);\n",
       "}\n",
       "\n",
       "/* On hover */\n",
       "#sk-container-id-1 a.estimator_doc_link:hover {\n",
       "  /* unfitted */\n",
       "  background-color: var(--sklearn-color-unfitted-level-3);\n",
       "  color: var(--sklearn-color-background);\n",
       "  text-decoration: none;\n",
       "}\n",
       "\n",
       "#sk-container-id-1 a.estimator_doc_link.fitted:hover {\n",
       "  /* fitted */\n",
       "  background-color: var(--sklearn-color-fitted-level-3);\n",
       "}\n",
       "</style><div id=\"sk-container-id-1\" class=\"sk-top-container\"><div class=\"sk-text-repr-fallback\"><pre>XGBClassifier(base_score=None, booster=None, callbacks=None,\n",
       "              colsample_bylevel=None, colsample_bynode=None,\n",
       "              colsample_bytree=None, device=None, early_stopping_rounds=None,\n",
       "              enable_categorical=False, eval_metric=None, feature_types=None,\n",
       "              gamma=None, grow_policy=None, importance_type=None,\n",
       "              interaction_constraints=None, learning_rate=None, max_bin=None,\n",
       "              max_cat_threshold=None, max_cat_to_onehot=None,\n",
       "              max_delta_step=None, max_depth=None, max_leaves=None,\n",
       "              min_child_weight=None, missing=nan, monotone_constraints=None,\n",
       "              multi_strategy=None, n_estimators=None, n_jobs=None,\n",
       "              num_parallel_tree=None, random_state=42, ...)</pre><b>In a Jupyter environment, please rerun this cell to show the HTML representation or trust the notebook. <br />On GitHub, the HTML representation is unable to render, please try loading this page with nbviewer.org.</b></div><div class=\"sk-container\" hidden><div class=\"sk-item\"><div class=\"sk-estimator fitted sk-toggleable\"><input class=\"sk-toggleable__control sk-hidden--visually\" id=\"sk-estimator-id-1\" type=\"checkbox\" checked><label for=\"sk-estimator-id-1\" class=\"sk-toggleable__label fitted sk-toggleable__label-arrow fitted\">&nbsp;XGBClassifier<span class=\"sk-estimator-doc-link fitted\">i<span>Fitted</span></span></label><div class=\"sk-toggleable__content fitted\"><pre>XGBClassifier(base_score=None, booster=None, callbacks=None,\n",
       "              colsample_bylevel=None, colsample_bynode=None,\n",
       "              colsample_bytree=None, device=None, early_stopping_rounds=None,\n",
       "              enable_categorical=False, eval_metric=None, feature_types=None,\n",
       "              gamma=None, grow_policy=None, importance_type=None,\n",
       "              interaction_constraints=None, learning_rate=None, max_bin=None,\n",
       "              max_cat_threshold=None, max_cat_to_onehot=None,\n",
       "              max_delta_step=None, max_depth=None, max_leaves=None,\n",
       "              min_child_weight=None, missing=nan, monotone_constraints=None,\n",
       "              multi_strategy=None, n_estimators=None, n_jobs=None,\n",
       "              num_parallel_tree=None, random_state=42, ...)</pre></div> </div></div></div></div>"
      ]
     },
     "execution_count": 32,
     "metadata": {},
     "output_type": "execute_result"
    }
   ],
   "execution_count": 32
  },
  {
   "metadata": {
    "ExecuteTime": {
     "end_time": "2024-05-18T20:38:56.945354Z",
     "start_time": "2024-05-18T20:38:55.868691Z"
    }
   },
   "cell_type": "code",
   "source": "xgb_predictions = xgb_model.predict(X_test)",
   "id": "4fe75245e9630a3e",
   "outputs": [],
   "execution_count": 33
  },
  {
   "metadata": {
    "ExecuteTime": {
     "end_time": "2024-05-18T20:39:02.342386Z",
     "start_time": "2024-05-18T20:39:01.188422Z"
    }
   },
   "cell_type": "code",
   "source": [
    "xgb_Accuracy_Score = accuracy_score(y_test, xgb_predictions)\n",
    "xgb_F1_Score = f1_score(y_test, xgb_predictions)\n",
    "xgb_Confusion_Matrix = confusion_matrix(y_test,xgb_predictions)\n",
    "xgb_Recall = recall_score(y_test,xgb_predictions)\n",
    "xgb_Precision = precision_score(y_test,xgb_predictions)\n",
    "xgb_roc_auc_score = roc_auc_score(y_test,xgb_predictions)\n",
    "\n",
    "xgb_scores = [(xgb_Recall,xgb_Precision,xgb_Accuracy_Score,xgb_F1_Score,xgb_roc_auc_score)]\n",
    "xgb_df = pd.DataFrame(data = xgb_scores,columns=['Recall','Precision','Accuracy','F1','ROC-AUC'])\n",
    "xgb_df.insert(0,'Model','XGB')\n",
    "xgb_df"
   ],
   "id": "ba3723cd7c2f8e24",
   "outputs": [
    {
     "data": {
      "text/plain": [
       "  Model    Recall  Precision  Accuracy        F1   ROC-AUC\n",
       "0   XGB  0.770163   0.511455  0.996273  0.614698  0.883656"
      ],
      "text/html": [
       "<div>\n",
       "<style scoped>\n",
       "    .dataframe tbody tr th:only-of-type {\n",
       "        vertical-align: middle;\n",
       "    }\n",
       "\n",
       "    .dataframe tbody tr th {\n",
       "        vertical-align: top;\n",
       "    }\n",
       "\n",
       "    .dataframe thead th {\n",
       "        text-align: right;\n",
       "    }\n",
       "</style>\n",
       "<table border=\"1\" class=\"dataframe\">\n",
       "  <thead>\n",
       "    <tr style=\"text-align: right;\">\n",
       "      <th></th>\n",
       "      <th>Model</th>\n",
       "      <th>Recall</th>\n",
       "      <th>Precision</th>\n",
       "      <th>Accuracy</th>\n",
       "      <th>F1</th>\n",
       "      <th>ROC-AUC</th>\n",
       "    </tr>\n",
       "  </thead>\n",
       "  <tbody>\n",
       "    <tr>\n",
       "      <th>0</th>\n",
       "      <td>XGB</td>\n",
       "      <td>0.770163</td>\n",
       "      <td>0.511455</td>\n",
       "      <td>0.996273</td>\n",
       "      <td>0.614698</td>\n",
       "      <td>0.883656</td>\n",
       "    </tr>\n",
       "  </tbody>\n",
       "</table>\n",
       "</div>"
      ]
     },
     "execution_count": 34,
     "metadata": {},
     "output_type": "execute_result"
    }
   ],
   "execution_count": 34
  },
  {
   "metadata": {
    "ExecuteTime": {
     "end_time": "2024-05-18T20:39:43.893497Z",
     "start_time": "2024-05-18T20:39:43.873254Z"
    }
   },
   "cell_type": "code",
   "source": [
    "import pickle\n",
    "\n",
    "# Saving the model\n",
    "columns_after_encoding = X.columns.tolist()\n",
    "\n",
    "\n",
    "with open('xgb_model.pkl', 'wb') as file:\n",
    "    pickle.dump(xgb_model, file)\n",
    "with open('cat_targ_enc.pkl', 'wb') as file:\n",
    "    pickle.dump(cat_targ_enc, file)\n",
    "with open('merchant_targ_enc.pkl', 'wb') as file:\n",
    "    pickle.dump(merchant_targ_enc, file)\n",
    "with open('columns_after_encoding.pkl', 'wb') as file:\n",
    "    pickle.dump(columns_after_encoding, file)\n",
    "    \n",
    "\n",
    "\n",
    "    "
   ],
   "id": "2560b802d0091784",
   "outputs": [],
   "execution_count": 35
  },
  {
   "metadata": {},
   "cell_type": "code",
   "outputs": [],
   "execution_count": null,
   "source": "",
   "id": "422ee253c1895749"
  }
 ],
 "metadata": {
  "kernelspec": {
   "display_name": "Python 3",
   "language": "python",
   "name": "python3"
  },
  "language_info": {
   "codemirror_mode": {
    "name": "ipython",
    "version": 2
   },
   "file_extension": ".py",
   "mimetype": "text/x-python",
   "name": "python",
   "nbconvert_exporter": "python",
   "pygments_lexer": "ipython2",
   "version": "2.7.6"
  }
 },
 "nbformat": 4,
 "nbformat_minor": 5
}
