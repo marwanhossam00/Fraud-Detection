{
 "cells": [
  {
   "cell_type": "code",
   "execution_count": 1,
   "metadata": {},
   "outputs": [],
   "source": [
    "import numpy as np\n",
    "import pandas as pd\n",
    "from sklearn.model_selection import train_test_split\n",
    "from imblearn.under_sampling import RandomUnderSampler\n",
    "from sklearn.ensemble import RandomForestClassifier\n",
    "from sklearn.metrics import accuracy_score, precision_score, recall_score, f1_score"
   ]
  },
  {
   "cell_type": "code",
   "execution_count": 2,
   "metadata": {},
   "outputs": [],
   "source": [
    "train_data = pd.read_csv('C:\\\\Users\\\\HP\\\\Desktop\\\\fraudTrain.csv')\n",
    "test_data = pd.read_excel('C:\\\\Users\\\\HP\\\\Desktop\\\\fraudTest.xlsx')"
   ]
  },
  {
   "cell_type": "code",
   "execution_count": 3,
   "metadata": {},
   "outputs": [],
   "source": [
    "train_data.dropna(axis=0, how='any',inplace=True)"
   ]
  },
  {
   "cell_type": "code",
   "execution_count": 4,
   "metadata": {},
   "outputs": [],
   "source": [
    "train_data['Time'] = pd.to_datetime(train_data['Time'])\n",
    "test_data['Time'] = pd.to_datetime(test_data['Time'])\n"
   ]
  },
  {
   "cell_type": "code",
   "execution_count": 5,
   "metadata": {},
   "outputs": [],
   "source": [
    "train_data['Day'] = train_data['Time'].dt.day\n",
    "train_data['Month'] = train_data['Time'].dt.month\n",
    "train_data['Year'] = train_data['Time'].dt.year\n",
    "\n",
    "\n",
    "test_data['Day'] = test_data['Time'].dt.day\n",
    "test_data['Month'] = test_data['Time'].dt.month\n",
    "test_data['Year'] = test_data['Time'].dt.year\n",
    "\n"
   ]
  },
  {
   "cell_type": "code",
   "execution_count": 6,
   "metadata": {},
   "outputs": [],
   "source": [
    "train_data['Hour'] = train_data['Time'].dt.hour\n",
    "train_data['Minute'] = train_data['Time'].dt.minute\n",
    "\n",
    "test_data['Hour'] = test_data['Time'].dt.hour\n",
    "test_data['Minute'] = test_data['Time'].dt.minute\n"
   ]
  },
  {
   "cell_type": "code",
   "execution_count": 7,
   "metadata": {},
   "outputs": [],
   "source": [
    "dummies = pd.get_dummies(train_data[['merchant','category']])\n",
    "newdata = pd.concat([train_data, dummies], axis = 1)\n",
    "x = newdata.drop(columns=['ID','Time','firstName','lastName','trans_num','is_fraud','merchant','category'])\n",
    "y = newdata['is_fraud']"
   ]
  },
  {
   "cell_type": "code",
   "execution_count": 8,
   "metadata": {},
   "outputs": [],
   "source": [
    "dummies2 = pd.get_dummies(test_data[['merchant','category']])\n",
    "datatest = pd.concat([test_data, dummies2], axis = 1)\n",
    "x_test = datatest.drop(columns=['ID','Time','firstName','lastName','trans_num','is_fraud','merchant','category'])\n",
    "y_test = datatest['is_fraud']"
   ]
  },
  {
   "cell_type": "code",
   "execution_count": 9,
   "metadata": {},
   "outputs": [],
   "source": [
    "ss = 0.05\n",
    "rus = RandomUnderSampler(sampling_strategy=ss)\n",
    "x_train, y_train = rus.fit_resample(x,y)"
   ]
  },
  {
   "cell_type": "code",
   "execution_count": 10,
   "metadata": {},
   "outputs": [],
   "source": [
    "model = RandomForestClassifier()\n",
    "model.fit(x_train,y_train)\n",
    "y_pred = model.predict(x_train)\n",
    "yy = model.predict(x_test)"
   ]
  },
  {
   "cell_type": "code",
   "execution_count": 11,
   "metadata": {},
   "outputs": [
    {
     "name": "stdout",
     "output_type": "stream",
     "text": [
      "Accuracy: 0.9999916647912447\n",
      "Precision: 1.0\n",
      "Recall: 0.9998249606161387\n",
      "F1 Score: 0.9999124726477024\n",
      "TP: 5712\n",
      "TN: 114260\n",
      "FP: 0\n",
      "FN: 1\n",
      "#########################################\n"
     ]
    }
   ],
   "source": [
    "accuracy = accuracy_score(y_train, y_pred)\n",
    "precision = precision_score(y_train, y_pred)\n",
    "recall = recall_score(y_train, y_pred)\n",
    "f1 = f1_score(y_train, y_pred)\n",
    "TP = np.sum(np.logical_and(y_pred == 1, y_train == 1))\n",
    "TN = np.sum(np.logical_and(y_pred == 0, y_train == 0))\n",
    "FP = np.sum(np.logical_and(y_pred == 1, y_train == 0))\n",
    "FN = np.sum(np.logical_and(y_pred == 0, y_train == 1))\n",
    "\n",
    "print(\"Accuracy:\", accuracy)\n",
    "print(\"Precision:\", precision)\n",
    "print(\"Recall:\", recall)\n",
    "print(\"F1 Score:\", f1)\n",
    "print(\"TP:\", TP)\n",
    "print(\"TN:\", TN)\n",
    "print(\"FP:\", FP)\n",
    "print(\"FN:\", FN)\n",
    "print(\"#########################################\")"
   ]
  },
  {
   "cell_type": "code",
   "execution_count": 12,
   "metadata": {},
   "outputs": [
    {
     "name": "stdout",
     "output_type": "stream",
     "text": [
      "Accuracy2: 0.9975869099310982\n",
      "Precision2: 0.6676396997497915\n",
      "Recall2: 0.7463869463869464\n",
      "F1 Score2: 0.704820603125688\n",
      "TP2: 1601\n",
      "TN2: 552777\n",
      "FP2: 797\n",
      "FN2: 544\n"
     ]
    }
   ],
   "source": [
    "accuracy2 = accuracy_score(y_test, yy)\n",
    "precision2 = precision_score(y_test, yy)\n",
    "recall2 = recall_score(y_test, yy)\n",
    "f12 = f1_score(y_test, yy)\n",
    "#########################################\n",
    "TP2 = np.sum(np.logical_and(yy == 1, y_test == 1))\n",
    "TN2 = np.sum(np.logical_and(yy == 0, y_test == 0))\n",
    "FP2 = np.sum(np.logical_and(yy == 1, y_test == 0))\n",
    "FN2 = np.sum(np.logical_and(yy == 0, y_test == 1))\n",
    "#########################################\n",
    "print(\"Accuracy2:\", accuracy2)\n",
    "print(\"Precision2:\", precision2)\n",
    "print(\"Recall2:\", recall2)\n",
    "print(\"F1 Score2:\", f12)\n",
    "print(\"TP2:\", TP2)\n",
    "print(\"TN2:\", TN2)\n",
    "print(\"FP2:\", FP2)\n",
    "print(\"FN2:\", FN2)"
   ]
  }
 ],
 "metadata": {
  "kernelspec": {
   "display_name": "base",
   "language": "python",
   "name": "python3"
  },
  "language_info": {
   "codemirror_mode": {
    "name": "ipython",
    "version": 3
   },
   "file_extension": ".py",
   "mimetype": "text/x-python",
   "name": "python",
   "nbconvert_exporter": "python",
   "pygments_lexer": "ipython3",
   "version": "3.11.7"
  }
 },
 "nbformat": 4,
 "nbformat_minor": 2
}
