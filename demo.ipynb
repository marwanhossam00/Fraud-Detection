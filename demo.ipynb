{
 "cells": [
  {
   "cell_type": "code",
   "id": "initial_id",
   "metadata": {
    "collapsed": true,
    "ExecuteTime": {
     "end_time": "2024-05-14T17:19:11.023134Z",
     "start_time": "2024-05-14T17:19:10.362351Z"
    }
   },
   "source": [
    "import numpy as np\n",
    "import pandas as pd\n",
    "from matplotlib import pyplot as plt\n",
    "import seaborn as sns\n",
    "from sklearn import preprocessing\n",
    "from sklearn.model_selection import GridSearchCV\n",
    "from sklearn.model_selection import train_test_split\n",
    "from sklearn.linear_model import LogisticRegression\n",
    "from sklearn.preprocessing import LabelEncoder\n",
    "from sklearn.tree import DecisionTreeClassifier\n",
    "from sklearn.svm import SVC\n",
    "from sklearn.metrics import jaccard_score\n",
    "from sklearn.metrics import f1_score\n",
    "from sklearn.metrics import confusion_matrix, accuracy_score, precision_score, recall_score,ConfusionMatrixDisplay\n",
    "import openpyxl\n",
    "\n",
    "\n",
    "pd.options.mode.copy_on_write = True"
   ],
   "outputs": [],
   "execution_count": 1
  },
  {
   "metadata": {
    "ExecuteTime": {
     "end_time": "2024-05-14T18:03:01.458203Z",
     "start_time": "2024-05-14T18:02:58.166038Z"
    }
   },
   "cell_type": "code",
   "source": "df = pd.read_csv('fraudTrain.csv')",
   "id": "eb4c0e1f3a73d3a0",
   "outputs": [],
   "execution_count": 5
  },
  {
   "metadata": {
    "ExecuteTime": {
     "end_time": "2024-05-14T18:23:38.985648Z",
     "start_time": "2024-05-14T18:23:38.917074Z"
    }
   },
   "cell_type": "code",
   "source": "df.drop(columns=['ID','trans_num'],inplace=True)",
   "id": "c8de2c91f1a949b2",
   "outputs": [],
   "execution_count": 7
  },
  {
   "metadata": {},
   "cell_type": "markdown",
   "source": "# Exploring *Names* features",
   "id": "6af83567a41bdf8c"
  },
  {
   "metadata": {
    "ExecuteTime": {
     "end_time": "2024-05-14T18:23:53.681078Z",
     "start_time": "2024-05-14T18:23:53.319230Z"
    }
   },
   "cell_type": "code",
   "source": "df['Name'] = df['firstName'] + ' ' + df['lastName']",
   "id": "b0815f52a5a55b53",
   "outputs": [],
   "execution_count": 8
  },
  {
   "metadata": {
    "ExecuteTime": {
     "end_time": "2024-05-14T18:24:57.929620Z",
     "start_time": "2024-05-14T18:24:57.744979Z"
    }
   },
   "cell_type": "code",
   "source": [
    "print(df['Name'].nunique())\n",
    "print(df['firstName'].nunique())\n",
    "print(df['lastName'].nunique())"
   ],
   "id": "b910969394d4c8ca",
   "outputs": [
    {
     "name": "stdout",
     "output_type": "stream",
     "text": [
      "954\n",
      "347\n",
      "478\n"
     ]
    }
   ],
   "execution_count": 10
  },
  {
   "metadata": {
    "ExecuteTime": {
     "end_time": "2024-05-14T18:31:03.611080Z",
     "start_time": "2024-05-14T18:31:03.601083Z"
    }
   },
   "cell_type": "code",
   "source": "fraudulent_df = df.loc[df['is_fraud'] == 1]",
   "id": "67ea37fa4bf4184a",
   "outputs": [],
   "execution_count": 13
  },
  {
   "metadata": {
    "ExecuteTime": {
     "end_time": "2024-05-14T18:33:21.775790Z",
     "start_time": "2024-05-14T18:33:21.768784Z"
    }
   },
   "cell_type": "code",
   "source": "fraudulent_df['Name'].nunique()",
   "id": "a21fd28a1ac3fa85",
   "outputs": [
    {
     "data": {
      "text/plain": [
       "575"
      ]
     },
     "execution_count": 15,
     "metadata": {},
     "output_type": "execute_result"
    }
   ],
   "execution_count": 15
  },
  {
   "metadata": {},
   "cell_type": "code",
   "outputs": [],
   "execution_count": null,
   "source": "",
   "id": "37ab94e944681960"
  }
 ],
 "metadata": {
  "kernelspec": {
   "display_name": "Python 3",
   "language": "python",
   "name": "python3"
  },
  "language_info": {
   "codemirror_mode": {
    "name": "ipython",
    "version": 2
   },
   "file_extension": ".py",
   "mimetype": "text/x-python",
   "name": "python",
   "nbconvert_exporter": "python",
   "pygments_lexer": "ipython2",
   "version": "2.7.6"
  }
 },
 "nbformat": 4,
 "nbformat_minor": 5
}
